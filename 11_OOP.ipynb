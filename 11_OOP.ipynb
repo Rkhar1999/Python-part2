{
 "cells": [
  {
   "cell_type": "markdown",
   "id": "486f65fd",
   "metadata": {},
   "source": [
    "# OOP"
   ]
  },
  {
   "cell_type": "markdown",
   "id": "433a65c3",
   "metadata": {},
   "source": [
    "### Definition of Object-Oriented Programming (OOP)\n",
    "**Object-Oriented Programming (OOP)** is a programming paradigm based on the concept of objects, which can contain both data (attributes) and methods (functions). OOP focuses on organizing software around objects, allowing for modular, reusable, and maintainable code by leveraging four key principles: encapsulation, inheritance, polymorphism, and abstraction.\n",
    "\n",
    "### Definition of Class\n",
    "A **class** is a blueprint or template used to define the structure and behavior of objects. It specifies the attributes (data) and methods (functions) that the objects created from it will have. Classes serve as a way to group related data and behavior together.\n",
    "\n",
    "### Definition of Object\n",
    "An **object** is an instance of a class. It is a concrete entity that holds actual values for the attributes defined in the class and can invoke the methods provided by the class. Each object has its own state, represented by its attribute values, and behavior, defined by its methods."
   ]
  },
  {
   "cell_type": "code",
   "execution_count": null,
   "id": "43a6e834-36d3-4269-9f1b-35b3f9f6a1a0",
   "metadata": {},
   "outputs": [],
   "source": [
    "Cellphone  === Blue print\n",
    "\n",
    "1)information\n",
    "color \n",
    "weight\n",
    "length \n",
    "screen touch \n",
    "\n",
    "2)Functionalities \n",
    "\n",
    "send a text \n",
    "calling \n",
    "\n",
    "\n",
    "\n",
    " class  "
   ]
  },
  {
   "cell_type": "code",
   "execution_count": null,
   "id": "6bebd6a6-129f-47c1-8d16-25ca31c6a7c4",
   "metadata": {},
   "outputs": [],
   "source": [
    "samsung = Cellphone()"
   ]
  },
  {
   "cell_type": "code",
   "execution_count": null,
   "id": "5269374f-2c00-4a61-b965-f1431e785ddc",
   "metadata": {},
   "outputs": [],
   "source": [
    "apple_phone"
   ]
  },
  {
   "cell_type": "code",
   "execution_count": null,
   "id": "daa73cdd-e532-4057-9fc0-f2e7762bde37",
   "metadata": {},
   "outputs": [],
   "source": []
  },
  {
   "cell_type": "code",
   "execution_count": null,
   "id": "1806b54d-31a0-4b0a-8a7d-a1e0294065d3",
   "metadata": {},
   "outputs": [],
   "source": []
  },
  {
   "cell_type": "code",
   "execution_count": null,
   "id": "1b1978ca-48a2-47ee-b0d7-611bd2558c3d",
   "metadata": {},
   "outputs": [],
   "source": []
  },
  {
   "cell_type": "code",
   "execution_count": null,
   "id": "ebc73ba6-f106-4833-8ba8-1b73655eb993",
   "metadata": {},
   "outputs": [],
   "source": []
  },
  {
   "cell_type": "code",
   "execution_count": 50,
   "id": "13523b5e-8da4-459c-b7d4-f3b0d60d6052",
   "metadata": {},
   "outputs": [],
   "source": [
    "l = [1,2,3,4,5]"
   ]
  },
  {
   "cell_type": "code",
   "execution_count": 52,
   "id": "57a99207-b318-477f-8323-85518cbef359",
   "metadata": {},
   "outputs": [
    {
     "data": {
      "text/plain": [
       "[1, 2, 3, 4, 5]"
      ]
     },
     "execution_count": 52,
     "metadata": {},
     "output_type": "execute_result"
    }
   ],
   "source": [
    "# l  of class list "
   ]
  },
  {
   "cell_type": "code",
   "execution_count": 54,
   "id": "817045ad-a00b-463c-a5ea-0a7a3e844f0c",
   "metadata": {},
   "outputs": [
    {
     "data": {
      "text/plain": [
       "[1, 2, 3, 4, 5]"
      ]
     },
     "execution_count": 54,
     "metadata": {},
     "output_type": "execute_result"
    }
   ],
   "source": [
    "l"
   ]
  },
  {
   "cell_type": "code",
   "execution_count": null,
   "id": "749a6d48",
   "metadata": {},
   "outputs": [],
   "source": []
  },
  {
   "cell_type": "markdown",
   "id": "14732350",
   "metadata": {},
   "source": [
    "### Class and Object Explained with the \"Building 100 Villas\" Example:\n",
    "\n",
    "#### Class:\n",
    "Imagine you are an architect, and you want to build 100 villas in a housing project. Instead of designing each villa separately, you create a **blueprint** that contains the general design of the villa. This blueprint specifies the structure (rooms, windows, doors), dimensions, and other key features, but it doesn't represent any actual, physical villa yet. \n",
    "\n",
    "- The **blueprint** is a **class**. It defines the structure and properties of the villa but does not represent any specific villa.\n",
    "- In terms of programming, the class specifies the attributes (e.g., number of rooms, color, size) and behaviors (e.g., open doors, turn on lights) that each villa will have."
   ]
  },
  {
   "cell_type": "code",
   "execution_count": null,
   "id": "08988a1d-2450-44fd-96db-7ef767ae1328",
   "metadata": {},
   "outputs": [],
   "source": [
    "Class\n",
    "\n",
    "Object "
   ]
  },
  {
   "cell_type": "code",
   "execution_count": null,
   "id": "06266164-ea6d-4de0-a6d6-271c446df45e",
   "metadata": {},
   "outputs": [],
   "source": [
    "100vilas similar villas \n"
   ]
  },
  {
   "cell_type": "code",
   "execution_count": null,
   "id": "af2257cb",
   "metadata": {},
   "outputs": [],
   "source": [
    "Golden Villa = \n",
    "\n",
    "villa_1\n",
    "villa_2\n",
    "\n",
    "\n",
    "villa_100"
   ]
  },
  {
   "cell_type": "code",
   "execution_count": null,
   "id": "73daa556-4bff-42bd-881b-0fd77b2492b0",
   "metadata": {},
   "outputs": [],
   "source": [
    "Class is like a blue print ===Golden villas \n",
    "object   ==== Villa_1,villa_2 .....Villa_100"
   ]
  },
  {
   "cell_type": "code",
   "execution_count": null,
   "id": "072135b1-3720-4859-b864-1ef6c9cdd567",
   "metadata": {},
   "outputs": [],
   "source": [
    "villa1 = "
   ]
  },
  {
   "cell_type": "code",
   "execution_count": null,
   "id": "a559faa3-5399-4b7a-92d7-a6908e4c8ab3",
   "metadata": {},
   "outputs": [],
   "source": []
  },
  {
   "cell_type": "markdown",
   "id": "de77014a",
   "metadata": {},
   "source": [
    "#### Object:\n",
    "Now, using that single blueprint (class), you can construct 100 actual villas. Each villa has the same basic structure (as defined by the class), but each villa is a **separate instance** with potentially unique details (like different paint colors or furniture inside). \n",
    "\n",
    "- Each **villa** is an **object**, a real-world instance of the blueprint (class).\n",
    "- Each villa (object) can have the same structure but may contain different data (e.g., different interiors or materials), representing individual objects with their own states.\n",
    "\n",
    "### In Programming Terms:\n",
    "\n",
    "- The **class** (blueprint) defines common characteristics for all villas, such as the number of rooms, size, and doors.\n",
    "- The **object** (villa) is an individual instance of that class. You can create many objects (villas) from the same class (blueprint), and each object may have its own values for attributes."
   ]
  },
  {
   "cell_type": "raw",
   "id": "a469687e",
   "metadata": {},
   "source": [
    "1) Blueprint(GoldenVillas)  1 or 100\n",
    "GoldenVillas = number of rooms,color of the villa,how many doors \n",
    "               people can live in the villa \n"
   ]
  },
  {
   "cell_type": "code",
   "execution_count": null,
   "id": "440edade",
   "metadata": {},
   "outputs": [],
   "source": [
    "villa_1 = GoldenVillas    Goldenvilas =Blueprint = Class\n",
    "                          villa_1 =                Object "
   ]
  },
  {
   "cell_type": "code",
   "execution_count": null,
   "id": "e5b43929",
   "metadata": {},
   "outputs": [],
   "source": [
    " "
   ]
  },
  {
   "cell_type": "code",
   "execution_count": null,
   "id": "9e9bab8f-8460-4cd4-aff0-0441924496fb",
   "metadata": {},
   "outputs": [],
   "source": [
    "def func (a,b):\n",
    "    pass\n",
    "func(10,20)"
   ]
  },
  {
   "cell_type": "code",
   "execution_count": null,
   "id": "7e45e150",
   "metadata": {},
   "outputs": [],
   "source": [
    "var = 10\n",
    "\n",
    "self.var"
   ]
  },
  {
   "cell_type": "code",
   "execution_count": null,
   "id": "9ab77be5-d185-475b-b762-676e4d09b2c7",
   "metadata": {},
   "outputs": [],
   "source": [
    "Class = Blue print\n",
    "\n",
    "Class (Blue print)\n",
    "\n",
    "1)Attribute  ---It holds the information or data or varaibles \n",
    "2)Methods --- functions\n",
    "\n",
    "\n"
   ]
  },
  {
   "cell_type": "code",
   "execution_count": 56,
   "id": "fdfa1387-c9a9-4fe0-b8b5-8c19eadc1da3",
   "metadata": {},
   "outputs": [
    {
     "name": "stdout",
     "output_type": "stream",
     "text": [
      "30\n"
     ]
    }
   ],
   "source": [
    "def func ():\n",
    "    a= 10\n",
    "    b = 20\n",
    "    c =a+b\n",
    "    print(c)\n",
    "func()"
   ]
  },
  {
   "cell_type": "code",
   "execution_count": null,
   "id": "294bf6a0-490d-4807-a31f-9ca35d9067f3",
   "metadata": {},
   "outputs": [],
   "source": [
    "Attribute---\n",
    "\n",
    "mobilephone --\n",
    "1) Information(Attributes ) about the cell phone \n",
    "    a) weight = 300\n",
    "    b) clolr  = black\n",
    "    c) length  5inches\n",
    "    d)width     3inches \n",
    "\n",
    "2)Functionalities (Method)\n",
    "a) calling\n",
    "b)sending a text \n",
    "c)capturing an image \n",
    "\n",
    "\n",
    "\n",
    "Human \n",
    "1)Information\n",
    "a)name = \"raj\" \n",
    "b) height  = 5.5\n",
    "c)gender  = \"male\"\n",
    "\n",
    "\n",
    "2)functionalities\n",
    "a)Walk\n",
    "b) speak\n",
    "c)sleep \n",
    "\n",
    "\n",
    "\n"
   ]
  },
  {
   "cell_type": "code",
   "execution_count": 60,
   "id": "8b680d3e-6e1c-4c66-81aa-59e18fe823da",
   "metadata": {},
   "outputs": [
    {
     "name": "stdout",
     "output_type": "stream",
     "text": [
      "30\n"
     ]
    }
   ],
   "source": []
  },
  {
   "cell_type": "code",
   "execution_count": null,
   "id": "ab500cb9-79f4-472c-a653-d4a0546e91b0",
   "metadata": {},
   "outputs": [],
   "source": [
    "Class\n",
    "attributes\n",
    "methods "
   ]
  },
  {
   "cell_type": "code",
   "execution_count": null,
   "id": "5d32d6dd-a955-4b60-8e6c-121f0eaf9ceb",
   "metadata": {},
   "outputs": [],
   "source": [
    "Class \n",
    "attributes\n",
    "methods "
   ]
  },
  {
   "cell_type": "code",
   "execution_count": null,
   "id": "96569cec-bb3d-4e5a-bcfe-7869ff56db60",
   "metadata": {},
   "outputs": [],
   "source": [
    "GoldenVillas ()\n",
    "villa_1"
   ]
  },
  {
   "cell_type": "code",
   "execution_count": null,
   "id": "14463424-6380-4bfc-abd7-570694c23505",
   "metadata": {},
   "outputs": [],
   "source": []
  },
  {
   "cell_type": "code",
   "execution_count": null,
   "id": "e723e579-0b88-4e20-a4f4-8a8bcc71bd84",
   "metadata": {},
   "outputs": [],
   "source": []
  },
  {
   "cell_type": "code",
   "execution_count": 66,
   "id": "0a23a204-4e96-467c-9ff3-b1e2930fd5eb",
   "metadata": {},
   "outputs": [],
   "source": [
    "class GoldenVillas:\n",
    "    def __init__(self,a,b,c,d,e):       # Attributes\n",
    "        self.color = a\n",
    "        self.is_furnish = b\n",
    "        self.is_rent = c\n",
    "        self.rooms = d\n",
    "        self.parking = e\n",
    "\n",
    "    def describe_villa (self):\n",
    "        print(f\"This is a villa the color is {self.color} it is going to be {self.is_furnish} and it is a {self.is_rent} \")\n",
    "        \n",
    "\n",
    "\n",
    "  "
   ]
  },
  {
   "cell_type": "code",
   "execution_count": null,
   "id": "1d310e42-2368-4e8d-82f4-1d43483b1a05",
   "metadata": {},
   "outputs": [],
   "source": [
    "OOP\n",
    "Class \n",
    "Object "
   ]
  },
  {
   "cell_type": "code",
   "execution_count": null,
   "id": "119c7c50-9d0f-42ee-bf1e-493fcbbe9381",
   "metadata": {},
   "outputs": [],
   "source": [
    "Class\n",
    "Information --Attributes   information,variables \n",
    "Functionalities ---Methods  tasks or functions "
   ]
  },
  {
   "cell_type": "code",
   "execution_count": null,
   "id": "1339f3a5-1773-4666-8117-434884ee0bba",
   "metadata": {},
   "outputs": [],
   "source": [
    "How to cre`ate a class "
   ]
  },
  {
   "cell_type": "code",
   "execution_count": 86,
   "id": "85306687-c7e7-49ea-94f3-e8c3a093212e",
   "metadata": {},
   "outputs": [],
   "source": [
    "class Cellphone:\n",
    "    \n",
    "    #Attributes\n",
    "    #1 Information \n",
    "    def __init__(self):     #constructor\n",
    "        self.color = \"Black\"\n",
    "        self.weight = \"300\"\n",
    "\n",
    "    #2 Functionalities or methods \n",
    "    def speak(self):\n",
    "        print(f\"this is a cell phone and i can call to someone\")\n",
    "                                     \n",
    "     "
   ]
  },
  {
   "cell_type": "code",
   "execution_count": 96,
   "id": "6acd3a75-ead2-46ea-92c9-c4e8dc641780",
   "metadata": {},
   "outputs": [],
   "source": [
    "samsung = Cellphone()"
   ]
  },
  {
   "cell_type": "code",
   "execution_count": 98,
   "id": "c1453c3a-426d-4d3c-8d46-fa7c57d77e32",
   "metadata": {},
   "outputs": [
    {
     "name": "stdout",
     "output_type": "stream",
     "text": [
      "this is a cell phone and i can call to someone\n"
     ]
    }
   ],
   "source": [
    "samsung.speak()"
   ]
  },
  {
   "cell_type": "code",
   "execution_count": null,
   "id": "98b620ea-63ef-461f-87d8-24fe675d8dfe",
   "metadata": {},
   "outputs": [],
   "source": []
  },
  {
   "cell_type": "code",
   "execution_count": 100,
   "id": "21be6a75-e237-440b-96e8-111784d02dcd",
   "metadata": {},
   "outputs": [],
   "source": [
    "motrola = Cellphone()"
   ]
  },
  {
   "cell_type": "code",
   "execution_count": 102,
   "id": "38934180-cd5a-4f04-93d7-d7bd0d5b0cd9",
   "metadata": {},
   "outputs": [
    {
     "name": "stdout",
     "output_type": "stream",
     "text": [
      "this is a cell phone and i can call to someone\n"
     ]
    }
   ],
   "source": [
    "motrola.speak()"
   ]
  },
  {
   "cell_type": "code",
   "execution_count": null,
   "id": "7c9551df-4e4c-45db-9527-3f94c166e4d2",
   "metadata": {},
   "outputs": [],
   "source": []
  },
  {
   "cell_type": "code",
   "execution_count": null,
   "id": "a23f15b4-1955-4b91-b942-909c1d846f91",
   "metadata": {},
   "outputs": [],
   "source": []
  },
  {
   "cell_type": "code",
   "execution_count": null,
   "id": "3846d6ef-0bc2-4ca4-8b67-c5789495b4ba",
   "metadata": {},
   "outputs": [],
   "source": []
  },
  {
   "cell_type": "code",
   "execution_count": null,
   "id": "44ee7f30-caf5-4fce-ae6e-aad60557578f",
   "metadata": {},
   "outputs": [],
   "source": []
  },
  {
   "cell_type": "code",
   "execution_count": 68,
   "id": "ef1a7d15-2dea-4520-bd58-a6049c04fe5f",
   "metadata": {},
   "outputs": [],
   "source": [
    "villa_1 = GoldenVillas(\"Blue\",\"furnished\",\"rented\",4,1)"
   ]
  },
  {
   "cell_type": "code",
   "execution_count": 70,
   "id": "3eedf1fd-e8e1-4e11-b718-f23362c1c94f",
   "metadata": {},
   "outputs": [
    {
     "data": {
      "text/plain": [
       "'Blue'"
      ]
     },
     "execution_count": 70,
     "metadata": {},
     "output_type": "execute_result"
    }
   ],
   "source": [
    "villa_1.color"
   ]
  },
  {
   "cell_type": "code",
   "execution_count": 72,
   "id": "54824999-e8f0-4577-82e6-875c33f9142a",
   "metadata": {},
   "outputs": [
    {
     "data": {
      "text/plain": [
       "'furnished'"
      ]
     },
     "execution_count": 72,
     "metadata": {},
     "output_type": "execute_result"
    }
   ],
   "source": [
    "villa_1.is_furnish"
   ]
  },
  {
   "cell_type": "code",
   "execution_count": 74,
   "id": "bfe8b4f7-d60e-43aa-a433-53769c8776ba",
   "metadata": {},
   "outputs": [],
   "source": [
    "villa_2 = GoldenVillas(\"Yello\",\"furnished\",\"rented\",4,1)"
   ]
  },
  {
   "cell_type": "code",
   "execution_count": 76,
   "id": "1110a713-eb56-4e56-b87f-a66c5063b165",
   "metadata": {},
   "outputs": [
    {
     "data": {
      "text/plain": [
       "'Yello'"
      ]
     },
     "execution_count": 76,
     "metadata": {},
     "output_type": "execute_result"
    }
   ],
   "source": [
    "villa_2.color"
   ]
  },
  {
   "cell_type": "code",
   "execution_count": null,
   "id": "7d180080-adbb-4fd3-8d54-e2048984272d",
   "metadata": {},
   "outputs": [],
   "source": []
  },
  {
   "cell_type": "code",
   "execution_count": null,
   "id": "69db5bd1-f558-48eb-92bd-4e5f85b268da",
   "metadata": {},
   "outputs": [],
   "source": []
  },
  {
   "cell_type": "code",
   "execution_count": null,
   "id": "02a0c2fe-1876-4176-8da0-2a3a36a91fea",
   "metadata": {},
   "outputs": [],
   "source": []
  },
  {
   "cell_type": "code",
   "execution_count": null,
   "id": "099d8251-b5f0-49bc-9292-a718adbe3fe2",
   "metadata": {},
   "outputs": [],
   "source": []
  },
  {
   "cell_type": "code",
   "execution_count": null,
   "id": "37ee7963-1306-4f92-8dcf-cb6fccdedda2",
   "metadata": {},
   "outputs": [],
   "source": []
  },
  {
   "cell_type": "code",
   "execution_count": 9,
   "id": "be739cd8",
   "metadata": {},
   "outputs": [],
   "source": [
    "#1st class\n",
    "# Attribute\n",
    "# Methods \n",
    "\n",
    "class GoldenVillas:\n",
    "    def __init__(self,a,b,c):\n",
    "        self.color = a\n",
    "        self.is_furnish = b\n",
    "        self.is_rent  = c\n",
    "    \n",
    "    def describe_villa(self):\n",
    "        print(f\"This villa is having {self.color} and it {self.is_furnish} and it is {self.is_rent} property\")\n",
    "        \n",
    "        "
   ]
  },
  {
   "cell_type": "code",
   "execution_count": 13,
   "id": "c8aa84b6",
   "metadata": {},
   "outputs": [],
   "source": [
    "villa_1 = GoldenVillas(\"Blue\",\"furnished\",\"rented\")"
   ]
  },
  {
   "cell_type": "code",
   "execution_count": 15,
   "id": "10b2ce98",
   "metadata": {},
   "outputs": [
    {
     "data": {
      "text/plain": [
       "'Blue'"
      ]
     },
     "execution_count": 15,
     "metadata": {},
     "output_type": "execute_result"
    }
   ],
   "source": [
    "villa_1.color"
   ]
  },
  {
   "cell_type": "code",
   "execution_count": 19,
   "id": "59570eff",
   "metadata": {},
   "outputs": [
    {
     "data": {
      "text/plain": [
       "'furnished'"
      ]
     },
     "execution_count": 19,
     "metadata": {},
     "output_type": "execute_result"
    }
   ],
   "source": [
    "villa_1.is_furnish"
   ]
  },
  {
   "cell_type": "code",
   "execution_count": 21,
   "id": "7594b2fe",
   "metadata": {},
   "outputs": [
    {
     "data": {
      "text/plain": [
       "'rented'"
      ]
     },
     "execution_count": 21,
     "metadata": {},
     "output_type": "execute_result"
    }
   ],
   "source": [
    "villa_1.is_rent"
   ]
  },
  {
   "cell_type": "code",
   "execution_count": 23,
   "id": "812eb5b7",
   "metadata": {},
   "outputs": [
    {
     "name": "stdout",
     "output_type": "stream",
     "text": [
      "This villa is having Blue and it furnished and it is rented property\n"
     ]
    }
   ],
   "source": [
    "villa_1.describe_villa()"
   ]
  },
  {
   "cell_type": "code",
   "execution_count": null,
   "id": "e887b089",
   "metadata": {},
   "outputs": [],
   "source": []
  },
  {
   "cell_type": "code",
   "execution_count": 41,
   "id": "5f998252",
   "metadata": {},
   "outputs": [],
   "source": [
    "l = [1,2,3,4]"
   ]
  },
  {
   "cell_type": "code",
   "execution_count": 43,
   "id": "2df02153",
   "metadata": {},
   "outputs": [],
   "source": [
    "l.append(1)"
   ]
  },
  {
   "cell_type": "code",
   "execution_count": 44,
   "id": "b5a35976",
   "metadata": {},
   "outputs": [
    {
     "data": {
      "text/plain": [
       "[1, 2, 3, 4, 1]"
      ]
     },
     "execution_count": 44,
     "metadata": {},
     "output_type": "execute_result"
    }
   ],
   "source": [
    "l"
   ]
  },
  {
   "cell_type": "code",
   "execution_count": 45,
   "id": "1dac9d48",
   "metadata": {},
   "outputs": [],
   "source": [
    "villa_2 = GoldenVillas(\"Yellow\",6,1500)"
   ]
  },
  {
   "cell_type": "code",
   "execution_count": 46,
   "id": "082fc2d6",
   "metadata": {},
   "outputs": [
    {
     "data": {
      "text/plain": [
       "'This villa has 6 rooms is of 1500 and is having Yellow color'"
      ]
     },
     "execution_count": 46,
     "metadata": {},
     "output_type": "execute_result"
    }
   ],
   "source": [
    "villa_2.describe_villa()"
   ]
  },
  {
   "cell_type": "code",
   "execution_count": 47,
   "id": "07a48beb",
   "metadata": {},
   "outputs": [
    {
     "data": {
      "text/plain": [
       "'Yellow'"
      ]
     },
     "execution_count": 47,
     "metadata": {},
     "output_type": "execute_result"
    }
   ],
   "source": [
    "villa_2.color"
   ]
  },
  {
   "cell_type": "code",
   "execution_count": null,
   "id": "4a06a21f",
   "metadata": {},
   "outputs": [],
   "source": [
    "Class defined once \n",
    "object create n number "
   ]
  },
  {
   "cell_type": "code",
   "execution_count": null,
   "id": "642476f2",
   "metadata": {},
   "outputs": [],
   "source": [
    " "
   ]
  },
  {
   "cell_type": "code",
   "execution_count": null,
   "id": "40e2eb8d",
   "metadata": {},
   "outputs": [],
   "source": []
  },
  {
   "cell_type": "code",
   "execution_count": null,
   "id": "2af36109",
   "metadata": {},
   "outputs": [],
   "source": []
  },
  {
   "cell_type": "code",
   "execution_count": 1,
   "id": "5d88edc8",
   "metadata": {},
   "outputs": [],
   "source": [
    "# Defining the class (blueprint)\n",
    "class Villa:\n",
    "    def __init__(self, a, b, c):\n",
    "        self.color = a\n",
    "        self.rooms = b\n",
    "        self.size = c\n",
    "\n",
    "    def describe_villa(self):\n",
    "        return f\"This villa has {self.rooms} rooms, is {self.size} sqft, and is painted {self.color}.\""
   ]
  },
  {
   "cell_type": "code",
   "execution_count": null,
   "id": "334634ef",
   "metadata": {},
   "outputs": [],
   "source": []
  },
  {
   "cell_type": "code",
   "execution_count": 2,
   "id": "c9344fa9",
   "metadata": {},
   "outputs": [],
   "source": [
    "# Creating objects (actual villas) from the class\n",
    "villa_1 = Villa(\"White\", 5, 2000)  # First villa"
   ]
  },
  {
   "cell_type": "code",
   "execution_count": 3,
   "id": "d28da7ab",
   "metadata": {},
   "outputs": [
    {
     "data": {
      "text/plain": [
       "'White'"
      ]
     },
     "execution_count": 3,
     "metadata": {},
     "output_type": "execute_result"
    }
   ],
   "source": [
    "villa_1.color"
   ]
  },
  {
   "cell_type": "code",
   "execution_count": 5,
   "id": "9a8049d3",
   "metadata": {},
   "outputs": [
    {
     "data": {
      "text/plain": [
       "'This villa has 5 rooms, is 2000 sqft, and is painted White.'"
      ]
     },
     "execution_count": 5,
     "metadata": {},
     "output_type": "execute_result"
    }
   ],
   "source": [
    "villa_1.describe_villa()"
   ]
  },
  {
   "cell_type": "code",
   "execution_count": null,
   "id": "142bbbf6",
   "metadata": {},
   "outputs": [],
   "source": []
  },
  {
   "cell_type": "code",
   "execution_count": 6,
   "id": "9ef772ee",
   "metadata": {},
   "outputs": [],
   "source": [
    "villa_2 = Villa(\"Blue\", 4, 1800)   # Second villa\n"
   ]
  },
  {
   "cell_type": "code",
   "execution_count": 117,
   "id": "5768101b",
   "metadata": {},
   "outputs": [
    {
     "data": {
      "text/plain": [
       "'Yellow'"
      ]
     },
     "execution_count": 117,
     "metadata": {},
     "output_type": "execute_result"
    }
   ],
   "source": [
    "villa_2.color"
   ]
  },
  {
   "cell_type": "code",
   "execution_count": null,
   "id": "fc5a4b21",
   "metadata": {},
   "outputs": [],
   "source": []
  },
  {
   "cell_type": "markdown",
   "id": "7eb54a45",
   "metadata": {},
   "source": [
    "In this example:\n",
    "- `Villa` is the **class** that serves as the blueprint for creating multiple villa objects.\n",
    "- `villa_1` and `villa_2` are two different **objects** (instances of the class), representing specific villas with their own color, number of rooms, and size."
   ]
  },
  {
   "cell_type": "code",
   "execution_count": 60,
   "id": "01422e2b",
   "metadata": {},
   "outputs": [],
   "source": [
    "l = []"
   ]
  },
  {
   "cell_type": "code",
   "execution_count": null,
   "id": "f441e203",
   "metadata": {},
   "outputs": [],
   "source": []
  },
  {
   "cell_type": "code",
   "execution_count": null,
   "id": "25aa7288",
   "metadata": {},
   "outputs": [],
   "source": []
  },
  {
   "cell_type": "code",
   "execution_count": 161,
   "id": "077b6763",
   "metadata": {},
   "outputs": [],
   "source": [
    "class MyList:\n",
    "    def __init__(self):\n",
    "        self.items = []  # Initialize an empty list as an instance attribute\n",
    "\n",
    "    def append(self, item):\n",
    "        \"\"\"Method to add an item to the list.\"\"\"\n",
    "        self.items.append(item)  # Use the list's append function to add an item\n",
    "\n",
    "    def remove(self, item):\n",
    "        \"\"\"Method to remove an item from the list.\"\"\"\n",
    "        if item in self.items:\n",
    "            self.items.remove(item)  # Use the list's remove function to remove an item\n",
    "        else:\n",
    "            print(f\"{item} not found in the list!\")\n",
    "\n",
    "    def display(self):\n",
    "        \"\"\"Method to display the current list.\"\"\"\n",
    "        print(self.items)\n",
    "\n",
    "    def size(self):\n",
    "        \"\"\"Method to return the size of the list.\"\"\"\n",
    "        return len(self.items)"
   ]
  },
  {
   "cell_type": "code",
   "execution_count": 163,
   "id": "b2d95cf7",
   "metadata": {},
   "outputs": [],
   "source": [
    "# Create an object of MyList class\n",
    "l = MyList()"
   ]
  },
  {
   "cell_type": "code",
   "execution_count": null,
   "id": "6acb16ba",
   "metadata": {},
   "outputs": [],
   "source": [
    "# Add items to the list\n",
    "my_list.append(1)\n",
    "my_list.append(2)\n",
    "my_list.append(3)"
   ]
  },
  {
   "cell_type": "code",
   "execution_count": null,
   "id": "a3608928",
   "metadata": {},
   "outputs": [],
   "source": [
    "# Display the list\n",
    "my_list.display()  # Output: [1, 2, 3]"
   ]
  },
  {
   "cell_type": "code",
   "execution_count": null,
   "id": "87715138",
   "metadata": {},
   "outputs": [],
   "source": [
    "# Remove an item from the list\n",
    "my_list.remove(2)"
   ]
  },
  {
   "cell_type": "code",
   "execution_count": null,
   "id": "cf9a521e",
   "metadata": {},
   "outputs": [],
   "source": [
    "my_list.display()  # Output: [1, 3]"
   ]
  },
  {
   "cell_type": "code",
   "execution_count": null,
   "id": "052d1c7c",
   "metadata": {},
   "outputs": [],
   "source": [
    "# Check the size of the list\n",
    "print(\"Size of the list:\", my_list.size())  # Output: Size of the list: 2"
   ]
  },
  {
   "cell_type": "code",
   "execution_count": null,
   "id": "276423a7",
   "metadata": {},
   "outputs": [],
   "source": [
    "l = [1,2,3]"
   ]
  },
  {
   "cell_type": "code",
   "execution_count": null,
   "id": "61d0cfc7",
   "metadata": {},
   "outputs": [],
   "source": [
    "l1 = [ ]"
   ]
  },
  {
   "cell_type": "code",
   "execution_count": null,
   "id": "f3ac5366",
   "metadata": {},
   "outputs": [],
   "source": []
  },
  {
   "cell_type": "code",
   "execution_count": null,
   "id": "d91bc982",
   "metadata": {},
   "outputs": [],
   "source": []
  },
  {
   "cell_type": "code",
   "execution_count": null,
   "id": "b5d3e32b",
   "metadata": {},
   "outputs": [],
   "source": []
  },
  {
   "cell_type": "code",
   "execution_count": null,
   "id": "7dc3993a",
   "metadata": {},
   "outputs": [],
   "source": []
  },
  {
   "cell_type": "markdown",
   "id": "9c20bd39",
   "metadata": {},
   "source": [
    "## Basic Syntax"
   ]
  },
  {
   "cell_type": "markdown",
   "id": "1a25a684",
   "metadata": {},
   "source": [
    "### Example: Person Class"
   ]
  },
  {
   "cell_type": "code",
   "execution_count": null,
   "id": "a3158c89",
   "metadata": {},
   "outputs": [],
   "source": [
    "class its a keyword\n",
    "Person name \n",
    ": "
   ]
  },
  {
   "cell_type": "code",
   "execution_count": null,
   "id": "9ab8847f-b055-4e47-8d3e-dff8c0771349",
   "metadata": {},
   "outputs": [],
   "source": [
    "2 \n",
    "\n",
    "Attributes \n",
    "Methods \n",
    "\n"
   ]
  },
  {
   "cell_type": "code",
   "execution_count": null,
   "id": "1f72129a-7e88-4321-8789-2975af0ae738",
   "metadata": {},
   "outputs": [],
   "source": [
    "Attributes \n",
    "Variable "
   ]
  },
  {
   "cell_type": "code",
   "execution_count": 104,
   "id": "18673f4b-ef17-475b-b9c8-1df732907bc3",
   "metadata": {},
   "outputs": [],
   "source": [
    "a = 10"
   ]
  },
  {
   "cell_type": "code",
   "execution_count": 106,
   "id": "5f85efc4-3ae5-40e4-aeb1-561a561f4b90",
   "metadata": {},
   "outputs": [],
   "source": [
    "b = 30"
   ]
  },
  {
   "cell_type": "code",
   "execution_count": null,
   "id": "c57def77-127a-467c-a9fd-c8f871d5cb58",
   "metadata": {},
   "outputs": [],
   "source": [
    "self.a = 10"
   ]
  },
  {
   "cell_type": "code",
   "execution_count": 108,
   "id": "9b81e2e3-a617-4b01-8478-71e7f3e4924c",
   "metadata": {},
   "outputs": [
    {
     "ename": "NameError",
     "evalue": "name 'self' is not defined",
     "output_type": "error",
     "traceback": [
      "\u001b[1;31m---------------------------------------------------------------------------\u001b[0m",
      "\u001b[1;31mNameError\u001b[0m                                 Traceback (most recent call last)",
      "Cell \u001b[1;32mIn[108], line 1\u001b[0m\n\u001b[1;32m----> 1\u001b[0m \u001b[38;5;28mself\u001b[39m\u001b[38;5;241m.\u001b[39mb \u001b[38;5;241m=\u001b[39m \u001b[38;5;241m20\u001b[39m\n",
      "\u001b[1;31mNameError\u001b[0m: name 'self' is not defined"
     ]
    }
   ],
   "source": [
    "self.b = 20"
   ]
  },
  {
   "cell_type": "code",
   "execution_count": null,
   "id": "3658185b-14a3-4241-ab3b-aa11db05f393",
   "metadata": {},
   "outputs": [],
   "source": []
  },
  {
   "cell_type": "code",
   "execution_count": 49,
   "id": "dfab4991",
   "metadata": {},
   "outputs": [],
   "source": [
    "class Person:\n",
    "    #attributes \n",
    "    def __init__(self,a,b):  \n",
    "        self.name1 = a\n",
    "        self.age1 = b\n",
    "        \n",
    "    #mehtods/behavior\n",
    "    \n",
    "    def introduce(self):\n",
    "        return f\"Hello my name is {self.name1} and my age is {self.age1}\" \n",
    "    "
   ]
  },
  {
   "cell_type": "code",
   "execution_count": null,
   "id": "b90e1946-2ad1-4041-ad4f-da4b47653c16",
   "metadata": {},
   "outputs": [],
   "source": []
  },
  {
   "cell_type": "code",
   "execution_count": 110,
   "id": "3c38a379-2f47-48a9-9f1d-92c9af26304c",
   "metadata": {},
   "outputs": [],
   "source": [
    "color = \"Black\"\n",
    "weight = \"300\""
   ]
  },
  {
   "cell_type": "code",
   "execution_count": null,
   "id": "eae77b7e-cbbd-409b-8084-3e952d235d53",
   "metadata": {},
   "outputs": [],
   "source": [
    "self.color = "
   ]
  },
  {
   "cell_type": "code",
   "execution_count": 112,
   "id": "dedf20f2-f958-4c3d-b115-0fe6c91daf85",
   "metadata": {},
   "outputs": [
    {
     "name": "stdout",
     "output_type": "stream",
     "text": [
      "30\n"
     ]
    }
   ],
   "source": [
    "def func (a,b):\n",
    "    c = a+b\n",
    "    print(c)\n",
    "func(10,20)"
   ]
  },
  {
   "cell_type": "code",
   "execution_count": null,
   "id": "26f47e60-7665-4381-9822-e84912914acc",
   "metadata": {},
   "outputs": [],
   "source": []
  },
  {
   "cell_type": "code",
   "execution_count": null,
   "id": "3e70d413-9e76-4f42-a352-57e9a7d79a1c",
   "metadata": {},
   "outputs": [],
   "source": []
  },
  {
   "cell_type": "code",
   "execution_count": 124,
   "id": "5210e89d-4675-4e91-94bf-1743c6a26e35",
   "metadata": {},
   "outputs": [],
   "source": [
    "class Cellphone:\n",
    "    \n",
    "    #Attributes\n",
    "    #1 Information \n",
    "    def __init__(self,a,b):     #constructor\n",
    "        self.color = a\n",
    "        self.weight = b\n",
    "\n",
    "    #2 Functionalities or methods \n",
    "    def speak(self):\n",
    "        print(f\"this is a cell phone and i can call to someone and my color is {self.color}\")"
   ]
  },
  {
   "cell_type": "code",
   "execution_count": 134,
   "id": "354f7784-26d6-4105-afce-d8db89c5e92d",
   "metadata": {},
   "outputs": [],
   "source": [
    "def add(a,b):\n",
    "    c = a+b\n",
    "    print(c)"
   ]
  },
  {
   "cell_type": "code",
   "execution_count": null,
   "id": "67d83955-a246-4bd7-9614-2d7c2abd3354",
   "metadata": {},
   "outputs": [],
   "source": []
  },
  {
   "cell_type": "code",
   "execution_count": null,
   "id": "18857dbb-ddf7-48d3-a8cb-a1ed6407015a",
   "metadata": {},
   "outputs": [],
   "source": []
  },
  {
   "cell_type": "code",
   "execution_count": 126,
   "id": "6a820d92-70d7-4189-a803-9fb0db46c096",
   "metadata": {},
   "outputs": [],
   "source": [
    "obj = Cellphone(\"Black\",300)"
   ]
  },
  {
   "cell_type": "code",
   "execution_count": 128,
   "id": "beee1457-0d11-4b99-9958-fbf329ee5a90",
   "metadata": {},
   "outputs": [
    {
     "data": {
      "text/plain": [
       "'Black'"
      ]
     },
     "execution_count": 128,
     "metadata": {},
     "output_type": "execute_result"
    }
   ],
   "source": [
    "obj.color"
   ]
  },
  {
   "cell_type": "code",
   "execution_count": 130,
   "id": "44e0d3e7-65cb-4432-b61f-5c67e8e23eab",
   "metadata": {},
   "outputs": [
    {
     "data": {
      "text/plain": [
       "300"
      ]
     },
     "execution_count": 130,
     "metadata": {},
     "output_type": "execute_result"
    }
   ],
   "source": [
    "obj.weight"
   ]
  },
  {
   "cell_type": "code",
   "execution_count": 132,
   "id": "a6ba996c-9f78-4a8e-a483-ce3a275c71b8",
   "metadata": {},
   "outputs": [
    {
     "name": "stdout",
     "output_type": "stream",
     "text": [
      "this is a cell phone and i can call to someone and my color is Black\n"
     ]
    }
   ],
   "source": [
    "obj.speak()"
   ]
  },
  {
   "cell_type": "code",
   "execution_count": null,
   "id": "df48d431",
   "metadata": {},
   "outputs": [],
   "source": [
    "l = [1,2]"
   ]
  },
  {
   "cell_type": "code",
   "execution_count": null,
   "id": "4f38e84b",
   "metadata": {},
   "outputs": [],
   "source": [
    "l.append()"
   ]
  },
  {
   "cell_type": "code",
   "execution_count": 51,
   "id": "704a376c",
   "metadata": {},
   "outputs": [],
   "source": [
    "person1 = Person(\"Harish\",30)"
   ]
  },
  {
   "cell_type": "code",
   "execution_count": null,
   "id": "ae360721",
   "metadata": {},
   "outputs": [],
   "source": [
    "person1.introduce()"
   ]
  },
  {
   "cell_type": "code",
   "execution_count": 64,
   "id": "4cf66432",
   "metadata": {},
   "outputs": [
    {
     "name": "stdout",
     "output_type": "stream",
     "text": [
      "<class '__main__.Person'>\n"
     ]
    }
   ],
   "source": [
    "print(type(person1))"
   ]
  },
  {
   "cell_type": "code",
   "execution_count": null,
   "id": "49b1f451",
   "metadata": {},
   "outputs": [],
   "source": [
    "class\n",
    "2 things \n",
    "1) Attributes \n",
    "Specail constructor \n",
    "\n",
    "2)methods \n",
    "Simple functions "
   ]
  },
  {
   "cell_type": "code",
   "execution_count": null,
   "id": "ee008f76-71ca-47d4-959b-8f19ae6aa2f0",
   "metadata": {},
   "outputs": [],
   "source": []
  },
  {
   "cell_type": "code",
   "execution_count": null,
   "id": "1b8dba83-3f0f-486e-9b91-8f681caaf7d9",
   "metadata": {},
   "outputs": [],
   "source": []
  },
  {
   "cell_type": "code",
   "execution_count": null,
   "id": "1ba30179-6180-42e7-a77c-8e06ccd4e547",
   "metadata": {},
   "outputs": [],
   "source": []
  },
  {
   "cell_type": "code",
   "execution_count": null,
   "id": "adf885b4-dd9d-44c5-8a09-6e0400281b1b",
   "metadata": {},
   "outputs": [],
   "source": []
  },
  {
   "cell_type": "code",
   "execution_count": null,
   "id": "aedd24c1-7757-4d0a-a57c-d9053c4b3f79",
   "metadata": {},
   "outputs": [],
   "source": []
  },
  {
   "cell_type": "code",
   "execution_count": null,
   "id": "0d97ca54-127f-4ee7-8000-dc48795fa3e1",
   "metadata": {},
   "outputs": [],
   "source": []
  },
  {
   "cell_type": "code",
   "execution_count": null,
   "id": "86d16aea-b5b8-41f3-a255-a3e0fc26bc76",
   "metadata": {},
   "outputs": [],
   "source": []
  },
  {
   "cell_type": "code",
   "execution_count": null,
   "id": "729a7a6f-d362-4d5e-bdb9-69ef92f09d7c",
   "metadata": {},
   "outputs": [],
   "source": []
  },
  {
   "cell_type": "code",
   "execution_count": null,
   "id": "b4908b21-75e6-491c-b94f-6ad0e82d3856",
   "metadata": {},
   "outputs": [],
   "source": []
  },
  {
   "cell_type": "code",
   "execution_count": 65,
   "id": "f5e3cfac",
   "metadata": {},
   "outputs": [],
   "source": [
    "l = (1,2)"
   ]
  },
  {
   "cell_type": "code",
   "execution_count": 66,
   "id": "9386135f",
   "metadata": {},
   "outputs": [
    {
     "name": "stdout",
     "output_type": "stream",
     "text": [
      "<class 'tuple'>\n"
     ]
    }
   ],
   "source": [
    "print(type(l))"
   ]
  },
  {
   "cell_type": "code",
   "execution_count": 67,
   "id": "ed7815b2",
   "metadata": {},
   "outputs": [],
   "source": [
    "import numpy as np"
   ]
  },
  {
   "cell_type": "code",
   "execution_count": null,
   "id": "495eda10",
   "metadata": {},
   "outputs": [],
   "source": [
    "np."
   ]
  },
  {
   "cell_type": "code",
   "execution_count": 62,
   "id": "db1107dd",
   "metadata": {},
   "outputs": [],
   "source": [
    "s = \"alskfk\""
   ]
  },
  {
   "cell_type": "code",
   "execution_count": 63,
   "id": "7d6cab62",
   "metadata": {},
   "outputs": [
    {
     "name": "stdout",
     "output_type": "stream",
     "text": [
      "<class 'str'>\n"
     ]
    }
   ],
   "source": [
    "print(type(s))"
   ]
  },
  {
   "cell_type": "code",
   "execution_count": 52,
   "id": "0c2493d1",
   "metadata": {},
   "outputs": [
    {
     "data": {
      "text/plain": [
       "30"
      ]
     },
     "execution_count": 52,
     "metadata": {},
     "output_type": "execute_result"
    }
   ],
   "source": [
    "person1.age1"
   ]
  },
  {
   "cell_type": "code",
   "execution_count": 53,
   "id": "7ff40f29",
   "metadata": {},
   "outputs": [
    {
     "data": {
      "text/plain": [
       "'Harish'"
      ]
     },
     "execution_count": 53,
     "metadata": {},
     "output_type": "execute_result"
    }
   ],
   "source": [
    "person1.name1"
   ]
  },
  {
   "cell_type": "code",
   "execution_count": 54,
   "id": "8c1cd7ee",
   "metadata": {},
   "outputs": [
    {
     "data": {
      "text/plain": [
       "'Hello my name is Harish and my age is 30'"
      ]
     },
     "execution_count": 54,
     "metadata": {},
     "output_type": "execute_result"
    }
   ],
   "source": [
    "person1.introduce()"
   ]
  },
  {
   "cell_type": "code",
   "execution_count": null,
   "id": "92f00067",
   "metadata": {},
   "outputs": [],
   "source": []
  },
  {
   "cell_type": "code",
   "execution_count": 55,
   "id": "5747277e",
   "metadata": {},
   "outputs": [],
   "source": [
    "person2 = Person(\"raj\",55)"
   ]
  },
  {
   "cell_type": "code",
   "execution_count": 56,
   "id": "21a1e871",
   "metadata": {},
   "outputs": [
    {
     "data": {
      "text/plain": [
       "55"
      ]
     },
     "execution_count": 56,
     "metadata": {},
     "output_type": "execute_result"
    }
   ],
   "source": [
    "person2.age1"
   ]
  },
  {
   "cell_type": "code",
   "execution_count": 57,
   "id": "b9677ca0",
   "metadata": {},
   "outputs": [
    {
     "data": {
      "text/plain": [
       "'raj'"
      ]
     },
     "execution_count": 57,
     "metadata": {},
     "output_type": "execute_result"
    }
   ],
   "source": [
    "person2.name1\n"
   ]
  },
  {
   "cell_type": "code",
   "execution_count": 59,
   "id": "ee39b1d3",
   "metadata": {},
   "outputs": [
    {
     "data": {
      "text/plain": [
       "'Hello my name is raj and my age is 55'"
      ]
     },
     "execution_count": 59,
     "metadata": {},
     "output_type": "execute_result"
    }
   ],
   "source": [
    "person2.introduce()"
   ]
  },
  {
   "cell_type": "code",
   "execution_count": null,
   "id": "9b6d499c",
   "metadata": {},
   "outputs": [],
   "source": []
  },
  {
   "cell_type": "code",
   "execution_count": 17,
   "id": "dd8976ff",
   "metadata": {},
   "outputs": [],
   "source": [
    "# Defining the Person class\n",
    "class Person:\n",
    "    # Constructor method to initialize object attributes\n",
    "    def __init__(self, a, b):\n",
    "        # Initializing the attributes of the object (self)\n",
    "        self.name = a  # Attribute: name\n",
    "        self.age = b    # Attribute: age\n",
    "    \n",
    "    # A method that describes the behavior of the object\n",
    "    def introduce(self):\n",
    "        # A method that returns a formatted string\n",
    "        return f\"Hello, my name is {self.name} and I am {self.age} years old.\"\n"
   ]
  },
  {
   "cell_type": "markdown",
   "id": "182b6945",
   "metadata": {},
   "source": [
    "### Explanation of Class Elements:"
   ]
  },
  {
   "cell_type": "markdown",
   "id": "0f4c5a06",
   "metadata": {},
   "source": [
    "1. **class Person:**\n",
    "   - The `class` keyword is used to define a new class.\n",
    "   - `Person` is the name of the class. It acts as a blueprint for creating objects (like individual people in this case).\n",
    "  "
   ]
  },
  {
   "cell_type": "code",
   "execution_count": null,
   "id": "8055d025",
   "metadata": {},
   "outputs": [],
   "source": [
    "class Person"
   ]
  },
  {
   "cell_type": "markdown",
   "id": "18b0445f",
   "metadata": {},
   "source": [
    " \n",
    "2. **def __init__(self, name, age):**\n",
    "   - The `__init__()` method is the **constructor**. It initializes the object when it is created.\n",
    "   - `self`: This is a reference to the current instance of the class. It's used to access attributes and methods inside the class.\n",
    "   - `name` and `age` are the parameters that will be passed when an object is created. These values will be stored as attributes of the object."
   ]
  },
  {
   "cell_type": "code",
   "execution_count": null,
   "id": "6ba4060b",
   "metadata": {},
   "outputs": [],
   "source": []
  },
  {
   "cell_type": "code",
   "execution_count": 72,
   "id": "27cd722f",
   "metadata": {},
   "outputs": [],
   "source": []
  },
  {
   "cell_type": "code",
   "execution_count": 74,
   "id": "bc733028",
   "metadata": {},
   "outputs": [],
   "source": [
    "obj1 = Person(22,55)"
   ]
  },
  {
   "cell_type": "code",
   "execution_count": 68,
   "id": "94c49028",
   "metadata": {},
   "outputs": [],
   "source": [
    "class Pa:\n",
    "    def __init__(self):\n",
    "        self.name = \"hari\"\n",
    "        print(\"this will be printed as soon as the object is created \")\n",
    "        \n",
    "    def func1(self):\n",
    "        print(f\"my name is {self.name}\")\n",
    "        \n",
    "        "
   ]
  },
  {
   "cell_type": "code",
   "execution_count": 69,
   "id": "554bb6d9",
   "metadata": {},
   "outputs": [
    {
     "name": "stdout",
     "output_type": "stream",
     "text": [
      "this will be printed as soon as the object is created \n"
     ]
    }
   ],
   "source": [
    "obj = Pa()"
   ]
  },
  {
   "cell_type": "code",
   "execution_count": null,
   "id": "db470bf3",
   "metadata": {},
   "outputs": [],
   "source": []
  },
  {
   "cell_type": "code",
   "execution_count": 137,
   "id": "e194e38b-812b-4b11-a153-1e30c4a3a176",
   "metadata": {},
   "outputs": [],
   "source": [
    "class Person:\n",
    "    #attributes \n",
    "    def __init__(self,name,age):\n",
    "        self.name1 = name\n",
    "        self.age1 = age\n",
    "        \n",
    "    #mehtods/behavior\n",
    "    \n",
    "    def introduce(self):\n",
    "        return f\"Hello my name is {self.name1} and my age is {self.age1}\" "
   ]
  },
  {
   "cell_type": "code",
   "execution_count": 139,
   "id": "d004d24c-30eb-4410-a98d-11b8086fe288",
   "metadata": {},
   "outputs": [],
   "source": [
    "a = Person(\"Raj\",33)"
   ]
  },
  {
   "cell_type": "code",
   "execution_count": 141,
   "id": "d2cf11ea-7857-4478-8b05-6362212e8e55",
   "metadata": {},
   "outputs": [
    {
     "data": {
      "text/plain": [
       "33"
      ]
     },
     "execution_count": 141,
     "metadata": {},
     "output_type": "execute_result"
    }
   ],
   "source": [
    "a.age1"
   ]
  },
  {
   "cell_type": "code",
   "execution_count": 143,
   "id": "f2c5cd0f-165e-4ea8-aca8-423c174e3659",
   "metadata": {},
   "outputs": [
    {
     "data": {
      "text/plain": [
       "'Raj'"
      ]
     },
     "execution_count": 143,
     "metadata": {},
     "output_type": "execute_result"
    }
   ],
   "source": [
    "a.name1"
   ]
  },
  {
   "cell_type": "code",
   "execution_count": null,
   "id": "c41c18af-d6df-48fd-89ab-26d5cf686ecf",
   "metadata": {},
   "outputs": [],
   "source": []
  },
  {
   "cell_type": "code",
   "execution_count": null,
   "id": "dd84d916-dfb8-4311-b37a-7a6e8f764d59",
   "metadata": {},
   "outputs": [],
   "source": [
    "list is a class \n",
    "\n",
    "def append():\n",
    "    \n",
    "\n",
    "\n"
   ]
  },
  {
   "cell_type": "code",
   "execution_count": null,
   "id": "dc14a35a-9fab-44c5-81d9-0b6bbdd0d5ce",
   "metadata": {},
   "outputs": [],
   "source": [
    "l"
   ]
  },
  {
   "cell_type": "code",
   "execution_count": 155,
   "id": "52e6a17d-529e-433b-afd1-9da8d0dfbcc9",
   "metadata": {},
   "outputs": [],
   "source": [
    "m = [10,20,33,22]"
   ]
  },
  {
   "cell_type": "code",
   "execution_count": null,
   "id": "4d04e2c5-7d92-4a3c-994a-d85c02012898",
   "metadata": {},
   "outputs": [],
   "source": [
    "l."
   ]
  },
  {
   "cell_type": "code",
   "execution_count": null,
   "id": "90268be2-51ca-413b-b6dc-0b4e2b39643c",
   "metadata": {},
   "outputs": [],
   "source": [
    "m."
   ]
  },
  {
   "cell_type": "code",
   "execution_count": 159,
   "id": "4a410f53-561a-429a-9ba6-fc97c3375744",
   "metadata": {},
   "outputs": [
    {
     "name": "stdout",
     "output_type": "stream",
     "text": [
      "<class 'list'>\n"
     ]
    }
   ],
   "source": [
    "print(type(l))"
   ]
  },
  {
   "cell_type": "code",
   "execution_count": null,
   "id": "5e5bf079-9796-424b-a33a-9b2aacb74152",
   "metadata": {},
   "outputs": [],
   "source": [
    "l"
   ]
  },
  {
   "cell_type": "code",
   "execution_count": null,
   "id": "9f4aecb1-7dd3-456b-98ed-de90744945ba",
   "metadata": {},
   "outputs": [],
   "source": []
  },
  {
   "cell_type": "code",
   "execution_count": 145,
   "id": "b4241287-9a41-4034-90be-bb347b3e8bb8",
   "metadata": {},
   "outputs": [],
   "source": [
    "l = [1,2,3,4,5,6]"
   ]
  },
  {
   "cell_type": "code",
   "execution_count": 153,
   "id": "18ee8aa4-45a5-4597-8f56-dbb61c838e68",
   "metadata": {},
   "outputs": [],
   "source": [
    "t = (4,5,6,8,9)"
   ]
  },
  {
   "cell_type": "code",
   "execution_count": null,
   "id": "94354733-3b5d-47b9-89c7-985f45a63513",
   "metadata": {},
   "outputs": [],
   "source": [
    "s = \"string\""
   ]
  },
  {
   "cell_type": "code",
   "execution_count": 149,
   "id": "b3654615-30f1-460d-9d25-db55c5f22fd7",
   "metadata": {},
   "outputs": [],
   "source": [
    "l.append(55)"
   ]
  },
  {
   "cell_type": "code",
   "execution_count": 151,
   "id": "ab979059-eca2-42f3-9085-4aae4240eb97",
   "metadata": {},
   "outputs": [
    {
     "data": {
      "text/plain": [
       "[1, 2, 3, 4, 5, 6, 55]"
      ]
     },
     "execution_count": 151,
     "metadata": {},
     "output_type": "execute_result"
    }
   ],
   "source": [
    "l"
   ]
  },
  {
   "cell_type": "code",
   "execution_count": null,
   "id": "56d7c6a7-f77b-4ba6-816f-ff6aea6f019c",
   "metadata": {},
   "outputs": [],
   "source": [
    "t.count()"
   ]
  },
  {
   "cell_type": "code",
   "execution_count": null,
   "id": "e26d09d4-f32a-47b0-9939-a393e5d247cc",
   "metadata": {},
   "outputs": [],
   "source": []
  },
  {
   "cell_type": "code",
   "execution_count": null,
   "id": "4765b698-0455-4d35-8f1c-08d3bbce40eb",
   "metadata": {},
   "outputs": [],
   "source": []
  },
  {
   "cell_type": "code",
   "execution_count": null,
   "id": "c0d5fd8c-faa0-4c36-a3ac-2f90d02cc97c",
   "metadata": {},
   "outputs": [],
   "source": []
  },
  {
   "cell_type": "code",
   "execution_count": null,
   "id": "b4cbfebc-389d-4903-8764-5fa9ab78931d",
   "metadata": {},
   "outputs": [],
   "source": []
  },
  {
   "cell_type": "markdown",
   "id": "b4173200",
   "metadata": {},
   "source": [
    "3. **self.name = name** and **self.age = age**:\n",
    "   - These lines assign the values of `name` and `age` to the object’s attributes (`self.name` and `self.age`).\n",
    "   - `self.name` and `self.age` are the instance variables that store the state of the object."
   ]
  },
  {
   "cell_type": "markdown",
   "id": "e23ca567",
   "metadata": {},
   "source": [
    "4. **def introduce(self):**\n",
    "   - This is a method named `introduce` that defines the behavior of the object.\n",
    "   - The `introduce` method uses the `self` keyword to access the object’s attributes (`self.name` and `self.age`) and returns a string introducing the person."
   ]
  },
  {
   "cell_type": "markdown",
   "id": "abb5b299",
   "metadata": {},
   "source": [
    "### Creating an Object (Instance) of the Person Class:"
   ]
  },
  {
   "cell_type": "code",
   "execution_count": 19,
   "id": "a7990861",
   "metadata": {},
   "outputs": [],
   "source": [
    "# Creating an object (instance) of the Person class\n",
    "person_1 = Person(\"Alice\", 30)  # Passing values to the constructor"
   ]
  },
  {
   "cell_type": "code",
   "execution_count": 20,
   "id": "22bfcf37",
   "metadata": {},
   "outputs": [
    {
     "name": "stdout",
     "output_type": "stream",
     "text": [
      "Hello, my name is Alice and I am 30 years old.\n"
     ]
    }
   ],
   "source": [
    "# Calling the method of the object\n",
    "print(person_1.introduce())  # Output: Hello, my name is Alice and I am 30 years old."
   ]
  },
  {
   "cell_type": "markdown",
   "id": "db9cf44a",
   "metadata": {},
   "source": [
    "### Explanation of Object Creation:"
   ]
  },
  {
   "cell_type": "markdown",
   "id": "92196a94",
   "metadata": {},
   "source": [
    "1. **person_1 = Person(\"Alice\", 30):**\n",
    "   - This creates an **object** named `person_1` from the `Person` class.\n",
    "   - `\"Alice\"` and `30` are passed as arguments to the constructor (`__init__()`), which assigns them to `self.name` and `self.age` respectively.\n",
    " "
   ]
  },
  {
   "cell_type": "markdown",
   "id": "8ec06301",
   "metadata": {},
   "source": [
    "  \n",
    "2. **person_1.introduce():**\n",
    "\n",
    "   - This calls the `introduce()` method for the `person_1` object.\n",
    "   - The method returns the string `\"Hello, my name is Alice and I am 30 years old.\"`."
   ]
  },
  {
   "cell_type": "code",
   "execution_count": null,
   "id": "995f7396-12c8-485d-8ece-c292b0b26164",
   "metadata": {},
   "outputs": [],
   "source": []
  },
  {
   "cell_type": "code",
   "execution_count": null,
   "id": "8be1a3a3-4cc5-41a1-ac13-91abdf9b7466",
   "metadata": {},
   "outputs": [],
   "source": []
  },
  {
   "cell_type": "code",
   "execution_count": null,
   "id": "0bfcac62-9fe0-49bf-82e8-d304e35b4b3c",
   "metadata": {},
   "outputs": [],
   "source": []
  },
  {
   "cell_type": "markdown",
   "id": "f2415e27",
   "metadata": {},
   "source": [
    "---\n",
    "\n",
    "### Creating Multiple Objects:"
   ]
  },
  {
   "cell_type": "markdown",
   "id": "a5b4774a",
   "metadata": {},
   "source": [
    "You can create multiple objects (instances) of the same class, each with different attribute values:"
   ]
  },
  {
   "cell_type": "code",
   "execution_count": 21,
   "id": "9e3f3814",
   "metadata": {},
   "outputs": [],
   "source": [
    "# Creating more objects of the Person class\n",
    "person_2 = Person(\"Bob\", 25)\n",
    "person_3 = Person(\"Charlie\", 40)"
   ]
  },
  {
   "cell_type": "code",
   "execution_count": 23,
   "id": "6b4af026",
   "metadata": {},
   "outputs": [
    {
     "name": "stdout",
     "output_type": "stream",
     "text": [
      "Hello, my name is Bob and I am 25 years old.\n",
      "Hello, my name is Charlie and I am 40 years old.\n"
     ]
    }
   ],
   "source": [
    "# Calling methods on different objects\n",
    "print(person_2.introduce())  # Output: Hello, my name is Bob and I am 25 years old.\n",
    "print(person_3.introduce())  # Output: Hello, my name is Charlie and I am 40 years old.\n"
   ]
  },
  {
   "cell_type": "markdown",
   "id": "91d0026d",
   "metadata": {},
   "source": [
    "In this example:\n",
    "- `person_2` and `person_3` are different objects of the `Person` class.\n",
    "- Each object has its own separate `name` and `age` attributes but shares the same behavior (the `introduce` method)."
   ]
  },
  {
   "cell_type": "code",
   "execution_count": null,
   "id": "f50558cc",
   "metadata": {},
   "outputs": [],
   "source": []
  },
  {
   "cell_type": "code",
   "execution_count": null,
   "id": "2f891a83",
   "metadata": {},
   "outputs": [],
   "source": []
  },
  {
   "cell_type": "markdown",
   "id": "308ae314",
   "metadata": {},
   "source": [
    "# Class"
   ]
  },
  {
   "cell_type": "markdown",
   "id": "93368d86",
   "metadata": {},
   "source": [
    "### Class in Detail\n",
    "\n",
    "In **Object-Oriented Programming (OOP)**, a **class** is a fundamental concept that acts as a blueprint or template for creating objects. It defines the structure, properties (attributes), and behaviors (methods) that the objects created from it will have. Think of a class as a recipe or a mold that tells how an object should look and behave."
   ]
  },
  {
   "cell_type": "markdown",
   "id": "dbc1c7f7",
   "metadata": {},
   "source": [
    "#### Key Components of a Class:\n",
    "\n",
    "1. **Attributes (Properties/Fields)**:\n",
    "   Attributes represent the data or characteristics associated with a class. They define what kind of information an object created from the class can hold. In programming, these are variables that belong to the class.\n",
    "   \n",
    "   - For example, if you have a class called `Car`, some of its attributes could be `color`, `model`, `year`, and `mileage`. These attributes help describe the properties of a `Car` object.\n",
    "   \n",
    "\n",
    "2. **Methods (Functions/Behaviors)**:\n",
    "   Methods define the actions or behaviors that an object can perform. These are functions defined inside the class that operate on the object's data (attributes).\n",
    "  "
   ]
  },
  {
   "cell_type": "markdown",
   "id": "891ec3f4",
   "metadata": {},
   "source": [
    "### Detailed Example:\n",
    "\n",
    "Consider an example of a class `Person` that models a person in real life. This class will have attributes like `name`, `age`, and `gender`, and methods like `speak()` and `walk()`."
   ]
  },
  {
   "cell_type": "markdown",
   "id": "fb157fae",
   "metadata": {},
   "source": [
    "#### 1. Defining the Class:"
   ]
  },
  {
   "cell_type": "code",
   "execution_count": null,
   "id": "588f36d3",
   "metadata": {},
   "outputs": [],
   "source": []
  },
  {
   "cell_type": "code",
   "execution_count": 76,
   "id": "76fc8e06",
   "metadata": {},
   "outputs": [],
   "source": [
    "# Defining the class Person\n",
    "class Person:\n",
    "    # Constructor (__init__ method) to initialize attributes\n",
    "    def __init__(self, name, age, gender):\n",
    "        self.name = name       # Instance variable\n",
    "        self.age = age         # Instance variable\n",
    "        self.gender = gender   # Instance variable\n",
    "\n",
    "    # Method to make the person speak\n",
    "    def speak(self):\n",
    "        return f\"Hi, my name is {self.name} and I am {self.age} years old.\"\n",
    "\n",
    "    # Method to describe walking action\n",
    "    def walk(self):\n",
    "        return f\"{self.name} is walking.\"\n"
   ]
  },
  {
   "cell_type": "code",
   "execution_count": 77,
   "id": "2e933b99",
   "metadata": {},
   "outputs": [],
   "source": [
    "obj1 = Person(\"raj\",50,\"male\")"
   ]
  },
  {
   "cell_type": "code",
   "execution_count": 78,
   "id": "628442b9",
   "metadata": {},
   "outputs": [
    {
     "data": {
      "text/plain": [
       "50"
      ]
     },
     "execution_count": 78,
     "metadata": {},
     "output_type": "execute_result"
    }
   ],
   "source": [
    "obj1.age"
   ]
  },
  {
   "cell_type": "code",
   "execution_count": 79,
   "id": "e6a9c448",
   "metadata": {},
   "outputs": [
    {
     "data": {
      "text/plain": [
       "'male'"
      ]
     },
     "execution_count": 79,
     "metadata": {},
     "output_type": "execute_result"
    }
   ],
   "source": [
    "obj1.gender"
   ]
  },
  {
   "cell_type": "code",
   "execution_count": 80,
   "id": "bdd5bb0c",
   "metadata": {},
   "outputs": [
    {
     "data": {
      "text/plain": [
       "'Hi, my name is raj and I am 50 years old.'"
      ]
     },
     "execution_count": 80,
     "metadata": {},
     "output_type": "execute_result"
    }
   ],
   "source": [
    "obj1.speak()"
   ]
  },
  {
   "cell_type": "code",
   "execution_count": 81,
   "id": "1a77cc31",
   "metadata": {},
   "outputs": [
    {
     "data": {
      "text/plain": [
       "'raj is walking.'"
      ]
     },
     "execution_count": 81,
     "metadata": {},
     "output_type": "execute_result"
    }
   ],
   "source": [
    "obj1.walk()"
   ]
  },
  {
   "cell_type": "code",
   "execution_count": null,
   "id": "3ebade61",
   "metadata": {},
   "outputs": [],
   "source": []
  },
  {
   "cell_type": "code",
   "execution_count": null,
   "id": "5e2bd7c1",
   "metadata": {},
   "outputs": [],
   "source": []
  },
  {
   "cell_type": "markdown",
   "id": "ed56b663",
   "metadata": {},
   "source": [
    "## Naming a Class"
   ]
  },
  {
   "cell_type": "markdown",
   "id": "3692a514",
   "metadata": {},
   "source": [
    "When it comes to naming conventions specifically for classes in Python, the following guidelines are typically followed:\n",
    "\n",
    "1. **Class Names**:\n",
    "   - Class names should use CamelCase (CapWords) convention.\n",
    "   - Start each word within the class name with a capital letter, without any underscores.\n",
    "   - Examples: `MyClass`, `PersonInfo`, `HTTPRequest`\n",
    "\n",
    "\n",
    "\n",
    "Here's a more comprehensive example of class naming conventions in Python:\n",
    "\n",
    "```python\n",
    "class MyClassName:          # CamelCase\n",
    "   \n",
    "```\n",
    "\n",
    "Following these conventions helps improve code readability and consistency, making it easier for you and other developers to understand and work with your classes."
   ]
  },
  {
   "cell_type": "code",
   "execution_count": null,
   "id": "db45db4f-27ed-464b-9edf-b5cf49929689",
   "metadata": {},
   "outputs": [],
   "source": []
  },
  {
   "cell_type": "code",
   "execution_count": null,
   "id": "94f5da99-cc0a-4b3d-bde1-616a4486c95d",
   "metadata": {},
   "outputs": [],
   "source": [
    "CellPhone"
   ]
  },
  {
   "cell_type": "code",
   "execution_count": 1,
   "id": "22bb8c5f",
   "metadata": {},
   "outputs": [
    {
     "ename": "IndentationError",
     "evalue": "expected an indented block after class definition on line 2 (1348785418.py, line 5)",
     "output_type": "error",
     "traceback": [
      "\u001b[1;36m  Cell \u001b[1;32mIn[1], line 5\u001b[1;36m\u001b[0m\n\u001b[1;33m    class PersonInfo:\u001b[0m\n\u001b[1;37m    ^\u001b[0m\n\u001b[1;31mIndentationError\u001b[0m\u001b[1;31m:\u001b[0m expected an indented block after class definition on line 2\n"
     ]
    }
   ],
   "source": [
    "# CamelCase (Recommended Pythonic Convention)\n",
    "class MyClassName:\n",
    "    \n",
    "\n",
    "class PersonInfo:\n",
    "    \n",
    "\n",
    "class HTTPRequest:\n",
    "    \n",
    "\n",
    "# Snake Case (Less Common, but Possible)\n",
    "class my_class_name:\n",
    "    \n",
    "\n",
    "class person_info:\n",
    "    \n",
    "\n",
    "class http_request:\n",
    "    \n",
    "\n",
    "# PascalCase (Similar to CamelCase)\n",
    "class PascalCaseExample:\n",
    "    \n",
    "\n",
    "class AnotherExample:\n",
    "    \n",
    "\n",
    "# UPPERCASE (All Caps)\n",
    "class MY_CLASS_NAME:\n",
    "    \n",
    "\n",
    "class PERSON_INFO:\n",
    "    \n",
    "\n",
    "class HTTP_REQUEST:\n",
    "    \n",
    "\n",
    "# kebab-case (Not Recommended)\n",
    "class my-class-name:\n",
    "    \n",
    "\n",
    "class person-info:\n",
    "    \n",
    "\n",
    "class http-request:\n",
    "    \n",
    "\n",
    "# CAPITALIZED_WITH_UNDERSCORES (Not Recommended)\n",
    "class MY_CLASS_NAME:\n",
    "    \n",
    "\n",
    "class PERSON_INFO:\n",
    "    \n",
    "\n",
    "class HTTP_REQUEST:\n",
    "    \n",
    "\n",
    "# Initials Acronym Convention\n",
    "class MCN:  # MyClassName\n",
    "    \n",
    "\n",
    "class PI:   # PersonInfo\n",
    "    \n",
    "\n",
    "class HR:   # HTTPRequest"
   ]
  },
  {
   "cell_type": "code",
   "execution_count": null,
   "id": "c8e52188",
   "metadata": {},
   "outputs": [],
   "source": []
  },
  {
   "cell_type": "code",
   "execution_count": null,
   "id": "1d6c9280",
   "metadata": {},
   "outputs": [],
   "source": []
  },
  {
   "cell_type": "markdown",
   "id": "9b786521",
   "metadata": {},
   "source": [
    "### Object in Detail\n",
    "\n",
    "An **object** is a fundamental concept in **Object-Oriented Programming (OOP)**. It is an instance of a class and represents a real-world entity or concept that can have attributes (data) and methods (behaviors). Objects are the building blocks of OOP, as they encapsulate both data and behavior, making the code modular, reusable, and maintainable.\n",
    "\n",
    "Think of an object as a specific, concrete item that follows the structure and behavior defined by its class. Each object has its own state (data) and can interact with other objects or perform actions using its methods."
   ]
  },
  {
   "cell_type": "markdown",
   "id": "3e76a772",
   "metadata": {},
   "source": [
    "### Characteristics of an Object:\n",
    "\n",
    "1. **Instance of a Class**:\n",
    "   An object is created from a class, which acts as a blueprint. While a class defines the structure (attributes) and behavior (methods), the object is the actual manifestation of this blueprint in memory.\n",
    "   \n",
    "   - Example: If `Car` is a class, then `my_car` can be an object of this class.\n",
    "\n",
    "2. **State (Attributes)**:\n",
    "   Every object has a unique state defined by the values of its attributes. The state of an object may change over time, but the structure (attributes and methods) remains the same as defined by the class."
   ]
  },
  {
   "cell_type": "markdown",
   "id": "e292cde0",
   "metadata": {},
   "source": [
    "3. **Behavior (Methods)**:\n",
    "   Objects can perform specific actions, defined by the methods in their class. These methods can manipulate the object’s attributes, making the object behave in different ways."
   ]
  },
  {
   "cell_type": "markdown",
   "id": "8b84d868",
   "metadata": {},
   "source": [
    "\n",
    "4. **Identity**:\n",
    "   Each object has a unique identity, which distinguishes it from other objects, even if they belong to the same class and have the same values for their attributes. The identity is essentially the memory address where the object is stored."
   ]
  },
  {
   "cell_type": "markdown",
   "id": "fce3d64f",
   "metadata": {},
   "source": [
    "### Summary of an Object:\n",
    "\n",
    "- An **object** is an instance of a class. It represents a specific, real-world entity with unique data (attributes) and behaviors (methods).\n",
    "- Each object has a **state**, determined by the values of its attributes, and it can perform actions using methods.\n",
    "- Objects provide **encapsulation**, combining data and functionality in a single unit.\n",
    "- They have **identity** (unique in memory), **attributes** (state), and **methods** (behavior).\n",
    "- Objects in OOP communicate with each other through **message passing** (method calls), allowing for collaborative and modular code design."
   ]
  },
  {
   "cell_type": "markdown",
   "id": "55c380f5",
   "metadata": {},
   "source": [
    "#### 2. Creating Objects from the Class:"
   ]
  },
  {
   "cell_type": "code",
   "execution_count": 82,
   "id": "411f6ff5",
   "metadata": {},
   "outputs": [],
   "source": [
    "l = [1,23,2]"
   ]
  },
  {
   "cell_type": "code",
   "execution_count": null,
   "id": "0344d07b",
   "metadata": {},
   "outputs": [],
   "source": []
  },
  {
   "cell_type": "code",
   "execution_count": 86,
   "id": "4814886f",
   "metadata": {},
   "outputs": [],
   "source": [
    "class Car:\n",
    "    def __init__(self,brand1,mileage1):\n",
    "        self.brand = brand1\n",
    "        self.mileage = mileage1\n",
    "    def performance(self):\n",
    "        print(f\"the brand  is {self.brand} and the mileage of this brand is {self.mileage}\")"
   ]
  },
  {
   "cell_type": "code",
   "execution_count": 87,
   "id": "646f588c",
   "metadata": {},
   "outputs": [],
   "source": [
    "obj = Car(\"toyota\",25)"
   ]
  },
  {
   "cell_type": "code",
   "execution_count": 88,
   "id": "30c68375",
   "metadata": {},
   "outputs": [
    {
     "name": "stdout",
     "output_type": "stream",
     "text": [
      "the brand  is toyota and the mileage of this brand is 25\n"
     ]
    }
   ],
   "source": [
    "obj.performance()"
   ]
  },
  {
   "cell_type": "code",
   "execution_count": 89,
   "id": "00a75da2",
   "metadata": {},
   "outputs": [],
   "source": [
    "obj1 = Car(\"kia\",20)"
   ]
  },
  {
   "cell_type": "code",
   "execution_count": 90,
   "id": "3a20a4c1",
   "metadata": {},
   "outputs": [
    {
     "name": "stdout",
     "output_type": "stream",
     "text": [
      "the brand  is kia and the mileage of this brand is 20\n"
     ]
    }
   ],
   "source": [
    "obj1.performance()"
   ]
  },
  {
   "cell_type": "code",
   "execution_count": 13,
   "id": "4a8a5989",
   "metadata": {},
   "outputs": [],
   "source": [
    "# Creating objects (instances) of the Person class\n",
    "person_1 = Person(\"John\", 30, \"Male\")"
   ]
  },
  {
   "cell_type": "code",
   "execution_count": 14,
   "id": "be8f36bd",
   "metadata": {},
   "outputs": [],
   "source": [
    "person_2 = Person(\"Jane\", 25, \"Female\")"
   ]
  },
  {
   "cell_type": "code",
   "execution_count": 10,
   "id": "fdb00400",
   "metadata": {},
   "outputs": [
    {
     "data": {
      "text/plain": [
       "'Hi, my name is John and I am 30 years old.'"
      ]
     },
     "execution_count": 10,
     "metadata": {},
     "output_type": "execute_result"
    }
   ],
   "source": [
    "person_1.speak()"
   ]
  },
  {
   "cell_type": "code",
   "execution_count": 15,
   "id": "1f5b4cdd",
   "metadata": {},
   "outputs": [
    {
     "data": {
      "text/plain": [
       "30"
      ]
     },
     "execution_count": 15,
     "metadata": {},
     "output_type": "execute_result"
    }
   ],
   "source": [
    "person_1.age"
   ]
  },
  {
   "cell_type": "code",
   "execution_count": 11,
   "id": "26b8a9f9",
   "metadata": {},
   "outputs": [
    {
     "data": {
      "text/plain": [
       "'Jane is walking.'"
      ]
     },
     "execution_count": 11,
     "metadata": {},
     "output_type": "execute_result"
    }
   ],
   "source": [
    "person_2.walk()"
   ]
  },
  {
   "cell_type": "code",
   "execution_count": null,
   "id": "7822ab77",
   "metadata": {},
   "outputs": [],
   "source": []
  },
  {
   "cell_type": "markdown",
   "id": "62008529",
   "metadata": {},
   "source": [
    "Here, two objects `person_1` and `person_2` are created using the `Person` class. Each object has its own values for the attributes `name`, `age`, and `gender`. Both objects can also perform the `speak()` and `walk()` methods, but with their own unique data.\n",
    "\n",
    "---"
   ]
  },
  {
   "cell_type": "markdown",
   "id": "ecff15d6",
   "metadata": {},
   "source": [
    "### Summary of a Class:\n",
    "- **Class** is a template or blueprint for creating objects.\n",
    "- It defines the **attributes** (data) and **methods** (behaviors) that each object created from the class will have.\n",
    "- A class allows for **modularity**, **reusability**, and **encapsulation**.\n",
    "- By defining a class, you can create multiple instances (objects) from it, each with its own data but sharing the same structure and behaviors."
   ]
  },
  {
   "cell_type": "code",
   "execution_count": null,
   "id": "0102a2f5",
   "metadata": {},
   "outputs": [],
   "source": []
  },
  {
   "cell_type": "markdown",
   "id": "7c6e007a",
   "metadata": {},
   "source": [
    "##  Constructor"
   ]
  },
  {
   "cell_type": "markdown",
   "id": "c198d8f9",
   "metadata": {},
   "source": [
    "A constructor in object-oriented programming is a special method within a class that is automatically called when an object of that class is created. It is used to initialize the object's attributes or properties and perform any necessary setup operations. Constructors ensure that the object starts in a valid and well-defined state.\n",
    "\n",
    "In Python, the constructor method is named `__init__`. It's a reserved method, and when you define it in your class, Python automatically calls it whenever you create an instance of that class. The constructor allows you to pass initial values for the attributes of the object being created.\n",
    "\n",
    "Here's a basic example of a constructor in Python:\n",
    "\n",
    "```python\n",
    "class Person:\n",
    "    def __init__(self, name, age):\n",
    "        self.name = name\n",
    "        self.age = age\n",
    "\n",
    "# Creating an instance of the Person class\n",
    "person1 = Person(\"Alice\", 30)\n",
    "print(person1.name)  # Output: Alice\n",
    "print(person1.age)   # Output: 30\n",
    "```\n",
    "\n",
    "In the example above, the `__init__` method takes two parameters (`name` and `age`) along with the `self` parameter, which represents the instance being created. Inside the constructor, the attributes `name` and `age` are assigned using the provided values. When the `Person` class is instantiated, the constructor is automatically called with the provided arguments, initializing the object's state.\n",
    "\n",
    "Constructors are powerful tools for setting up the initial state of objects and for performing any necessary operations required as soon as an object is created."
   ]
  },
  {
   "cell_type": "code",
   "execution_count": 95,
   "id": "1ce0cad7",
   "metadata": {},
   "outputs": [],
   "source": [
    "class AtmMachine:\n",
    "\n",
    "  # constructor(special function)\n",
    "  def __init__(self):    \n",
    "    self.pin = ''\n",
    "    self.balance = 0\n"
   ]
  },
  {
   "cell_type": "code",
   "execution_count": 96,
   "id": "d438f60d",
   "metadata": {},
   "outputs": [],
   "source": [
    "obj1 = AtmMachine()                         #everything gets printed as soon as the object is instantiated\n"
   ]
  },
  {
   "cell_type": "code",
   "execution_count": null,
   "id": "a0bea905",
   "metadata": {},
   "outputs": [],
   "source": []
  },
  {
   "cell_type": "markdown",
   "id": "b45fe8a6",
   "metadata": {},
   "source": [
    "### Having a method Inside a Constructor"
   ]
  },
  {
   "cell_type": "markdown",
   "id": "a3b08e22",
   "metadata": {},
   "source": [
    "you can certainly have methods within the constructor (`__init__`) of a class in Python. However, it's generally a good practice to keep the constructor focused on initializing the object's attributes and setting up its initial state. If you need to perform more complex operations or methods that aren't directly related to initialization, it's often better to call those methods after the object has been created.\n",
    "\n",
    "Here's an example of how you can have a method within the constructor:"
   ]
  },
  {
   "cell_type": "code",
   "execution_count": null,
   "id": "476412ef",
   "metadata": {},
   "outputs": [],
   "source": []
  },
  {
   "cell_type": "code",
   "execution_count": 100,
   "id": "80cfeb04",
   "metadata": {},
   "outputs": [],
   "source": [
    "class AtmMachine:\n",
    "    def __init__(self, a, b):\n",
    "        self.pin = a\n",
    "        self.balance = b\n",
    "        self.initialize_atm()\n",
    "        \n",
    "    def initialize_atm(self):\n",
    "        print(\"ATM initialization complete.\")\n",
    "        print(f\"Initial PIN: {self.pin}\")\n",
    "        print(f\"Initial Balance: {self.balance}\")\n",
    "    "
   ]
  },
  {
   "cell_type": "code",
   "execution_count": 101,
   "id": "c38a81ee",
   "metadata": {},
   "outputs": [
    {
     "name": "stdout",
     "output_type": "stream",
     "text": [
      "ATM initialization complete.\n",
      "Initial PIN: 1234\n",
      "Initial Balance: 5000\n"
     ]
    }
   ],
   "source": [
    "obj = AtmMachine(1234,5000)"
   ]
  },
  {
   "cell_type": "code",
   "execution_count": 99,
   "id": "8fa19c5c",
   "metadata": {},
   "outputs": [
    {
     "name": "stdout",
     "output_type": "stream",
     "text": [
      "ATM initialization complete.\n",
      "Initial PIN: 1234\n",
      "Initial Balance: 5000\n"
     ]
    }
   ],
   "source": [
    "obj.initialize_atm()"
   ]
  },
  {
   "cell_type": "code",
   "execution_count": 18,
   "id": "2b805d15",
   "metadata": {},
   "outputs": [],
   "source": [
    "class AtmMachine:\n",
    "    def __init__(self, a, b):\n",
    "        self.pin = a\n",
    "        self.balance = b\n",
    "        self.initialize_atm()\n",
    "\n",
    "    def initialize_atm(self):\n",
    "        print(\"ATM initialization complete.\")\n",
    "        print(f\"Initial PIN: {self.pin}\")\n",
    "        print(f\"Initial Balance: {self.balance}\")"
   ]
  },
  {
   "cell_type": "code",
   "execution_count": 19,
   "id": "5183d3b2",
   "metadata": {},
   "outputs": [
    {
     "name": "stdout",
     "output_type": "stream",
     "text": [
      "ATM initialization complete.\n",
      "Initial PIN: 1234\n",
      "Initial Balance: 1000\n"
     ]
    }
   ],
   "source": [
    "# Creating an instance of the AtmMachine class\n",
    "obj = AtmMachine(1234, 1000)"
   ]
  },
  {
   "cell_type": "markdown",
   "id": "003a3ded",
   "metadata": {},
   "source": [
    "In this example, the `initialize_atm` method is called within the constructor. This method performs additional tasks after the attributes `pin` and `balance` have been initialized. However, you could achieve the same result by calling the `initialize_atm` method outside of the constructor:"
   ]
  },
  {
   "cell_type": "code",
   "execution_count": 21,
   "id": "1f981f78",
   "metadata": {},
   "outputs": [],
   "source": [
    "class AtmMachine:\n",
    "    def __init__(self, a, b):\n",
    "        self.pin = a\n",
    "        self.balance = b\n",
    "\n",
    "    def initialize_atm(self):\n",
    "        print(\"ATM initialization complete.\")\n",
    "        print(f\"Initial PIN: {self.pin}\")\n",
    "        print(f\"Initial Balance: {self.balance}\")"
   ]
  },
  {
   "cell_type": "code",
   "execution_count": 22,
   "id": "d86cb059",
   "metadata": {},
   "outputs": [],
   "source": [
    "# Creating an instance of the AtmMachine class\n",
    "obj = AtmMachine(1234, 1000)"
   ]
  },
  {
   "cell_type": "code",
   "execution_count": 23,
   "id": "b02a016e",
   "metadata": {},
   "outputs": [
    {
     "name": "stdout",
     "output_type": "stream",
     "text": [
      "ATM initialization complete.\n",
      "Initial PIN: 1234\n",
      "Initial Balance: 1000\n"
     ]
    }
   ],
   "source": [
    "# Calling the initialize_atm method\n",
    "obj.initialize_atm()"
   ]
  },
  {
   "cell_type": "markdown",
   "id": "05cfd737",
   "metadata": {},
   "source": [
    "This way, you keep the constructor focused on initializing attributes, making your code more modular and easier to understand. Methods that perform additional operations can be called after the object has been created."
   ]
  },
  {
   "cell_type": "code",
   "execution_count": null,
   "id": "ef888127",
   "metadata": {},
   "outputs": [],
   "source": []
  },
  {
   "cell_type": "code",
   "execution_count": null,
   "id": "af413c46",
   "metadata": {},
   "outputs": [],
   "source": []
  },
  {
   "cell_type": "markdown",
   "id": "9ec1e696",
   "metadata": {},
   "source": [
    "# Self"
   ]
  },
  {
   "cell_type": "markdown",
   "id": "a39abc56",
   "metadata": {},
   "source": [
    "In Python, `self` is a conventional name for the first parameter of instance methods within a class. It refers to the instance of the class itself. When you create an instance of a class and call its methods, Python automatically passes the instance as the first argument to the method using the name `self`."
   ]
  },
  {
   "cell_type": "markdown",
   "id": "33f50223",
   "metadata": {},
   "source": [
    "### 1. **Instance Context**: \n",
    "When you call a method on an instance of a class, that instance is automatically passed to the method as the `self` parameter. This allows the method to access the attributes and methods of that specific instance."
   ]
  },
  {
   "cell_type": "code",
   "execution_count": 171,
   "id": "fa12d22b-d3c9-40ee-8b50-327393188475",
   "metadata": {},
   "outputs": [],
   "source": [
    "class My:\n",
    "    def __init__(self,a):\n",
    "        self.name = a\n",
    "        "
   ]
  },
  {
   "cell_type": "code",
   "execution_count": 181,
   "id": "371ee8d5-3977-4a46-be91-f9f756dc6209",
   "metadata": {},
   "outputs": [],
   "source": [
    "new = My(10)"
   ]
  },
  {
   "cell_type": "code",
   "execution_count": 191,
   "id": "21470fcf-64b4-4646-be52-af08af6a74ff",
   "metadata": {},
   "outputs": [
    {
     "data": {
      "text/plain": [
       "10"
      ]
     },
     "execution_count": 191,
     "metadata": {},
     "output_type": "execute_result"
    }
   ],
   "source": [
    "new.name"
   ]
  },
  {
   "cell_type": "code",
   "execution_count": null,
   "id": "10f4879a-dfed-4f98-a27f-2fcc9285cbea",
   "metadata": {},
   "outputs": [],
   "source": []
  },
  {
   "cell_type": "code",
   "execution_count": 194,
   "id": "30f410b7-401e-4d63-a956-86375cbeecd8",
   "metadata": {},
   "outputs": [],
   "source": [
    "new1 = My(\"raj\")"
   ]
  },
  {
   "cell_type": "code",
   "execution_count": 196,
   "id": "14816ea1-a4da-4338-b41a-f01ff5ad04e7",
   "metadata": {},
   "outputs": [
    {
     "data": {
      "text/plain": [
       "'raj'"
      ]
     },
     "execution_count": 196,
     "metadata": {},
     "output_type": "execute_result"
    }
   ],
   "source": [
    "new1.name"
   ]
  },
  {
   "cell_type": "code",
   "execution_count": null,
   "id": "af1d478c-54e4-4fa2-a369-f1911be7a9de",
   "metadata": {},
   "outputs": [],
   "source": []
  },
  {
   "cell_type": "code",
   "execution_count": null,
   "id": "c0c5a4e6-8258-4417-9e7f-1ddb222612d6",
   "metadata": {},
   "outputs": [],
   "source": []
  },
  {
   "cell_type": "code",
   "execution_count": 29,
   "id": "06c28d2f",
   "metadata": {},
   "outputs": [],
   "source": [
    "class Dog:\n",
    "    def __init__(self, name):\n",
    "        self.name = name  # 'self' refers to the instance calling the method\n",
    "    \n",
    "    def bark(self):\n",
    "        print(f\"{self.name} says woof!\")  # Access the instance attribute 'name'"
   ]
  },
  {
   "cell_type": "code",
   "execution_count": null,
   "id": "cccfbbc8",
   "metadata": {},
   "outputs": [],
   "source": [
    "# Create an instance of the Dog class\n",
    "dog1 = Dog(\"Rex\")"
   ]
  },
  {
   "cell_type": "code",
   "execution_count": 25,
   "id": "409d6602",
   "metadata": {},
   "outputs": [
    {
     "name": "stdout",
     "output_type": "stream",
     "text": [
      "Rex says woof!\n"
     ]
    }
   ],
   "source": [
    "# Call the instance method 'bark'\n",
    "dog1.bark()  # Output: Rex says woof!"
   ]
  },
  {
   "cell_type": "markdown",
   "id": "c8808793",
   "metadata": {},
   "source": [
    "\n",
    "Explanation: When `dog1.bark()` is called, `dog1` is automatically passed as `self` to the method, so the method can access `dog1`'s `name` attribute."
   ]
  },
  {
   "cell_type": "markdown",
   "id": "ae3d915c",
   "metadata": {},
   "source": [
    "### 2. **Accessing Attributes**: \n",
    "By using `self`, you can access the attributes (instance variables) of the class within its methods. This allows methods to work with the specific data associated with the instance."
   ]
  },
  {
   "cell_type": "code",
   "execution_count": 30,
   "id": "38e1a510",
   "metadata": {},
   "outputs": [],
   "source": [
    "class Person:\n",
    "    def __init__(self, name, age):\n",
    "        self.name = name  # Create instance attribute 'name'\n",
    "        self.age = age    # Create instance attribute 'age'\n",
    "    \n",
    "    def introduce(self):\n",
    "        # Access the instance attributes 'name' and 'age' using self\n",
    "        print(f\"My name is {self.name} and I am {self.age} years old.\")"
   ]
  },
  {
   "cell_type": "code",
   "execution_count": 31,
   "id": "e10c2367",
   "metadata": {},
   "outputs": [],
   "source": [
    "# Create an instance of the Person class\n",
    "person1 = Person(\"Alice\", 25)"
   ]
  },
  {
   "cell_type": "code",
   "execution_count": 32,
   "id": "34fcbcc2",
   "metadata": {},
   "outputs": [
    {
     "name": "stdout",
     "output_type": "stream",
     "text": [
      "My name is Alice and I am 25 years old.\n"
     ]
    }
   ],
   "source": [
    "# Call the instance method 'introduce'\n",
    "person1.introduce()  # Output: My name is Alice and I am 25 years old."
   ]
  },
  {
   "cell_type": "markdown",
   "id": "e1e6ff40",
   "metadata": {},
   "source": [
    "Explanation: `self.name` and `self.age` allow the `introduce()` method to access the specific instance attributes.\n",
    "\n"
   ]
  },
  {
   "cell_type": "code",
   "execution_count": null,
   "id": "e6b2bbfe",
   "metadata": {},
   "outputs": [],
   "source": []
  },
  {
   "cell_type": "code",
   "execution_count": null,
   "id": "e7b82b00",
   "metadata": {},
   "outputs": [],
   "source": []
  },
  {
   "cell_type": "markdown",
   "id": "ec643916",
   "metadata": {},
   "source": [
    "### What Are Attributes?\n",
    "\n",
    "In Object-Oriented Programming (OOP), **attributes** are variables that belong to a class or an object. They represent the **state** or **properties** of an object. Attributes hold data that describe an object's characteristics or behavior."
   ]
  },
  {
   "cell_type": "markdown",
   "id": "021e1dc9",
   "metadata": {},
   "source": [
    "### Types of Attributes:\n",
    "\n",
    "1. **Instance Attributes**:\n",
    "   - These attributes belong to an **individual object** (instance) of a class.\n",
    "   - Each object can have different values for these attributes.\n",
    "   - They are defined inside the constructor (`__init__()` method) and are unique to each object.\n",
    "\n",
    "2. **Class Attributes** (or Static Attributes):\n",
    "   - These attributes belong to the **class itself** rather than any particular object.\n",
    "   - All instances (objects) of the class share the same class attributes.\n",
    "   - They are defined directly within the class but outside any methods."
   ]
  },
  {
   "cell_type": "markdown",
   "id": "cb9a2a85",
   "metadata": {},
   "source": [
    "### Example: Person Class with Attributes\n",
    "\n",
    "Let’s take the `Person` class example again to illustrate the types of attributes."
   ]
  },
  {
   "cell_type": "code",
   "execution_count": null,
   "id": "4a8a822a",
   "metadata": {},
   "outputs": [],
   "source": []
  },
  {
   "cell_type": "code",
   "execution_count": 198,
   "id": "a6cd4b7a",
   "metadata": {},
   "outputs": [],
   "source": [
    "class Person:\n",
    "    species = \"Homo sapiens\"\n",
    "    \n",
    "    def __init__(self, a, b):\n",
    "        # Instance attributes (unique to each instance)\n",
    "        self.name = a  # Attribute representing the name of the person\n",
    "        self.age = b    # Attribute representing the age of the person\n",
    "        \n",
    "    def introduce(self):\n",
    "        return f\"Hello, my name is {self.name} and I am {self.age} years old.\"\n",
    "\n",
    "        \n",
    "        \n",
    "    \n",
    "    "
   ]
  },
  {
   "cell_type": "code",
   "execution_count": 200,
   "id": "dea03542",
   "metadata": {},
   "outputs": [],
   "source": [
    "n = Person(\"raj\",30)"
   ]
  },
  {
   "cell_type": "code",
   "execution_count": 202,
   "id": "006fadbe-044d-4540-bdcf-5d0010a73d43",
   "metadata": {},
   "outputs": [
    {
     "data": {
      "text/plain": [
       "30"
      ]
     },
     "execution_count": 202,
     "metadata": {},
     "output_type": "execute_result"
    }
   ],
   "source": [
    "n.age"
   ]
  },
  {
   "cell_type": "code",
   "execution_count": 204,
   "id": "021e25ff-7d5f-480c-9248-7d3aa889306d",
   "metadata": {},
   "outputs": [
    {
     "data": {
      "text/plain": [
       "'raj'"
      ]
     },
     "execution_count": 204,
     "metadata": {},
     "output_type": "execute_result"
    }
   ],
   "source": [
    "n.name"
   ]
  },
  {
   "cell_type": "code",
   "execution_count": 212,
   "id": "65da50d9-9ee7-4de0-99ca-d7f27f77408b",
   "metadata": {},
   "outputs": [
    {
     "data": {
      "text/plain": [
       "'Homo sapiens'"
      ]
     },
     "execution_count": 212,
     "metadata": {},
     "output_type": "execute_result"
    }
   ],
   "source": [
    "n.species"
   ]
  },
  {
   "cell_type": "code",
   "execution_count": null,
   "id": "61e407b5-125c-4565-b140-c0f4996e4687",
   "metadata": {},
   "outputs": [],
   "source": []
  },
  {
   "cell_type": "code",
   "execution_count": null,
   "id": "afd78953-f2ae-4f2d-aaad-dfae7cd859e1",
   "metadata": {},
   "outputs": [],
   "source": []
  },
  {
   "cell_type": "code",
   "execution_count": 206,
   "id": "4741f6a0-c3ce-4597-86f9-3d033fa54ad0",
   "metadata": {},
   "outputs": [],
   "source": [
    "n1 = Person(\"rahul\",55)"
   ]
  },
  {
   "cell_type": "code",
   "execution_count": 208,
   "id": "be65b89f-3396-471d-907b-77dcc620f91c",
   "metadata": {},
   "outputs": [
    {
     "data": {
      "text/plain": [
       "55"
      ]
     },
     "execution_count": 208,
     "metadata": {},
     "output_type": "execute_result"
    }
   ],
   "source": [
    "n1.age"
   ]
  },
  {
   "cell_type": "code",
   "execution_count": 210,
   "id": "689c1a90-bcbb-4a34-a217-e52031b25289",
   "metadata": {},
   "outputs": [
    {
     "data": {
      "text/plain": [
       "'rahul'"
      ]
     },
     "execution_count": 210,
     "metadata": {},
     "output_type": "execute_result"
    }
   ],
   "source": [
    "n1.name"
   ]
  },
  {
   "cell_type": "code",
   "execution_count": 214,
   "id": "453461fa",
   "metadata": {},
   "outputs": [
    {
     "data": {
      "text/plain": [
       "'Homo sapiens'"
      ]
     },
     "execution_count": 214,
     "metadata": {},
     "output_type": "execute_result"
    }
   ],
   "source": [
    "n1.species"
   ]
  },
  {
   "cell_type": "code",
   "execution_count": null,
   "id": "9dfddb00-8113-4e41-83f6-ca0e39644930",
   "metadata": {},
   "outputs": [],
   "source": []
  },
  {
   "cell_type": "code",
   "execution_count": null,
   "id": "be51f203-f533-4b4e-9cc7-b07e5a2e6857",
   "metadata": {},
   "outputs": [],
   "source": []
  },
  {
   "cell_type": "code",
   "execution_count": 102,
   "id": "736b18b2",
   "metadata": {},
   "outputs": [],
   "source": [
    "# Defining the Person class\n",
    "class Person:\n",
    "    # Class attribute (shared by all instances)\n",
    "    species = \"Homo sapiens\"\n",
    "    \n",
    "    # Constructor method to initialize instance attributes\n",
    "    def __init__(self, a, b):\n",
    "        # Instance attributes (unique to each instance)\n",
    "        self.name = a  # Attribute representing the name of the person\n",
    "        self.age = b    # Attribute representing the age of the person\n",
    "    \n",
    "    # A method that uses instance attributes\n",
    "    def introduce(self):\n",
    "        return f\"Hello, my name is {self.name} and I am {self.age} years old.\"\n"
   ]
  },
  {
   "cell_type": "code",
   "execution_count": 103,
   "id": "0e841cf0",
   "metadata": {},
   "outputs": [],
   "source": [
    "obj = Person(\"jj\",55)"
   ]
  },
  {
   "cell_type": "code",
   "execution_count": 104,
   "id": "ced5f799",
   "metadata": {},
   "outputs": [
    {
     "data": {
      "text/plain": [
       "'Homo sapiens'"
      ]
     },
     "execution_count": 104,
     "metadata": {},
     "output_type": "execute_result"
    }
   ],
   "source": [
    "obj.species"
   ]
  },
  {
   "cell_type": "code",
   "execution_count": 105,
   "id": "b0e32af3",
   "metadata": {},
   "outputs": [
    {
     "data": {
      "text/plain": [
       "55"
      ]
     },
     "execution_count": 105,
     "metadata": {},
     "output_type": "execute_result"
    }
   ],
   "source": [
    "obj.age"
   ]
  },
  {
   "cell_type": "code",
   "execution_count": 106,
   "id": "2edc9d65",
   "metadata": {},
   "outputs": [
    {
     "data": {
      "text/plain": [
       "'Hello, my name is jj and I am 55 years old.'"
      ]
     },
     "execution_count": 106,
     "metadata": {},
     "output_type": "execute_result"
    }
   ],
   "source": [
    "obj.introduce()"
   ]
  },
  {
   "cell_type": "code",
   "execution_count": null,
   "id": "7e1da761",
   "metadata": {},
   "outputs": [],
   "source": []
  },
  {
   "cell_type": "code",
   "execution_count": 107,
   "id": "23d941f7",
   "metadata": {},
   "outputs": [],
   "source": [
    "obj1 = Person(\"raj\",88)"
   ]
  },
  {
   "cell_type": "code",
   "execution_count": 108,
   "id": "23702c68",
   "metadata": {},
   "outputs": [
    {
     "data": {
      "text/plain": [
       "88"
      ]
     },
     "execution_count": 108,
     "metadata": {},
     "output_type": "execute_result"
    }
   ],
   "source": [
    "obj1.age"
   ]
  },
  {
   "cell_type": "code",
   "execution_count": 109,
   "id": "24473207",
   "metadata": {},
   "outputs": [
    {
     "data": {
      "text/plain": [
       "'Hello, my name is raj and I am 88 years old.'"
      ]
     },
     "execution_count": 109,
     "metadata": {},
     "output_type": "execute_result"
    }
   ],
   "source": [
    "obj1.introduce()"
   ]
  },
  {
   "cell_type": "code",
   "execution_count": 110,
   "id": "a5ef5d75",
   "metadata": {},
   "outputs": [
    {
     "data": {
      "text/plain": [
       "'Homo sapiens'"
      ]
     },
     "execution_count": 110,
     "metadata": {},
     "output_type": "execute_result"
    }
   ],
   "source": [
    "obj1.species"
   ]
  },
  {
   "cell_type": "code",
   "execution_count": null,
   "id": "fcb19fff",
   "metadata": {},
   "outputs": [],
   "source": []
  },
  {
   "cell_type": "code",
   "execution_count": null,
   "id": "210320d8",
   "metadata": {},
   "outputs": [],
   "source": []
  },
  {
   "cell_type": "markdown",
   "id": "b0c39426",
   "metadata": {},
   "source": [
    "### Explanation of Attributes:\n",
    "\n",
    "#### 1. **Instance Attributes**:"
   ]
  },
  {
   "cell_type": "markdown",
   "id": "14a460fc",
   "metadata": {},
   "source": [
    "- **self.name = name** and **self.age = age**:\n",
    "  - These are **instance attributes**, meaning that they belong to a specific object.\n",
    "  - When you create an object, the values you pass to the constructor (e.g., \"Alice\" and 30) will be assigned to `self.name` and `self.age`.\n",
    "  - Every instance (object) of the class will have its own set of these attributes.\n",
    " "
   ]
  },
  {
   "cell_type": "markdown",
   "id": "61f25212",
   "metadata": {},
   "source": [
    " \n",
    "For example:"
   ]
  },
  {
   "cell_type": "code",
   "execution_count": 26,
   "id": "2aeddccc",
   "metadata": {},
   "outputs": [],
   "source": [
    "# Creating an object (instance)\n",
    "person_1 = Person(\"Alice\", 30)"
   ]
  },
  {
   "cell_type": "code",
   "execution_count": 28,
   "id": "b0438bd0",
   "metadata": {},
   "outputs": [
    {
     "data": {
      "text/plain": [
       "'Alice'"
      ]
     },
     "execution_count": 28,
     "metadata": {},
     "output_type": "execute_result"
    }
   ],
   "source": [
    "person_1.name"
   ]
  },
  {
   "cell_type": "code",
   "execution_count": 27,
   "id": "4dd4ee77",
   "metadata": {},
   "outputs": [],
   "source": [
    "person_2 = Person(\"Bob\", 25)"
   ]
  },
  {
   "cell_type": "code",
   "execution_count": 29,
   "id": "8db3b488",
   "metadata": {},
   "outputs": [
    {
     "data": {
      "text/plain": [
       "25"
      ]
     },
     "execution_count": 29,
     "metadata": {},
     "output_type": "execute_result"
    }
   ],
   "source": [
    "person_2.age"
   ]
  },
  {
   "cell_type": "markdown",
   "id": "88bec23e",
   "metadata": {},
   "source": [
    "In this case:\n",
    "- `person_1` has `name = \"Alice\"` and `age = 30`.\n",
    "- `person_2` has `name = \"Bob\"` and `age = 25`.\n",
    "- Both objects have their own **separate** set of attributes."
   ]
  },
  {
   "cell_type": "markdown",
   "id": "8f75d7f1",
   "metadata": {},
   "source": [
    "#### 2. **Class Attributes**:\n",
    "\n",
    "- **species = \"Homo sapiens\"**:\n",
    "  - This is a **class attribute**. It is shared across all instances of the `Person` class.\n",
    "  - All objects created from the `Person` class will have the same `species` attribute value, as it belongs to the class itself rather than the individual objects.\n",
    "\n",
    "For example:"
   ]
  },
  {
   "cell_type": "code",
   "execution_count": 30,
   "id": "36ac0369",
   "metadata": {},
   "outputs": [
    {
     "data": {
      "text/plain": [
       "'Homo sapiens'"
      ]
     },
     "execution_count": 30,
     "metadata": {},
     "output_type": "execute_result"
    }
   ],
   "source": [
    "person_1.species"
   ]
  },
  {
   "cell_type": "code",
   "execution_count": 31,
   "id": "a80c8564",
   "metadata": {},
   "outputs": [
    {
     "data": {
      "text/plain": [
       "'Homo sapiens'"
      ]
     },
     "execution_count": 31,
     "metadata": {},
     "output_type": "execute_result"
    }
   ],
   "source": [
    "person_2.species"
   ]
  },
  {
   "cell_type": "code",
   "execution_count": 32,
   "id": "7b14b230",
   "metadata": {},
   "outputs": [
    {
     "data": {
      "text/plain": [
       "'Homo sapiens'"
      ]
     },
     "execution_count": 32,
     "metadata": {},
     "output_type": "execute_result"
    }
   ],
   "source": [
    "Person.species"
   ]
  },
  {
   "cell_type": "markdown",
   "id": "88816a3c",
   "metadata": {},
   "source": [
    "If you were to change the value of a class attribute, it would affect **all objects** of that class:"
   ]
  },
  {
   "cell_type": "code",
   "execution_count": 33,
   "id": "a4e85aba",
   "metadata": {},
   "outputs": [],
   "source": [
    "# Changing the class attribute\n",
    "Person.species = \"New species\""
   ]
  },
  {
   "cell_type": "code",
   "execution_count": 34,
   "id": "2ccd264b",
   "metadata": {},
   "outputs": [
    {
     "name": "stdout",
     "output_type": "stream",
     "text": [
      "New species\n"
     ]
    }
   ],
   "source": [
    "print(person_1.species)  # Output: New species"
   ]
  },
  {
   "cell_type": "code",
   "execution_count": 35,
   "id": "405f78eb",
   "metadata": {},
   "outputs": [
    {
     "name": "stdout",
     "output_type": "stream",
     "text": [
      "New species\n"
     ]
    }
   ],
   "source": [
    "print(person_2.species)  # Output: New species"
   ]
  },
  {
   "cell_type": "markdown",
   "id": "7ecf730d",
   "metadata": {},
   "source": [
    "### Key Points about Attributes:\n",
    "\n",
    "1. **Instance Attributes**:\n",
    "   - Belong to individual objects.\n",
    "   - Unique to each object, meaning different objects can have different values for these attributes.\n",
    "   - Defined within the constructor (`__init__()` method).\n",
    " "
   ]
  },
  {
   "cell_type": "markdown",
   "id": "ae3bd592",
   "metadata": {},
   "source": [
    "  \n",
    "2. **Class Attributes**:\n",
    "   - Shared by all instances of the class.\n",
    "   - Belong to the class itself rather than any particular object.\n",
    "   - Defined outside of any methods, directly inside the class."
   ]
  },
  {
   "cell_type": "markdown",
   "id": "8a40756a",
   "metadata": {},
   "source": [
    "### Accessing Attributes:"
   ]
  },
  {
   "cell_type": "markdown",
   "id": "003ecadc",
   "metadata": {},
   "source": [
    "- **Instance attributes** are accessed using the `self` keyword inside the class and through the object outside the class:\n",
    " "
   ]
  },
  {
   "cell_type": "code",
   "execution_count": null,
   "id": "4f00cebc",
   "metadata": {},
   "outputs": [],
   "source": [
    " \n",
    "person_1 = Person(\"Alice\", 30)"
   ]
  },
  {
   "cell_type": "code",
   "execution_count": 36,
   "id": "7dff901b",
   "metadata": {},
   "outputs": [
    {
     "data": {
      "text/plain": [
       "'Alice'"
      ]
     },
     "execution_count": 36,
     "metadata": {},
     "output_type": "execute_result"
    }
   ],
   "source": [
    "person_1.name"
   ]
  },
  {
   "cell_type": "markdown",
   "id": "2fe81f91",
   "metadata": {},
   "source": [
    "- **Class attributes** can be accessed either through the class or through any instance:"
   ]
  },
  {
   "cell_type": "code",
   "execution_count": 40,
   "id": "d40dd2b1",
   "metadata": {},
   "outputs": [
    {
     "data": {
      "text/plain": [
       "'New species'"
      ]
     },
     "execution_count": 40,
     "metadata": {},
     "output_type": "execute_result"
    }
   ],
   "source": [
    "Person.species  # Accessing class attribute via class"
   ]
  },
  {
   "cell_type": "code",
   "execution_count": 41,
   "id": "44547421",
   "metadata": {},
   "outputs": [
    {
     "data": {
      "text/plain": [
       "'New species'"
      ]
     },
     "execution_count": 41,
     "metadata": {},
     "output_type": "execute_result"
    }
   ],
   "source": [
    "person_1.species  # Accessing class attribute via instance"
   ]
  },
  {
   "cell_type": "markdown",
   "id": "15dcdbd2",
   "metadata": {},
   "source": [
    "### Example: Using Both Class and Instance Attributes Together"
   ]
  },
  {
   "cell_type": "code",
   "execution_count": 25,
   "id": "ea6f88aa",
   "metadata": {},
   "outputs": [],
   "source": [
    "class Car:\n",
    "    # Class attribute\n",
    "    wheels = 4\n",
    "    \n",
    "    def __init__(self, make, model):\n",
    "        # Instance attributes\n",
    "        self.make = make\n",
    "        self.model = model"
   ]
  },
  {
   "cell_type": "code",
   "execution_count": 43,
   "id": "2927b52f",
   "metadata": {},
   "outputs": [],
   "source": [
    "# Creating objects\n",
    "car1 = Car(\"Toyota\", \"Corolla\")\n",
    "car2 = Car(\"Honda\", \"Civic\")"
   ]
  },
  {
   "cell_type": "code",
   "execution_count": 45,
   "id": "176dd28b",
   "metadata": {},
   "outputs": [
    {
     "name": "stdout",
     "output_type": "stream",
     "text": [
      "Toyota\n",
      "Civic\n"
     ]
    }
   ],
   "source": [
    "# Accessing instance attributes\n",
    "print(car1.make)   # Output: Toyota\n",
    "print(car2.model)  # Output: Civic"
   ]
  },
  {
   "cell_type": "code",
   "execution_count": 47,
   "id": "7f6e48d4",
   "metadata": {},
   "outputs": [
    {
     "name": "stdout",
     "output_type": "stream",
     "text": [
      "6\n",
      "6\n"
     ]
    }
   ],
   "source": [
    "# Accessing class attribute\n",
    "print(car1.wheels)  # Output: 4 (shared by all cars)\n",
    "print(car2.wheels)   # Output: 4\n"
   ]
  },
  {
   "cell_type": "code",
   "execution_count": 33,
   "id": "2a68af58-875d-4a2a-89d6-c948553b73af",
   "metadata": {},
   "outputs": [],
   "source": [
    "Car.wheels = 6"
   ]
  },
  {
   "cell_type": "markdown",
   "id": "d087d466",
   "metadata": {},
   "source": [
    "In this example:\n",
    "- `wheels` is a class attribute shared by all cars.\n",
    "- `make` and `model` are instance attributes, specific to each car object."
   ]
  },
  {
   "cell_type": "code",
   "execution_count": null,
   "id": "750f773f",
   "metadata": {},
   "outputs": [],
   "source": []
  },
  {
   "cell_type": "markdown",
   "id": "6b982b91",
   "metadata": {},
   "source": [
    "### What Are Methods?\n",
    "\n",
    "In Object-Oriented Programming (OOP), **methods** are **functions** defined inside a class that describe the behaviors or actions that an object can perform. Methods operate on the **attributes** of an object and often manipulate the object's state (data).\n",
    "\n",
    "In simple terms:\n",
    "- **Methods** are like functions but specifically designed to work with the data (attributes) of an object.\n",
    "- They allow objects to interact with one another or with other parts of the program.\n",
    "  \n",
    "  "
   ]
  },
  {
   "cell_type": "markdown",
   "id": "e719ba90",
   "metadata": {},
   "source": [
    "### Types of Methods:\n",
    "\n",
    "1. **Instance Methods**:\n",
    "   - These methods work with the **instance (object)** of a class.\n",
    "   - They can access and modify instance attributes.\n",
    "   - They are the most common type of methods in OOP.\n",
    "\n",
    "2. **Class Methods**:\n",
    "   - These methods are bound to the **class itself** and not the instance.\n",
    "   - They can modify class attributes.\n",
    "   - They are defined using a special decorator `@classmethod`."
   ]
  },
  {
   "cell_type": "code",
   "execution_count": null,
   "id": "c216ffbe",
   "metadata": {},
   "outputs": [],
   "source": []
  },
  {
   "cell_type": "markdown",
   "id": "d2dc1f72",
   "metadata": {},
   "source": [
    "### 1. **Instance Methods**:\n",
    "\n",
    "These methods are defined inside the class and take the first parameter as `self`, which refers to the current instance (object) of the class. Instance methods can access or modify object attributes."
   ]
  },
  {
   "cell_type": "markdown",
   "id": "45433426",
   "metadata": {},
   "source": [
    "#### Example:"
   ]
  },
  {
   "cell_type": "markdown",
   "id": "deb474c7",
   "metadata": {},
   "source": [
    "#### Using the Instance Methods:"
   ]
  },
  {
   "cell_type": "code",
   "execution_count": 46,
   "id": "fda72353",
   "metadata": {},
   "outputs": [],
   "source": [
    "class Person:\n",
    "    def __init__(self, name, age):\n",
    "        self.name = name  # Instance attribute\n",
    "        self.age = age    # Instance attribute\n",
    "\n",
    "    # Instance method\n",
    "    def introduce(self):\n",
    "        return f\"Hello, my name is {self.name} and I am {self.age} years old.\"\n",
    "\n",
    "    # Instance method to update age\n",
    "    def have_birthday(self):\n",
    "        self.age += 1  # Modify the instance attribute (age)\n",
    "        return f\"Happy Birthday! You are now {self.age} years old.\"\n"
   ]
  },
  {
   "cell_type": "code",
   "execution_count": null,
   "id": "965dcc2d",
   "metadata": {},
   "outputs": [],
   "source": []
  },
  {
   "cell_type": "code",
   "execution_count": 47,
   "id": "cb0b0891",
   "metadata": {},
   "outputs": [],
   "source": [
    "# Creating an object (instance) of the Person class\n",
    "person_1 = Person(\"Alice\", 30)"
   ]
  },
  {
   "cell_type": "code",
   "execution_count": 48,
   "id": "b3b2ca2d",
   "metadata": {},
   "outputs": [
    {
     "name": "stdout",
     "output_type": "stream",
     "text": [
      "Hello, my name is Alice and I am 30 years old.\n"
     ]
    }
   ],
   "source": [
    "# Calling the introduce method\n",
    "print(person_1.introduce())  # Output: Hello, my name is Alice and I am 30 years old."
   ]
  },
  {
   "cell_type": "code",
   "execution_count": 49,
   "id": "fe9b9043",
   "metadata": {},
   "outputs": [
    {
     "name": "stdout",
     "output_type": "stream",
     "text": [
      "Happy Birthday! You are now 31 years old.\n"
     ]
    }
   ],
   "source": [
    "# Calling the have_birthday method\n",
    "print(person_1.have_birthday())  # Output: Happy Birthday! You are now 31 years old.\n"
   ]
  },
  {
   "cell_type": "markdown",
   "id": "9c0cbf30",
   "metadata": {},
   "source": [
    "#### Explanation:"
   ]
  },
  {
   "cell_type": "markdown",
   "id": "bb8bf11c",
   "metadata": {},
   "source": [
    "- **`def introduce(self):`**  \n",
    "  - This is an instance method, and `self` refers to the object that calls this method.\n",
    "  - It accesses the instance attributes `self.name` and `self.age` and returns a string.\n",
    "\n",
    "- **`def have_birthday(self):`**  \n",
    "  - This instance method increments the `age` attribute by 1, showing how methods can modify an object's state."
   ]
  },
  {
   "cell_type": "markdown",
   "id": "43d96a8a",
   "metadata": {},
   "source": [
    "### 2. **Class Methods**:\n",
    "\n",
    "Class methods are methods that are bound to the **class itself**, not to the instance (object). They are used to modify class attributes and are defined using the `@classmethod` decorator. The first parameter of a class method is `cls`, which refers to the class."
   ]
  },
  {
   "cell_type": "code",
   "execution_count": null,
   "id": "fa3bbee5",
   "metadata": {},
   "outputs": [],
   "source": []
  },
  {
   "cell_type": "markdown",
   "id": "61e91cfd",
   "metadata": {},
   "source": [
    "The `@classmethod` decorator in Python is used to define a method that belongs to the class rather than to instances of the class. Unlike instance methods, which operate on an individual instance of the class, class methods can access and modify class-level data (i.e., attributes and methods that belong to the class itself).\n",
    "\n",
    "### Key Points About `@classmethod`:\n",
    "\n",
    "1. **Operates on the Class**: A class method works with the class itself, rather than with specific instances of the class.\n",
    "   \n",
    "2. **Access to Class Data**: It has access to the class (via the `cls` parameter) and can modify class variables or call other class methods.\n",
    "   \n",
    "3. **Cannot Modify Instance Data**: Since it is not tied to any instance, a class method cannot modify instance-specific data (attributes of individual objects).\n",
    "\n",
    "4. **`cls` Parameter**: Class methods take `cls` as their first parameter, which refers to the class itself (similar to how instance methods take `self` as their first parameter to refer to the instance).\n",
    "\n",
    "### Syntax\n",
    "\n",
    "```python\n",
    "class ClassName:\n",
    "    @classmethod\n",
    "    def method_name(cls, arguments):\n",
    "        # Method body\n",
    "        pass\n",
    "```"
   ]
  },
  {
   "cell_type": "markdown",
   "id": "28ce9f8c",
   "metadata": {},
   "source": [
    "#### Example:"
   ]
  },
  {
   "cell_type": "code",
   "execution_count": null,
   "id": "f8044d59",
   "metadata": {},
   "outputs": [],
   "source": []
  },
  {
   "cell_type": "code",
   "execution_count": 111,
   "id": "ac3fd183",
   "metadata": {},
   "outputs": [],
   "source": [
    "class Car:\n",
    "    # Class attribute\n",
    "    wheels = 4\n",
    "\n",
    "    def __init__(self, make, model):\n",
    "        self.make = make  # Instance attribute\n",
    "        self.model = model  # Instance attribute\n",
    "\n",
    "    # Class method\n",
    "    @classmethod\n",
    "    def set_wheels(cls, number):\n",
    "        cls.wheels = number  # Modify the class attribute\n",
    "\n",
    "    # Instance method\n",
    "    def car_info(self):\n",
    "        return f\"{self.make} {self.model} has {Car.wheels} wheels.\"\n"
   ]
  },
  {
   "cell_type": "code",
   "execution_count": null,
   "id": "e7d705af",
   "metadata": {},
   "outputs": [],
   "source": []
  },
  {
   "cell_type": "code",
   "execution_count": 112,
   "id": "93eca9ed",
   "metadata": {},
   "outputs": [],
   "source": [
    "# Creating objects of the Car class\n",
    "car1 = Car(\"Toyota\", \"Corolla\")"
   ]
  },
  {
   "cell_type": "code",
   "execution_count": 113,
   "id": "0639d1c0",
   "metadata": {},
   "outputs": [
    {
     "data": {
      "text/plain": [
       "4"
      ]
     },
     "execution_count": 113,
     "metadata": {},
     "output_type": "execute_result"
    }
   ],
   "source": [
    "car1.wheels"
   ]
  },
  {
   "cell_type": "code",
   "execution_count": 115,
   "id": "33a98d07",
   "metadata": {},
   "outputs": [],
   "source": [
    "car1.set_wheels(6)"
   ]
  },
  {
   "cell_type": "code",
   "execution_count": 116,
   "id": "182807dd",
   "metadata": {},
   "outputs": [
    {
     "data": {
      "text/plain": [
       "6"
      ]
     },
     "execution_count": 116,
     "metadata": {},
     "output_type": "execute_result"
    }
   ],
   "source": [
    "car1.wheels"
   ]
  },
  {
   "cell_type": "code",
   "execution_count": 13,
   "id": "a2634cd1",
   "metadata": {},
   "outputs": [],
   "source": [
    "car2 = Car(\"Honda\", \"Civic\")"
   ]
  },
  {
   "cell_type": "code",
   "execution_count": 14,
   "id": "e878c696",
   "metadata": {},
   "outputs": [
    {
     "data": {
      "text/plain": [
       "6"
      ]
     },
     "execution_count": 14,
     "metadata": {},
     "output_type": "execute_result"
    }
   ],
   "source": [
    "car2.wheels"
   ]
  },
  {
   "cell_type": "code",
   "execution_count": null,
   "id": "cfa0969e",
   "metadata": {},
   "outputs": [],
   "source": [
    "# Accessing class method\n",
    "Car.set_wheels(6)"
   ]
  },
  {
   "cell_type": "code",
   "execution_count": null,
   "id": "f21e1e5b",
   "metadata": {},
   "outputs": [],
   "source": [
    "# Checking the updated value for all objects\n",
    "print(car1.car_info())  # Output: Toyota Corolla has 6 wheels."
   ]
  },
  {
   "cell_type": "code",
   "execution_count": null,
   "id": "98f79f2d",
   "metadata": {},
   "outputs": [],
   "source": [
    "print(car2.car_info())  # Output: Honda Civic has 6 wheels."
   ]
  },
  {
   "cell_type": "markdown",
   "id": "f8f4ba17",
   "metadata": {},
   "source": [
    "#### Explanation:"
   ]
  },
  {
   "cell_type": "markdown",
   "id": "e2d65dc2",
   "metadata": {},
   "source": [
    "- **`@classmethod` decorator**:  \n",
    "  - Indicates that this method is a class method.\n",
    "  \n",
    "- **`def set_wheels(cls, number):`**  \n",
    "  - This method takes the class (`cls`) as its first argument instead of the instance (`self`).\n",
    "  - It modifies the class attribute `wheels` for all instances of the class."
   ]
  },
  {
   "cell_type": "markdown",
   "id": "e2feeaee",
   "metadata": {},
   "source": [
    "In this example, `set_wheels` modifies the class attribute `wheels`, and the change reflects across all objects."
   ]
  },
  {
   "cell_type": "markdown",
   "id": "f9464635",
   "metadata": {},
   "source": [
    "### Key Points About Methods:\n",
    "\n",
    "1. **Instance Methods**:\n",
    "   - Defined inside the class with `self` as the first parameter.\n",
    "   - Can access and modify instance attributes.\n",
    "   - Called on an instance of the class.\n",
    "\n",
    "2. **Class Methods**:\n",
    "   - Defined using the `@classmethod` decorator with `cls` as the first parameter.\n",
    "   - Can access and modify class attributes.\n",
    "   - Called on the class itself or on instances."
   ]
  },
  {
   "cell_type": "markdown",
   "id": "2858f1ae",
   "metadata": {},
   "source": [
    "### Summary:\n",
    "\n",
    "- **Instance Methods**: Operate on individual objects and can modify instance attributes.\n",
    "- **Class Methods**: Operate on the class itself and can modify class-level attributes."
   ]
  },
  {
   "cell_type": "code",
   "execution_count": null,
   "id": "5ad6e6fb",
   "metadata": {},
   "outputs": [],
   "source": []
  },
  {
   "cell_type": "code",
   "execution_count": null,
   "id": "fa08ca0e-6f2b-4c6a-8197-cff5a82d891f",
   "metadata": {},
   "outputs": [],
   "source": []
  },
  {
   "cell_type": "markdown",
   "id": "e815c1e2-c05d-4551-99a4-c9639892c174",
   "metadata": {},
   "source": [
    "The terms **module** and **library** are often used interchangeably, but they refer to different concepts in programming:\n",
    "\n",
    "### 1. **Module**:\n",
    "- A **module** is a single file (or sometimes a collection of files) that contains Python definitions and statements, such as functions, classes, and variables. \n",
    "- It is essentially a file that groups related functionality together. For example, if you have a file named `math_operations.py` with several mathematical functions, that file is a module.\n",
    "- **Example**: `math`, `os`, `random` (these are standard Python modules).\n",
    "\n",
    "You can import and use a module in your code like this:\n",
    "```python\n",
    "import math\n",
    "print(math.sqrt(16))  # Outputs 4.0\n",
    "```\n",
    "\n",
    "### 2. **Library**:\n",
    "- A **library** is a collection of modules that together provide a wider range of functionalities. Libraries bundle multiple modules for specific purposes (e.g., data manipulation, web development, machine learning).\n",
    "- Libraries are often more extensive than modules and might include many modules and packages (which are a collection of related modules in a directory).\n",
    "- **Example**: `NumPy`, `Pandas`, and `Requests` are libraries that contain many modules and functions for working with arrays, data manipulation, and HTTP requests, respectively.\n",
    "\n",
    "You can import and use a library like this:\n",
    "```python\n",
    "import numpy as np\n",
    "arr = np.array([1, 2, 3, 4])\n",
    "print(arr)  # Outputs [1 2 3 4]\n",
    "```\n",
    "\n",
    "### Summary:\n",
    "- A **module** is a single file that can contain Python code (functions, classes, etc.).\n",
    "- A **library** is a collection of modules, often designed to be used together for specific tasks."
   ]
  },
  {
   "cell_type": "code",
   "execution_count": null,
   "id": "6af232f0-16e5-4f95-8c7b-2856862729ec",
   "metadata": {},
   "outputs": [],
   "source": []
  }
 ],
 "metadata": {
  "kernelspec": {
   "display_name": "Python 3 (ipykernel)",
   "language": "python",
   "name": "python3"
  },
  "language_info": {
   "codemirror_mode": {
    "name": "ipython",
    "version": 3
   },
   "file_extension": ".py",
   "mimetype": "text/x-python",
   "name": "python",
   "nbconvert_exporter": "python",
   "pygments_lexer": "ipython3",
   "version": "3.12.4"
  }
 },
 "nbformat": 4,
 "nbformat_minor": 5
}
