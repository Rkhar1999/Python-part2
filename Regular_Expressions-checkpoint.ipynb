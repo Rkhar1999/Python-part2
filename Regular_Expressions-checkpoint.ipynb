{
  "cells": [
    {
      "cell_type": "code",
      "execution_count": null,
      "metadata": {
        "id": "0FUX0Z1aF5EA"
      },
      "outputs": [],
      "source": []
    },
    {
      "cell_type": "markdown",
      "metadata": {
        "id": "2OOClcUYF5EB"
      },
      "source": [
        "# Regular Expressions\n",
        "\n",
        "A Python regular expression is a sequence of metacharacters that define a search pattern. We use these patterns in a string-searching algorithm to \"find\" or \"find and replace\" on strings.\n",
        "\n",
        "* The term \"regular expressions\" is frequently shortened to \"RegEx\".\n"
      ]
    },
    {
      "cell_type": "code",
      "execution_count": 2,
      "metadata": {
        "id": "llcVp-ClF5EC"
      },
      "outputs": [],
      "source": [
        "# Importing the regular expression re package\n",
        "import re"
      ]
    },
    {
      "cell_type": "code",
      "execution_count": 3,
      "metadata": {
        "colab": {
          "base_uri": "https://localhost:8080/"
        },
        "id": "spfVa5UjF5EC",
        "outputId": "d7d68bcc-d1ee-4d90-d0a0-874b47ffdb27"
      },
      "outputs": [
        {
          "output_type": "execute_result",
          "data": {
            "text/plain": [
              "['A',\n",
              " 'ASCII',\n",
              " 'DEBUG',\n",
              " 'DOTALL',\n",
              " 'I',\n",
              " 'IGNORECASE',\n",
              " 'L',\n",
              " 'LOCALE',\n",
              " 'M',\n",
              " 'MULTILINE',\n",
              " 'Match',\n",
              " 'Pattern',\n",
              " 'RegexFlag',\n",
              " 'S',\n",
              " 'Scanner',\n",
              " 'T',\n",
              " 'TEMPLATE',\n",
              " 'U',\n",
              " 'UNICODE',\n",
              " 'VERBOSE',\n",
              " 'X',\n",
              " '_MAXCACHE',\n",
              " '__all__',\n",
              " '__builtins__',\n",
              " '__cached__',\n",
              " '__doc__',\n",
              " '__file__',\n",
              " '__loader__',\n",
              " '__name__',\n",
              " '__package__',\n",
              " '__spec__',\n",
              " '__version__',\n",
              " '_cache',\n",
              " '_compile',\n",
              " '_compile_repl',\n",
              " '_expand',\n",
              " '_locale',\n",
              " '_pickle',\n",
              " '_special_chars_map',\n",
              " '_subx',\n",
              " 'compile',\n",
              " 'copyreg',\n",
              " 'enum',\n",
              " 'error',\n",
              " 'escape',\n",
              " 'findall',\n",
              " 'finditer',\n",
              " 'fullmatch',\n",
              " 'functools',\n",
              " 'match',\n",
              " 'purge',\n",
              " 'search',\n",
              " 'split',\n",
              " 'sre_compile',\n",
              " 'sre_parse',\n",
              " 'sub',\n",
              " 'subn',\n",
              " 'template']"
            ]
          },
          "metadata": {},
          "execution_count": 3
        }
      ],
      "source": [
        "dir(re)"
      ]
    },
    {
      "cell_type": "markdown",
      "metadata": {
        "id": "NGK93O1yF5EC"
      },
      "source": [
        "## Find all() function"
      ]
    },
    {
      "cell_type": "code",
      "execution_count": 5,
      "metadata": {
        "colab": {
          "base_uri": "https://localhost:8080/"
        },
        "id": "77mOyF90F5ED",
        "outputId": "cfdd2c16-3d58-4d5b-e1f0-880ff5f93aee"
      },
      "outputs": [
        {
          "output_type": "stream",
          "name": "stdout",
          "text": [
            "['in', 'in', 'in']\n"
          ]
        }
      ],
      "source": [
        "\n",
        "txt = \"The rain in Spain\"\n",
        "x = re.findall(\"in\", txt)\n",
        "print(x) #The list contains the matches in the order they are found.\n"
      ]
    },
    {
      "cell_type": "code",
      "execution_count": 6,
      "metadata": {
        "colab": {
          "base_uri": "https://localhost:8080/"
        },
        "id": "tnO8iaS4F5ED",
        "outputId": "156f5c7b-267e-46b9-f1f7-5d324481d828"
      },
      "outputs": [
        {
          "output_type": "stream",
          "name": "stdout",
          "text": [
            "[]\n"
          ]
        }
      ],
      "source": [
        "x = re.findall(\"ml\", txt)\n",
        "print(x) #If no matches are found, an empty list is returned:\n"
      ]
    },
    {
      "cell_type": "markdown",
      "metadata": {
        "id": "wheCmck9F5ED"
      },
      "source": [
        "## The search() Function"
      ]
    },
    {
      "cell_type": "code",
      "execution_count": 7,
      "metadata": {
        "colab": {
          "base_uri": "https://localhost:8080/"
        },
        "id": "HcEf7MPxF5ED",
        "outputId": "ad274b78-23f4-4979-edbb-b66cf56d6e02"
      },
      "outputs": [
        {
          "output_type": "stream",
          "name": "stdout",
          "text": [
            "The first white-space character is located in position: <re.Match object; span=(3, 4), match=' '>\n"
          ]
        }
      ],
      "source": [
        "#Search for the first white-space character in the string:\n",
        "txt = \"The rain in Spain\"\n",
        "x = re.search(\"\\s\", txt)\n",
        "\n",
        "print(\"The first white-space character is located in position:\", x)\n"
      ]
    },
    {
      "cell_type": "code",
      "execution_count": null,
      "metadata": {
        "id": "ccvh4GCqF5ED"
      },
      "outputs": [],
      "source": []
    },
    {
      "cell_type": "markdown",
      "metadata": {
        "id": "sbiQMdc-F5ED"
      },
      "source": [
        "## The split() Function"
      ]
    },
    {
      "cell_type": "code",
      "execution_count": 8,
      "metadata": {
        "colab": {
          "base_uri": "https://localhost:8080/"
        },
        "id": "4IxqFvSpF5ED",
        "outputId": "993a48ce-d42a-4a6d-cdc6-a1190fda77b5"
      },
      "outputs": [
        {
          "output_type": "stream",
          "name": "stdout",
          "text": [
            "['The ra', 'n ', 'n Spa', 'n']\n"
          ]
        }
      ],
      "source": [
        "#Split at each white-space character:\n",
        "\n",
        "txt = \"The rain in Spain\"\n",
        "x = re.split(\"i\", txt)\n",
        "print(x)\n"
      ]
    },
    {
      "cell_type": "code",
      "execution_count": 26,
      "metadata": {
        "colab": {
          "base_uri": "https://localhost:8080/"
        },
        "id": "7Mr0yVEJF5ED",
        "outputId": "1f9ba9a2-bc4f-4ebe-8d5f-d3cfe8154726"
      },
      "outputs": [
        {
          "output_type": "stream",
          "name": "stdout",
          "text": [
            "['The', 'rain', 'in Spain']\n"
          ]
        }
      ],
      "source": [
        "#controlling the number of occurrences by specifying the maxsplit parameter:\n",
        "txt = \"The rain in Spain\"\n",
        "x = re.split(\"\\s\", txt, 2)\n",
        "print(x)\n"
      ]
    },
    {
      "cell_type": "markdown",
      "metadata": {
        "id": "1QOxuLN3F5EE"
      },
      "source": [
        "## The sub() Function"
      ]
    },
    {
      "cell_type": "code",
      "execution_count": 27,
      "metadata": {
        "colab": {
          "base_uri": "https://localhost:8080/"
        },
        "id": "k1RqYa1pF5EE",
        "outputId": "6cee17b6-5328-402e-d731-4cd1aa73926a"
      },
      "outputs": [
        {
          "output_type": "stream",
          "name": "stdout",
          "text": [
            "The rain in India\n"
          ]
        }
      ],
      "source": [
        "\n",
        "# Replace every white-space character with the number 100:\n",
        "\n",
        "txt = \"The rain in Spain\"\n",
        "x = re.sub(\"Spain\", \"India\", txt)\n",
        "print(x)\n"
      ]
    },
    {
      "cell_type": "code",
      "execution_count": 28,
      "metadata": {
        "colab": {
          "base_uri": "https://localhost:8080/"
        },
        "id": "Iue4pvdxF5EE",
        "outputId": "a50873ae-3819-4618-ed44-7305a05160b0"
      },
      "outputs": [
        {
          "output_type": "stream",
          "name": "stdout",
          "text": [
            "TheDanirainDaniinDaniSpain\n"
          ]
        }
      ],
      "source": [
        "\n",
        "# Replace every white-space character with the Dani:\n",
        "x = re.sub(\"\\s\", \"Dani\", txt)\n",
        "print(x)\n"
      ]
    },
    {
      "cell_type": "code",
      "execution_count": 33,
      "metadata": {
        "colab": {
          "base_uri": "https://localhost:8080/"
        },
        "id": "oCtKiCzUF5EE",
        "outputId": "e93c3515-1dd0-4fb3-e4b5-20b6565749e9"
      },
      "outputs": [
        {
          "output_type": "stream",
          "name": "stdout",
          "text": [
            "ThePLrainPLinPLSpain\n"
          ]
        }
      ],
      "source": [
        "# Replace the first 2 occurrences:\n",
        "x = re.sub(\"\\s\", \"PL\", txt, 3)\n",
        "print(x)\n"
      ]
    },
    {
      "cell_type": "code",
      "execution_count": 34,
      "metadata": {
        "colab": {
          "base_uri": "https://localhost:8080/"
        },
        "id": "e0IY1-VWF5EE",
        "outputId": "246c9e83-59f7-4a07-e491-b0b3da298043"
      },
      "outputs": [
        {
          "output_type": "stream",
          "name": "stdout",
          "text": [
            "The rain in India\n"
          ]
        }
      ],
      "source": [
        "\n",
        "# Replace the string with other string\n",
        "x = re.sub(\"Spain\", \"India\", txt)\n",
        "print(x)\n"
      ]
    },
    {
      "cell_type": "code",
      "execution_count": null,
      "metadata": {
        "id": "TkjmozpbF5EE"
      },
      "outputs": [],
      "source": []
    },
    {
      "cell_type": "markdown",
      "metadata": {
        "id": "bbVxYR7EF5EE"
      },
      "source": [
        "## The match() function"
      ]
    },
    {
      "cell_type": "code",
      "source": [
        "print(re.match('ani', 'Daniel'))"
      ],
      "metadata": {
        "colab": {
          "base_uri": "https://localhost:8080/"
        },
        "id": "HktHxxLLR8o8",
        "outputId": "0505710d-deb8-4bd8-d2c9-ceccb29061e3"
      },
      "execution_count": 41,
      "outputs": [
        {
          "output_type": "stream",
          "name": "stdout",
          "text": [
            "None\n"
          ]
        }
      ]
    },
    {
      "cell_type": "code",
      "source": [
        "print(re.search('ani', 'Daniel'))"
      ],
      "metadata": {
        "colab": {
          "base_uri": "https://localhost:8080/"
        },
        "id": "esXvcrDAR_Fp",
        "outputId": "fea1885f-8365-4560-c5d8-91e57bc7141e"
      },
      "execution_count": 42,
      "outputs": [
        {
          "output_type": "stream",
          "name": "stdout",
          "text": [
            "<re.Match object; span=(1, 4), match='ani'>\n"
          ]
        }
      ]
    },
    {
      "cell_type": "code",
      "execution_count": 35,
      "metadata": {
        "colab": {
          "base_uri": "https://localhost:8080/"
        },
        "id": "uRDu-ov_F5EE",
        "outputId": "d19492d8-4082-4820-f208-8e3b7f64a1ae"
      },
      "outputs": [
        {
          "output_type": "stream",
          "name": "stdout",
          "text": [
            "None\n",
            "<re.Match object; span=(1, 4), match='ani'>\n"
          ]
        }
      ],
      "source": [
        "\n"
      ]
    },
    {
      "cell_type": "code",
      "execution_count": null,
      "metadata": {
        "id": "u7QM9x8nF5EE"
      },
      "outputs": [],
      "source": [
        "# the expression \"w+\" and \"\\W\" will match the words starting with letter 'g' and thereafter,\n",
        "#anything which is not started with 'g' is not identified.\n",
        "#To check match for each element in the list or string, we run the forloop. \\W(D\\w+)\n",
        "\n",
        "\n",
        "list = [\"Dani\",\"DJ Daniel Jadi\",\"Daniel Don\"]\n",
        "\n",
        "for i in list:\n",
        "    z = re.match(\"(D\\w+)\", i)\n",
        "    if z:\n",
        "        print((z.groups()))\n",
        "\n"
      ]
    },
    {
      "cell_type": "code",
      "execution_count": null,
      "metadata": {
        "id": "c6AABH1jF5EE"
      },
      "outputs": [],
      "source": []
    },
    {
      "cell_type": "code",
      "execution_count": 40,
      "metadata": {
        "colab": {
          "base_uri": "https://localhost:8080/"
        },
        "id": "mGIRc8IpF5EE",
        "outputId": "113b8754-ad49-4e28-ce5c-1b73c1487660"
      },
      "outputs": [
        {
          "output_type": "stream",
          "name": "stdout",
          "text": [
            "<re.Match object; span=(0, 2), match='Ca'>\n"
          ]
        }
      ],
      "source": [
        "#match checks for a match only at the beginning of the string,\n",
        "#while search checks for a match anywhere in the string.\n",
        "\n",
        "\n",
        "line = \"Cats are smarter than dogs\"\n",
        "\n",
        "matching = re.match('Ca',line)\n",
        "print(matching)\n",
        "\n"
      ]
    },
    {
      "cell_type": "code",
      "execution_count": null,
      "metadata": {
        "id": "npMb4vXwF5EF"
      },
      "outputs": [],
      "source": [
        "searching = re.search('are', line)\n",
        "print(searching)\n"
      ]
    },
    {
      "cell_type": "markdown",
      "source": [],
      "metadata": {
        "id": "uSHFyzqXTaxU"
      }
    },
    {
      "cell_type": "markdown",
      "source": [
        "Write a regular expression to match the word \"Python\"\n",
        "at the start of the string line = \"Python is fun\"."
      ],
      "metadata": {
        "id": "MOu51VnDTdfJ"
      }
    },
    {
      "cell_type": "code",
      "execution_count": 43,
      "metadata": {
        "colab": {
          "base_uri": "https://localhost:8080/"
        },
        "id": "DgGuy1mlF5EF",
        "outputId": "51ceff53-bf3b-4030-a615-231cf46e1030"
      },
      "outputs": [
        {
          "output_type": "stream",
          "name": "stdout",
          "text": [
            "<re.Match object; span=(0, 6), match='Python'>\n"
          ]
        }
      ],
      "source": [
        "list = 'Python is fun'\n",
        "l = re.match('Python', list)\n",
        "print(l)"
      ]
    },
    {
      "cell_type": "markdown",
      "source": [
        "Using re.search(), find the word \"fun\" in the string line = \"Python is fun\""
      ],
      "metadata": {
        "id": "g8gZPO2mT98y"
      }
    },
    {
      "cell_type": "code",
      "execution_count": 44,
      "metadata": {
        "colab": {
          "base_uri": "https://localhost:8080/"
        },
        "id": "jlUk9CncF5EF",
        "outputId": "e3a9e806-36a9-4eee-8f17-ec696da89a1d"
      },
      "outputs": [
        {
          "output_type": "stream",
          "name": "stdout",
          "text": [
            "<re.Match object; span=(10, 13), match='fun'>\n"
          ]
        }
      ],
      "source": [
        "import re\n",
        "line=\"python is fun\"\n",
        "matching=re.search(\"fun\",line)\n",
        "print(matching)"
      ]
    },
    {
      "cell_type": "markdown",
      "source": [
        "Write a regular expression to search for \"python\" (case-insensitive)\n",
        "in the string line = \"I love Python\""
      ],
      "metadata": {
        "id": "_0WOF3Y0UWc6"
      }
    },
    {
      "cell_type": "code",
      "source": [
        "string_list = 'I Love Python'\n",
        "line= re.search('python', string_list, re.IGNORECASE)\n",
        "print(line)"
      ],
      "metadata": {
        "colab": {
          "base_uri": "https://localhost:8080/"
        },
        "id": "mTLzYubWUbN8",
        "outputId": "a7e87e8e-e624-49b3-f029-e38e81af4906"
      },
      "execution_count": 45,
      "outputs": [
        {
          "output_type": "stream",
          "name": "stdout",
          "text": [
            "<re.Match object; span=(7, 13), match='Python'>\n"
          ]
        }
      ]
    },
    {
      "cell_type": "markdown",
      "source": [
        "Write a regex to extract all the digits from the string line = \"My number is 12345\""
      ],
      "metadata": {
        "id": "xBRBArjoUaNQ"
      }
    },
    {
      "cell_type": "code",
      "source": [
        "line = \"my number is 12345\"\n",
        "digits = re.findall('\\d+', line)\n",
        "print(digits)"
      ],
      "metadata": {
        "colab": {
          "base_uri": "https://localhost:8080/"
        },
        "id": "tYHojlsIU7DO",
        "outputId": "8e7e6125-9fac-4047-bbcc-2bb8e8e0ba00"
      },
      "execution_count": 47,
      "outputs": [
        {
          "output_type": "stream",
          "name": "stdout",
          "text": [
            "['12345']\n"
          ]
        }
      ]
    },
    {
      "cell_type": "markdown",
      "source": [
        "Use re.sub() to replace all spaces in the string line = \"Cats are smarter than dogs\" with underscores (_)."
      ],
      "metadata": {
        "id": "llZRB6jlU6BP"
      }
    },
    {
      "cell_type": "code",
      "source": [
        "txt = \"cats are smarter than dog\"\n",
        "x = re.sub(\"\\s\",\"_\", txt)\n",
        "print (x)"
      ],
      "metadata": {
        "colab": {
          "base_uri": "https://localhost:8080/"
        },
        "id": "Z-R_ymGvU7vK",
        "outputId": "d7d6e7c5-2297-4ad6-a749-56526de89996"
      },
      "execution_count": 48,
      "outputs": [
        {
          "output_type": "stream",
          "name": "stdout",
          "text": [
            "cats_are_smarter_than_dog\n"
          ]
        }
      ]
    },
    {
      "cell_type": "markdown",
      "source": [
        "Use re.split() to split the string line = \"Cats, dogs, and birds\" at each comma.\n",
        "python"
      ],
      "metadata": {
        "id": "3JPqDRxdXglX"
      }
    },
    {
      "cell_type": "code",
      "source": [
        "list = \"cats, dogs, and birds\"\n",
        "d= re.split(',',list)\n",
        "print(d)"
      ],
      "metadata": {
        "colab": {
          "base_uri": "https://localhost:8080/"
        },
        "id": "sNTC33rsXwG8",
        "outputId": "94bb22ef-4ddd-417a-a60e-a2b611913aed"
      },
      "execution_count": 51,
      "outputs": [
        {
          "output_type": "stream",
          "name": "stdout",
          "text": [
            "['cats', ' dogs', ' and birds']\n"
          ]
        }
      ]
    },
    {
      "cell_type": "markdown",
      "source": [
        "Write a regex to find all words starting with a capital letter in line = \"Hello World This is Python\"."
      ],
      "metadata": {
        "id": "C4El0YsIXope"
      }
    },
    {
      "cell_type": "code",
      "source": [
        "line = \"Hello World This is Python\"\n",
        "pattern = r'\\b[A-Z][a-z]*\\b'\n",
        "v = re.findall(pattern, line)\n",
        "print(v)"
      ],
      "metadata": {
        "colab": {
          "base_uri": "https://localhost:8080/"
        },
        "id": "7u2Is9bvXs5r",
        "outputId": "cfa1ba4c-6288-4186-d1d8-619b530d7c2c"
      },
      "execution_count": 55,
      "outputs": [
        {
          "output_type": "stream",
          "name": "stdout",
          "text": [
            "['Hello', 'World', 'This', 'Python']\n"
          ]
        }
      ]
    },
    {
      "cell_type": "markdown",
      "source": [
        "Write a regular expression to check if the string line = \"Python is awesome\" ends with \"awesome\"."
      ],
      "metadata": {
        "id": "o3H0lWBjXlv6"
      }
    },
    {
      "cell_type": "code",
      "source": [
        "txt = \"python is awesome\"\n",
        "x = re.search(r\"\\b\\w+\\b$\",txt)\n",
        "print (x)"
      ],
      "metadata": {
        "colab": {
          "base_uri": "https://localhost:8080/"
        },
        "id": "pyP2U8WbXp4y",
        "outputId": "21ebee51-2fe5-4346-8c79-98802c2ec39a"
      },
      "execution_count": 57,
      "outputs": [
        {
          "output_type": "stream",
          "name": "stdout",
          "text": [
            "<re.Match object; span=(10, 17), match='awesome'>\n"
          ]
        }
      ]
    },
    {
      "cell_type": "code",
      "source": [
        "line = 'Python is awesome'\n",
        "k= re.search(\"awesome$\", line)\n",
        "print(k)"
      ],
      "metadata": {
        "colab": {
          "base_uri": "https://localhost:8080/"
        },
        "id": "4ZfGyzgtczdH",
        "outputId": "4290f586-2997-450d-9435-cec5926dc22b"
      },
      "execution_count": 58,
      "outputs": [
        {
          "output_type": "stream",
          "name": "stdout",
          "text": [
            "<re.Match object; span=(10, 17), match='awesome'>\n"
          ]
        }
      ]
    },
    {
      "cell_type": "markdown",
      "source": [
        "Write a regular expression to find all occurrences of either \"cat\" or \"dog\" in the string line = \"The cat and the dog are friends\"."
      ],
      "metadata": {
        "id": "r3a0yVwHcrC3"
      }
    },
    {
      "cell_type": "code",
      "execution_count": 61,
      "metadata": {
        "colab": {
          "base_uri": "https://localhost:8080/"
        },
        "id": "xYgw9TlnF5EF",
        "outputId": "8b9d5f60-e415-4f69-83ab-9941d01036a8"
      },
      "outputs": [
        {
          "output_type": "stream",
          "name": "stdout",
          "text": [
            "['cat', 'dog']\n"
          ]
        }
      ],
      "source": [
        "line = \"the cat and dog are friends\"\n",
        "x = re.findall(\"cat|dog\", line)\n",
        "print(x)"
      ]
    },
    {
      "cell_type": "markdown",
      "source": [
        "Write a regex to remove all characters from the string line = \"Python123! Is fun\" that are not alphabet letters (keep only A-Z and a-z)"
      ],
      "metadata": {
        "id": "6MgJc7_bc5Tg"
      }
    },
    {
      "cell_type": "code",
      "source": [
        "txt = \"python123!\"\n",
        "x =  re.sub(r\"[^A-Za-z]\", \"\", txt)\n",
        "print (x)"
      ],
      "metadata": {
        "colab": {
          "base_uri": "https://localhost:8080/"
        },
        "id": "aRcwd3jac528",
        "outputId": "7d2c951f-75cc-49a0-a86a-39a0540f2109"
      },
      "execution_count": 64,
      "outputs": [
        {
          "output_type": "stream",
          "name": "stdout",
          "text": [
            "python\n"
          ]
        }
      ]
    },
    {
      "cell_type": "code",
      "source": [],
      "metadata": {
        "id": "lfk2lYNffSAc"
      },
      "execution_count": null,
      "outputs": []
    }
  ],
  "metadata": {
    "kernelspec": {
      "display_name": "Python 3 (ipykernel)",
      "language": "python",
      "name": "python3"
    },
    "language_info": {
      "codemirror_mode": {
        "name": "ipython",
        "version": 3
      },
      "file_extension": ".py",
      "mimetype": "text/x-python",
      "name": "python",
      "nbconvert_exporter": "python",
      "pygments_lexer": "ipython3",
      "version": "3.8.8"
    },
    "colab": {
      "provenance": []
    }
  },
  "nbformat": 4,
  "nbformat_minor": 0
}