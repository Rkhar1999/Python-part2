{
 "cells": [
  {
   "cell_type": "markdown",
   "id": "30168f5a-ae1a-4646-8cf6-67c112f0ca55",
   "metadata": {},
   "source": [
    "# **What is Probability?**"
   ]
  },
  {
   "cell_type": "markdown",
   "id": "45b430ea-4c41-46bc-9ae4-b024c26c368c",
   "metadata": {},
   "source": [
    "**Probability** is a measure of the likelihood of an event occurring. It quantifies uncertainty and ranges between **0** and **1**:\n",
    "- **0**: The event will definitely not happen.\n",
    "- **1**: The event will definitely happen.\n",
    "\n",
    "---\n",
    "\n",
    "### **Key Concepts in Probability**\n",
    "\n",
    "1. **Experiment**: An action or process that produces an outcome.  \n",
    "   - Example: Tossing a coin.\n",
    "\n",
    "2. **Sample Space (\\($ S $\\))**: The set of all possible outcomes.  \n",
    "   - Example: For a coin toss, \\($ S = \\{ \\text{Heads, Tails} \\} $\\).\n",
    "\n",
    "3. **Event**: A specific outcome or set of outcomes from the sample space.  \n",
    "   - Example: Getting \"Heads\" when tossing a coin.\n",
    "\n",
    "4. **Probability of an Event (\\($ P(E) $\\))**: The likelihood of an event happening, calculated as:  \n",
    "   \\[$\n",
    "   P(E) = \\frac{\\text{Number of favorable outcomes}}{\\text{Total number of outcomes}}\n",
    "   \\]$\n",
    "\n",
    "---\n",
    "\n",
    "### **Simple Example**\n",
    "\n",
    "#### **Tossing a Coin**\n",
    "- **Sample Space (\\($ S $\\))**: \\( $\\{ \\text{Heads, Tails} \\}$ \\).\n",
    "- **Favorable Outcome for Heads (\\($ E$ \\))**: \\( \\{$ \\text{Heads}$ \\} \\).\n",
    "\n",
    "**Probability of Getting Heads**:\n",
    "\\[\n",
    "P(\\text{Heads}) = \\frac{\\text{Number of favorable outcomes}}{\\text{Total outcomes}} = \\frac{1}{2} = 0.5\n",
    "\\]\n",
    "\n",
    "#### **Rolling a Dice**\n",
    "- **Sample Space (\\($ S $\\))**: \\($ \\{1, 2, 3, 4, 5, 6\\} $\\).\n",
    "- **Favorable Outcome for Getting 4 (\\($ E $\\))**: \\( $\\{4\\}$ \\).\n",
    "\n",
    "**Probability of Getting a 4**:\n",
    "\\[$\n",
    "P(4) = \\frac{1}{6} \\approx 0.1667\n",
    "\\]$\n",
    "\n",
    "---\n",
    "\n",
    "### **Types of Probability**\n",
    "\n",
    "1. **Theoretical Probability**:\n",
    "   - Based on logical reasoning and equally likely outcomes.\n",
    "   - Example: Probability of rolling a 3 on a dice = \\($ \\frac{1}{6}$ \\).\n",
    "\n",
    "2. **Experimental Probability**:\n",
    "   - Based on actual experiments or observations.\n",
    "   - Example: Toss a coin 100 times, and if Heads appears 55 times, the probability of Heads = \\($$ \\frac{55}{100} = 0.55$$ \\).\n",
    "\n",
    "3. **Subjective Probability**:\n",
    "   - Based on personal judgment or experience.\n",
    "   - Example: A weatherman predicting a 70% chance of rain tomorrow.\n",
    "\n",
    "\n",
    "\n",
    "### **Output Example**\n",
    "```\n",
    "Coin Toss Probabilities:\n",
    "{'Heads': 0.502, 'Tails': 0.498}\n",
    "\n",
    "Dice Roll Probabilities:\n",
    "{1: 0.166, 2: 0.168, 3: 0.162, 4: 0.169, 5: 0.166, 6: 0.169}\n",
    "```\n",
    "\n",
    "---\n",
    "\n",
    "### **Insights**\n",
    "1. **Coin Toss**:\n",
    "   - Theoretical probability: \\( 0.5 \\) for Heads or Tails.\n",
    "   - Experimental probability: Close to \\( 0.5 \\) after 1,000 trials.\n",
    "\n",
    "2. **Dice Roll**:\n",
    "   - Theoretical probability: \\( $\\frac{1}{6} \\approx 0.1667 $\\) for each outcome.\n",
    "   - Experimental probability: Each outcome occurs roughly \\( $16.67\\% $\\) of the time after 1,000 trials.\n",
    "\n",
    "---\n",
    "\n",
    "### **Key Takeaways**\n",
    "- **Probability** provides a framework to quantify uncertainty.\n",
    "- **Theoretical probabilities** are based on logic, while **experimental probabilities** are based on real-world data.\n",
    "- Repeated trials in experiments align the experimental probabilities with theoretical ones (Law of Large Numbers).\n",
    "\n",
    "Let me know if you'd like further examples or explanations!"
   ]
  },
  {
   "cell_type": "code",
   "execution_count": null,
   "id": "bed21e10-0dbd-4a75-b741-db153e3f2563",
   "metadata": {},
   "outputs": [],
   "source": []
  },
  {
   "cell_type": "code",
   "execution_count": 8,
   "id": "a698492d-b677-41ea-9365-5f460f0bbd80",
   "metadata": {},
   "outputs": [
    {
     "data": {
      "text/plain": [
       "['anagrams',\n",
       " 'anscombe',\n",
       " 'attention',\n",
       " 'brain_networks',\n",
       " 'car_crashes',\n",
       " 'diamonds',\n",
       " 'dots',\n",
       " 'dowjones',\n",
       " 'exercise',\n",
       " 'flights',\n",
       " 'fmri',\n",
       " 'geyser',\n",
       " 'glue',\n",
       " 'healthexp',\n",
       " 'iris',\n",
       " 'mpg',\n",
       " 'penguins',\n",
       " 'planets',\n",
       " 'seaice',\n",
       " 'taxis',\n",
       " 'tips',\n",
       " 'titanic']"
      ]
     },
     "execution_count": 8,
     "metadata": {},
     "output_type": "execute_result"
    }
   ],
   "source": [
    "sns.get_dataset_names()"
   ]
  },
  {
   "cell_type": "code",
   "execution_count": null,
   "id": "aaeaae14-2025-431c-8db2-1527d12d774a",
   "metadata": {},
   "outputs": [],
   "source": []
  },
  {
   "cell_type": "code",
   "execution_count": 6,
   "id": "99beb98f-4d42-43cd-b1eb-0ea496d5bc27",
   "metadata": {},
   "outputs": [],
   "source": [
    "import seaborn as sns "
   ]
  },
  {
   "cell_type": "code",
   "execution_count": 9,
   "id": "8d32c11a-3370-41ce-b007-b6da4b5bb108",
   "metadata": {},
   "outputs": [],
   "source": [
    "df = sns.load_dataset(\"titanic\")"
   ]
  },
  {
   "cell_type": "code",
   "execution_count": 15,
   "id": "2a26f34e-b60b-4deb-9397-7ee84a1c80d3",
   "metadata": {},
   "outputs": [
    {
     "data": {
      "text/html": [
       "<div>\n",
       "<style scoped>\n",
       "    .dataframe tbody tr th:only-of-type {\n",
       "        vertical-align: middle;\n",
       "    }\n",
       "\n",
       "    .dataframe tbody tr th {\n",
       "        vertical-align: top;\n",
       "    }\n",
       "\n",
       "    .dataframe thead th {\n",
       "        text-align: right;\n",
       "    }\n",
       "</style>\n",
       "<table border=\"1\" class=\"dataframe\">\n",
       "  <thead>\n",
       "    <tr style=\"text-align: right;\">\n",
       "      <th></th>\n",
       "      <th>survived</th>\n",
       "      <th>pclass</th>\n",
       "      <th>sex</th>\n",
       "      <th>age</th>\n",
       "      <th>sibsp</th>\n",
       "      <th>parch</th>\n",
       "      <th>fare</th>\n",
       "      <th>embarked</th>\n",
       "      <th>class</th>\n",
       "      <th>who</th>\n",
       "      <th>adult_male</th>\n",
       "      <th>deck</th>\n",
       "      <th>embark_town</th>\n",
       "      <th>alive</th>\n",
       "      <th>alone</th>\n",
       "    </tr>\n",
       "  </thead>\n",
       "  <tbody>\n",
       "    <tr>\n",
       "      <th>0</th>\n",
       "      <td>0</td>\n",
       "      <td>3</td>\n",
       "      <td>male</td>\n",
       "      <td>22.0</td>\n",
       "      <td>1</td>\n",
       "      <td>0</td>\n",
       "      <td>7.2500</td>\n",
       "      <td>S</td>\n",
       "      <td>Third</td>\n",
       "      <td>man</td>\n",
       "      <td>True</td>\n",
       "      <td>NaN</td>\n",
       "      <td>Southampton</td>\n",
       "      <td>no</td>\n",
       "      <td>False</td>\n",
       "    </tr>\n",
       "    <tr>\n",
       "      <th>1</th>\n",
       "      <td>1</td>\n",
       "      <td>1</td>\n",
       "      <td>female</td>\n",
       "      <td>38.0</td>\n",
       "      <td>1</td>\n",
       "      <td>0</td>\n",
       "      <td>71.2833</td>\n",
       "      <td>C</td>\n",
       "      <td>First</td>\n",
       "      <td>woman</td>\n",
       "      <td>False</td>\n",
       "      <td>C</td>\n",
       "      <td>Cherbourg</td>\n",
       "      <td>yes</td>\n",
       "      <td>False</td>\n",
       "    </tr>\n",
       "    <tr>\n",
       "      <th>2</th>\n",
       "      <td>1</td>\n",
       "      <td>3</td>\n",
       "      <td>female</td>\n",
       "      <td>26.0</td>\n",
       "      <td>0</td>\n",
       "      <td>0</td>\n",
       "      <td>7.9250</td>\n",
       "      <td>S</td>\n",
       "      <td>Third</td>\n",
       "      <td>woman</td>\n",
       "      <td>False</td>\n",
       "      <td>NaN</td>\n",
       "      <td>Southampton</td>\n",
       "      <td>yes</td>\n",
       "      <td>True</td>\n",
       "    </tr>\n",
       "    <tr>\n",
       "      <th>3</th>\n",
       "      <td>1</td>\n",
       "      <td>1</td>\n",
       "      <td>female</td>\n",
       "      <td>35.0</td>\n",
       "      <td>1</td>\n",
       "      <td>0</td>\n",
       "      <td>53.1000</td>\n",
       "      <td>S</td>\n",
       "      <td>First</td>\n",
       "      <td>woman</td>\n",
       "      <td>False</td>\n",
       "      <td>C</td>\n",
       "      <td>Southampton</td>\n",
       "      <td>yes</td>\n",
       "      <td>False</td>\n",
       "    </tr>\n",
       "    <tr>\n",
       "      <th>4</th>\n",
       "      <td>0</td>\n",
       "      <td>3</td>\n",
       "      <td>male</td>\n",
       "      <td>35.0</td>\n",
       "      <td>0</td>\n",
       "      <td>0</td>\n",
       "      <td>8.0500</td>\n",
       "      <td>S</td>\n",
       "      <td>Third</td>\n",
       "      <td>man</td>\n",
       "      <td>True</td>\n",
       "      <td>NaN</td>\n",
       "      <td>Southampton</td>\n",
       "      <td>no</td>\n",
       "      <td>True</td>\n",
       "    </tr>\n",
       "  </tbody>\n",
       "</table>\n",
       "</div>"
      ],
      "text/plain": [
       "   survived  pclass     sex   age  sibsp  parch     fare embarked  class  \\\n",
       "0         0       3    male  22.0      1      0   7.2500        S  Third   \n",
       "1         1       1  female  38.0      1      0  71.2833        C  First   \n",
       "2         1       3  female  26.0      0      0   7.9250        S  Third   \n",
       "3         1       1  female  35.0      1      0  53.1000        S  First   \n",
       "4         0       3    male  35.0      0      0   8.0500        S  Third   \n",
       "\n",
       "     who  adult_male deck  embark_town alive  alone  \n",
       "0    man        True  NaN  Southampton    no  False  \n",
       "1  woman       False    C    Cherbourg   yes  False  \n",
       "2  woman       False  NaN  Southampton   yes   True  \n",
       "3  woman       False    C  Southampton   yes  False  \n",
       "4    man        True  NaN  Southampton    no   True  "
      ]
     },
     "execution_count": 15,
     "metadata": {},
     "output_type": "execute_result"
    }
   ],
   "source": [
    "df.head()"
   ]
  },
  {
   "cell_type": "code",
   "execution_count": 16,
   "id": "9e202a32-ed6a-4cd1-86f3-18a00003ee66",
   "metadata": {},
   "outputs": [
    {
     "data": {
      "text/plain": [
       "array([22.  , 38.  , 26.  , 35.  ,   nan, 54.  ,  2.  , 27.  , 14.  ,\n",
       "        4.  , 58.  , 20.  , 39.  , 55.  , 31.  , 34.  , 15.  , 28.  ,\n",
       "        8.  , 19.  , 40.  , 66.  , 42.  , 21.  , 18.  ,  3.  ,  7.  ,\n",
       "       49.  , 29.  , 65.  , 28.5 ,  5.  , 11.  , 45.  , 17.  , 32.  ,\n",
       "       16.  , 25.  ,  0.83, 30.  , 33.  , 23.  , 24.  , 46.  , 59.  ,\n",
       "       71.  , 37.  , 47.  , 14.5 , 70.5 , 32.5 , 12.  ,  9.  , 36.5 ,\n",
       "       51.  , 55.5 , 40.5 , 44.  ,  1.  , 61.  , 56.  , 50.  , 36.  ,\n",
       "       45.5 , 20.5 , 62.  , 41.  , 52.  , 63.  , 23.5 ,  0.92, 43.  ,\n",
       "       60.  , 10.  , 64.  , 13.  , 48.  ,  0.75, 53.  , 57.  , 80.  ,\n",
       "       70.  , 24.5 ,  6.  ,  0.67, 30.5 ,  0.42, 34.5 , 74.  ])"
      ]
     },
     "execution_count": 16,
     "metadata": {},
     "output_type": "execute_result"
    }
   ],
   "source": [
    "df[\"age\"].unique()"
   ]
  },
  {
   "cell_type": "code",
   "execution_count": null,
   "id": "25eb59ff-d36e-4ff3-aea4-6b5510869bc3",
   "metadata": {},
   "outputs": [],
   "source": []
  },
  {
   "cell_type": "code",
   "execution_count": 10,
   "id": "0d114d4e-69e5-423f-8618-aa314a36db62",
   "metadata": {},
   "outputs": [
    {
     "data": {
      "text/plain": [
       "Index(['survived', 'pclass', 'sex', 'age', 'sibsp', 'parch', 'fare',\n",
       "       'embarked', 'class', 'who', 'adult_male', 'deck', 'embark_town',\n",
       "       'alive', 'alone'],\n",
       "      dtype='object')"
      ]
     },
     "execution_count": 10,
     "metadata": {},
     "output_type": "execute_result"
    }
   ],
   "source": [
    "df.columns"
   ]
  },
  {
   "cell_type": "code",
   "execution_count": 14,
   "id": "1a8d83ec-d776-4118-91c9-4510701f9f45",
   "metadata": {},
   "outputs": [
    {
     "data": {
      "text/plain": [
       "count    714.000000\n",
       "mean      29.699118\n",
       "std       14.526497\n",
       "min        0.420000\n",
       "25%       20.125000\n",
       "50%       28.000000\n",
       "75%       38.000000\n",
       "max       80.000000\n",
       "Name: age, dtype: float64"
      ]
     },
     "execution_count": 14,
     "metadata": {},
     "output_type": "execute_result"
    }
   ],
   "source": [
    "df[\"age\"].describe()"
   ]
  },
  {
   "cell_type": "code",
   "execution_count": 13,
   "id": "b4060f91-2e00-4446-917f-85e68d4cbf5d",
   "metadata": {},
   "outputs": [
    {
     "data": {
      "text/plain": [
       "<Axes: xlabel='age', ylabel='Count'>"
      ]
     },
     "execution_count": 13,
     "metadata": {},
     "output_type": "execute_result"
    },
    {
     "data": {
      "image/png": "[encoded data removed]",
      "text/plain": [
       "<Figure size 640x480 with 1 Axes>"
      ]
     },
     "metadata": {},
     "output_type": "display_data"
    }
   ],
   "source": [
    "sns.histplot(data = df,x = \"age\",kde= True)"
   ]
  },
  {
   "cell_type": "code",
   "execution_count": 19,
   "id": "91503887-479b-4fc2-9b0a-d7a0eae347e8",
   "metadata": {},
   "outputs": [
    {
     "data": {
      "text/plain": [
       "<Axes: xlabel='fare', ylabel='Count'>"
      ]
     },
     "execution_count": 19,
     "metadata": {},
     "output_type": "execute_result"
    },
    {
     "data": {
      "image/png": "[encoded data removed]",
      "text/plain": [
       "<Figure size 640x480 with 1 Axes>"
      ]
     },
     "metadata": {},
     "output_type": "display_data"
    }
   ],
   "source": [
    "sns.histplot(data = df,x = \"fare\",kde= True)"
   ]
  },
  {
   "cell_type": "code",
   "execution_count": 22,
   "id": "2ec20ec2-c2fd-4c58-88e9-60cf50f33547",
   "metadata": {},
   "outputs": [
    {
     "data": {
      "text/plain": [
       "count    891.000000\n",
       "mean      32.204208\n",
       "std       49.693429\n",
       "min        0.000000\n",
       "25%        7.910400\n",
       "50%       14.454200\n",
       "75%       31.000000\n",
       "max      512.329200\n",
       "Name: fare, dtype: float64"
      ]
     },
     "execution_count": 22,
     "metadata": {},
     "output_type": "execute_result"
    }
   ],
   "source": [
    "df[\"fare\"].describe()"
   ]
  },
  {
   "cell_type": "code",
   "execution_count": null,
   "id": "b305dc4c-d7e6-4840-82f5-301cf2cd40ae",
   "metadata": {},
   "outputs": [],
   "source": []
  },
  {
   "cell_type": "code",
   "execution_count": 11,
   "id": "a8b6e22d-3a7b-49de-9a5f-5237c5bb4c96",
   "metadata": {},
   "outputs": [
    {
     "data": {
      "text/plain": [
       "<Axes: xlabel='age', ylabel='Density'>"
      ]
     },
     "execution_count": 11,
     "metadata": {},
     "output_type": "execute_result"
    },
    {
     "data": {
      "image/png": "[encoded data removed]",
      "text/plain": [
       "<Figure size 640x480 with 1 Axes>"
      ]
     },
     "metadata": {},
     "output_type": "display_data"
    }
   ],
   "source": [
    "sns.kdeplot(data = df,x = \"age\")"
   ]
  },
  {
   "cell_type": "code",
   "execution_count": null,
   "id": "94bcfc27-9953-4bc1-8085-ba384d0de15a",
   "metadata": {},
   "outputs": [],
   "source": []
  },
  {
   "cell_type": "code",
   "execution_count": null,
   "id": "b5a44ebe-440d-41cd-9ce9-c745e32cbf3d",
   "metadata": {},
   "outputs": [],
   "source": []
  },
  {
   "cell_type": "code",
   "execution_count": null,
   "id": "8df5a9d5-0d0a-4468-a8f3-95b12b28a724",
   "metadata": {},
   "outputs": [],
   "source": []
  },
  {
   "cell_type": "markdown",
   "id": "d39d4ecd-6fcd-4df3-9414-7c35de3d6318",
   "metadata": {},
   "source": [
    "# Distribution "
   ]
  },
  {
   "cell_type": "markdown",
   "id": "d01ca41e-9c3b-478f-870f-a89f730f98cb",
   "metadata": {},
   "source": [
    "### **What is a Distribution? (General Explanation)**\n",
    "\n",
    "In general, a **distribution** describes how something is spread or arranged. It shows the way data, objects, or occurrences are spread across different categories, intervals, or areas.\n",
    "\n",
    "---\n",
    "\n",
    "### **Simple Examples of Distribution**\n",
    "\n",
    "1. **Grades in a Classroom**:\n",
    "   - Imagine you’re in a class where students received the following grades:\n",
    "     - A: 10 students\n",
    "     - B: 20 students\n",
    "     - C: 15 students\n",
    "     - D: 5 students\n",
    "   - This is a **distribution of grades**—it tells you how the grades are spread among the students.\n",
    "\n",
    "2. **Height of Trees in a Forest**:\n",
    "   - In a forest:\n",
    "     - 50 trees are between 5-10 feet tall.\n",
    "     - 30 trees are between 10-15 feet tall.\n",
    "     - 20 trees are between 15-20 feet tall.\n",
    "   - This is a **distribution of tree heights**, showing how many trees fall into each height range.\n",
    "\n",
    "---\n",
    "\n",
    "### **Key Components of a Distribution**\n",
    "\n",
    "1. **Values**: The things you are measuring or categorizing (e.g., grades, heights, income).\n",
    "2. **Frequency**: How often each value or range of values occurs.\n",
    "3. **Shape**: The pattern or shape formed when you graph the data (e.g., bell-shaped, uniform, skewed).\n",
    "\n",
    "---\n",
    "\n",
    "### **Why Are Distributions Important?**\n",
    "\n",
    "1. **Summarization**:\n",
    "   - Distributions simplify data by showing how it is spread out.\n",
    "2. **Patterns**:\n",
    "   - Help identify trends, such as whether data is concentrated in one area or spread evenly.\n",
    "3. **Comparison**:\n",
    "   - Allow you to compare different groups or datasets.\n",
    "\n",
    "---\n",
    "\n",
    "### **Types of Distributions**\n",
    "\n",
    "#### **1. Uniform Distribution**\n",
    "- All values are evenly distributed.\n",
    "- Example: Rolling a fair dice. Each number (1 to 6) has the same chance of appearing.\n",
    "\n",
    "#### **2. Skewed Distribution**\n",
    "- Data is concentrated more on one side.\n",
    "- Example: Income distribution, where most people earn below the average, but a few earn very high amounts.\n",
    "\n",
    "#### **3. Bell-Shaped Distribution**\n",
    "- Data is concentrated around the center and tapers off symmetrically.\n",
    "- Example: Heights of people, where most are near the average, and very few are extremely short or tall.\n",
    "\n",
    "---\n",
    "\n",
    "### **Visualization Example**\n",
    "\n",
    "Let’s illustrate this with a dataset."
   ]
  },
  {
   "cell_type": "markdown",
   "id": "9cde0cdd-9514-40d7-9f9c-365690cbaf87",
   "metadata": {},
   "source": [
    "#### **Python Code**"
   ]
  },
  {
   "cell_type": "code",
   "execution_count": 2,
   "id": "f11739d4-a582-4022-b9d8-035d309fa172",
   "metadata": {},
   "outputs": [
    {
     "data": {
      "image/png": "[encoded data removed]",
      "text/plain": [
       "<Figure size 1200x600 with 2 Axes>"
      ]
     },
     "metadata": {},
     "output_type": "display_data"
    }
   ],
   "source": [
    "import numpy as np\n",
    "import matplotlib.pyplot as plt\n",
    "\n",
    "# Simulated Data\n",
    "uniform_data = np.random.uniform(1, 10, 1000)  # Uniform distribution\n",
    "bell_data = np.random.normal(50, 10, 1000)  # Bell-shaped (normal) distribution\n",
    "\n",
    "# Plotting\n",
    "plt.figure(figsize=(12, 6))\n",
    "\n",
    "# Uniform Distribution\n",
    "plt.subplot(1, 2, 1)\n",
    "plt.hist(uniform_data, bins=10, color='skyblue', edgecolor='black', density=True)\n",
    "plt.title(\"Uniform Distribution\")\n",
    "plt.xlabel(\"Value\")\n",
    "plt.ylabel(\"Frequency\")\n",
    "\n",
    "# Bell-Shaped Distribution\n",
    "plt.subplot(1, 2, 2)\n",
    "plt.hist(bell_data, bins=20, color='orange', edgecolor='black', density=True)\n",
    "plt.title(\"Bell-Shaped Distribution\")\n",
    "plt.xlabel(\"Value\")\n",
    "plt.ylabel(\"Frequency\")\n",
    "\n",
    "plt.tight_layout()\n",
    "plt.show()\n"
   ]
  },
  {
   "cell_type": "markdown",
   "id": "596d9267-813f-494c-bbc6-acd05fa99c6b",
   "metadata": {},
   "source": [
    "---\n",
    "\n",
    "### **What You’ll See**\n",
    "\n",
    "1. **Uniform Distribution**:\n",
    "   - A flat histogram where all values have roughly the same frequency.\n",
    "\n",
    "2. **Bell-Shaped Distribution**:\n",
    "   - A histogram with a peak in the middle, tapering off symmetrically on both sides.\n",
    "\n",
    "---\n",
    "\n",
    "### **Key Takeaways**\n",
    "- A **distribution** is a way of showing how data is spread or arranged.\n",
    "- It applies to any scenario where you want to describe how something is spread out—grades, income, heights, or anything else.\n",
    "- The **shape** of the distribution tells you about the nature of the data (e.g., uniform, skewed, bell-shaped).\n",
    "\n",
    "Let me know if this general explanation helps or if you’d like more examples! 😊"
   ]
  },
  {
   "cell_type": "code",
   "execution_count": null,
   "id": "0f02744e-7593-4eb6-8ea4-d7899be2f23c",
   "metadata": {},
   "outputs": [],
   "source": []
  },
  {
   "cell_type": "code",
   "execution_count": null,
   "id": "a26c3622-22e7-40ab-988a-25c502134eeb",
   "metadata": {},
   "outputs": [],
   "source": []
  },
  {
   "cell_type": "code",
   "execution_count": null,
   "id": "5ebb140c-9f72-4eb8-847e-3bdc848a872a",
   "metadata": {},
   "outputs": [],
   "source": []
  },
  {
   "cell_type": "code",
   "execution_count": null,
   "id": "e88bd742-2308-4c43-86c4-fa0ef30c3026",
   "metadata": {},
   "outputs": [],
   "source": []
  },
  {
   "cell_type": "markdown",
   "id": "00163b15-b5b9-446b-845d-dc9c602e67c8",
   "metadata": {},
   "source": [
    "### **What is a Frequency Distribution Table?**\n",
    "\n",
    "A **frequency distribution table** organizes data into categories or intervals and displays the frequency (count) of occurrences for each category or interval. It is a simple way to summarize data and understand its distribution.\n",
    "\n",
    "---\n",
    "\n",
    "### **Key Components of a Frequency Distribution Table**\n",
    "\n",
    "1. **Data Categories or Intervals**:\n",
    "   - For categorical data: Unique categories (e.g., colors, days).\n",
    "   - For numerical data: Defined intervals (e.g., 0-10, 11-20).\n",
    "\n",
    "2. **Frequency**:\n",
    "   - The number of occurrences for each category or interval.\n",
    "\n",
    "---\n",
    "\n",
    "### **Why Use a Frequency Distribution Table?**\n",
    "- Simplifies large datasets.\n",
    "- Makes it easier to identify patterns, trends, or outliers.\n",
    "- Serves as a foundation for visualizations like histograms or bar charts.\n",
    "\n",
    "---\n",
    "\n",
    "### **Simple Example**\n",
    "\n",
    "#### **Categorical Data Example**\n",
    "Suppose we have a list of fruits sold:\n",
    "\\[ $\\text{[Apple, Orange, Banana, Apple, Orange, Apple]} $\\]\n",
    "\n",
    "**Frequency Distribution Table**:\n",
    "| Fruit   | Frequency |\n",
    "|---------|-----------|\n",
    "| Apple   | 3         |\n",
    "| Orange  | 2         |\n",
    "| Banana  | 1         |\n",
    "\n",
    "#### **Numerical Data Example**\n",
    "Suppose we have the scores of 10 students:\n",
    "\\[$ \\text{[5, 7, 8, 5, 9, 6, 7, 8, 10, 5]} $\\]\n",
    "\n",
    "We divide the scores into intervals:\n",
    "- 0-5\n",
    "- 6-10\n",
    "\n",
    "**Frequency Distribution Table**:\n",
    "| Score Range | Frequency |\n",
    "|-------------|-----------|\n",
    "| 0-5         | 3         |\n",
    "| 6-10        | 7         |\n",
    "\n",
    "---"
   ]
  },
  {
   "cell_type": "markdown",
   "id": "25e7e7eb-29de-4326-9e7d-36a214756a50",
   "metadata": {},
   "source": [
    "### **Python Code Example**\n",
    "\n",
    "#### **For Categorical Data**\n",
    "```python\n",
    "import pandas as pd\n",
    "\n",
    "# Categorical data: Fruits sold\n",
    "data = ['Apple', 'Orange', 'Banana', 'Apple', 'Orange', 'Apple']\n",
    "\n",
    "# Create frequency distribution\n",
    "frequency_table = pd.Series(data).value_counts()\n",
    "\n",
    "print(\"Frequency Distribution Table for Fruits:\")\n",
    "print(frequency_table)\n",
    "```"
   ]
  },
  {
   "cell_type": "markdown",
   "id": "3a5b8ebf-45eb-4ca6-9a93-f3bcf51773b3",
   "metadata": {},
   "source": [
    "\n",
    "\n",
    "### **Key Takeaways**\n",
    "1. **Categorical Data**:\n",
    "   - Unique categories like \"Apple\" and \"Orange\" are counted.\n",
    "2. **Numerical Data**:\n",
    "   - Intervals or bins group numerical values for better summarization.\n",
    "3. **Visualization**:\n",
    "   - Bar charts make it easy to interpret frequency distributions.\n",
    "\n",
    "Let me know if you'd like more details or additional examples!"
   ]
  },
  {
   "cell_type": "code",
   "execution_count": 23,
   "id": "d60f0129-2a36-4ce3-bf20-388ac1ea2701",
   "metadata": {},
   "outputs": [
    {
     "data": {
      "text/html": [
       "<div>\n",
       "<style scoped>\n",
       "    .dataframe tbody tr th:only-of-type {\n",
       "        vertical-align: middle;\n",
       "    }\n",
       "\n",
       "    .dataframe tbody tr th {\n",
       "        vertical-align: top;\n",
       "    }\n",
       "\n",
       "    .dataframe thead th {\n",
       "        text-align: right;\n",
       "    }\n",
       "</style>\n",
       "<table border=\"1\" class=\"dataframe\">\n",
       "  <thead>\n",
       "    <tr style=\"text-align: right;\">\n",
       "      <th></th>\n",
       "      <th>survived</th>\n",
       "      <th>pclass</th>\n",
       "      <th>sex</th>\n",
       "      <th>age</th>\n",
       "      <th>sibsp</th>\n",
       "      <th>parch</th>\n",
       "      <th>fare</th>\n",
       "      <th>embarked</th>\n",
       "      <th>class</th>\n",
       "      <th>who</th>\n",
       "      <th>adult_male</th>\n",
       "      <th>deck</th>\n",
       "      <th>embark_town</th>\n",
       "      <th>alive</th>\n",
       "      <th>alone</th>\n",
       "    </tr>\n",
       "  </thead>\n",
       "  <tbody>\n",
       "    <tr>\n",
       "      <th>0</th>\n",
       "      <td>0</td>\n",
       "      <td>3</td>\n",
       "      <td>male</td>\n",
       "      <td>22.0</td>\n",
       "      <td>1</td>\n",
       "      <td>0</td>\n",
       "      <td>7.2500</td>\n",
       "      <td>S</td>\n",
       "      <td>Third</td>\n",
       "      <td>man</td>\n",
       "      <td>True</td>\n",
       "      <td>NaN</td>\n",
       "      <td>Southampton</td>\n",
       "      <td>no</td>\n",
       "      <td>False</td>\n",
       "    </tr>\n",
       "    <tr>\n",
       "      <th>1</th>\n",
       "      <td>1</td>\n",
       "      <td>1</td>\n",
       "      <td>female</td>\n",
       "      <td>38.0</td>\n",
       "      <td>1</td>\n",
       "      <td>0</td>\n",
       "      <td>71.2833</td>\n",
       "      <td>C</td>\n",
       "      <td>First</td>\n",
       "      <td>woman</td>\n",
       "      <td>False</td>\n",
       "      <td>C</td>\n",
       "      <td>Cherbourg</td>\n",
       "      <td>yes</td>\n",
       "      <td>False</td>\n",
       "    </tr>\n",
       "    <tr>\n",
       "      <th>2</th>\n",
       "      <td>1</td>\n",
       "      <td>3</td>\n",
       "      <td>female</td>\n",
       "      <td>26.0</td>\n",
       "      <td>0</td>\n",
       "      <td>0</td>\n",
       "      <td>7.9250</td>\n",
       "      <td>S</td>\n",
       "      <td>Third</td>\n",
       "      <td>woman</td>\n",
       "      <td>False</td>\n",
       "      <td>NaN</td>\n",
       "      <td>Southampton</td>\n",
       "      <td>yes</td>\n",
       "      <td>True</td>\n",
       "    </tr>\n",
       "    <tr>\n",
       "      <th>3</th>\n",
       "      <td>1</td>\n",
       "      <td>1</td>\n",
       "      <td>female</td>\n",
       "      <td>35.0</td>\n",
       "      <td>1</td>\n",
       "      <td>0</td>\n",
       "      <td>53.1000</td>\n",
       "      <td>S</td>\n",
       "      <td>First</td>\n",
       "      <td>woman</td>\n",
       "      <td>False</td>\n",
       "      <td>C</td>\n",
       "      <td>Southampton</td>\n",
       "      <td>yes</td>\n",
       "      <td>False</td>\n",
       "    </tr>\n",
       "    <tr>\n",
       "      <th>4</th>\n",
       "      <td>0</td>\n",
       "      <td>3</td>\n",
       "      <td>male</td>\n",
       "      <td>35.0</td>\n",
       "      <td>0</td>\n",
       "      <td>0</td>\n",
       "      <td>8.0500</td>\n",
       "      <td>S</td>\n",
       "      <td>Third</td>\n",
       "      <td>man</td>\n",
       "      <td>True</td>\n",
       "      <td>NaN</td>\n",
       "      <td>Southampton</td>\n",
       "      <td>no</td>\n",
       "      <td>True</td>\n",
       "    </tr>\n",
       "    <tr>\n",
       "      <th>...</th>\n",
       "      <td>...</td>\n",
       "      <td>...</td>\n",
       "      <td>...</td>\n",
       "      <td>...</td>\n",
       "      <td>...</td>\n",
       "      <td>...</td>\n",
       "      <td>...</td>\n",
       "      <td>...</td>\n",
       "      <td>...</td>\n",
       "      <td>...</td>\n",
       "      <td>...</td>\n",
       "      <td>...</td>\n",
       "      <td>...</td>\n",
       "      <td>...</td>\n",
       "      <td>...</td>\n",
       "    </tr>\n",
       "    <tr>\n",
       "      <th>886</th>\n",
       "      <td>0</td>\n",
       "      <td>2</td>\n",
       "      <td>male</td>\n",
       "      <td>27.0</td>\n",
       "      <td>0</td>\n",
       "      <td>0</td>\n",
       "      <td>13.0000</td>\n",
       "      <td>S</td>\n",
       "      <td>Second</td>\n",
       "      <td>man</td>\n",
       "      <td>True</td>\n",
       "      <td>NaN</td>\n",
       "      <td>Southampton</td>\n",
       "      <td>no</td>\n",
       "      <td>True</td>\n",
       "    </tr>\n",
       "    <tr>\n",
       "      <th>887</th>\n",
       "      <td>1</td>\n",
       "      <td>1</td>\n",
       "      <td>female</td>\n",
       "      <td>19.0</td>\n",
       "      <td>0</td>\n",
       "      <td>0</td>\n",
       "      <td>30.0000</td>\n",
       "      <td>S</td>\n",
       "      <td>First</td>\n",
       "      <td>woman</td>\n",
       "      <td>False</td>\n",
       "      <td>B</td>\n",
       "      <td>Southampton</td>\n",
       "      <td>yes</td>\n",
       "      <td>True</td>\n",
       "    </tr>\n",
       "    <tr>\n",
       "      <th>888</th>\n",
       "      <td>0</td>\n",
       "      <td>3</td>\n",
       "      <td>female</td>\n",
       "      <td>NaN</td>\n",
       "      <td>1</td>\n",
       "      <td>2</td>\n",
       "      <td>23.4500</td>\n",
       "      <td>S</td>\n",
       "      <td>Third</td>\n",
       "      <td>woman</td>\n",
       "      <td>False</td>\n",
       "      <td>NaN</td>\n",
       "      <td>Southampton</td>\n",
       "      <td>no</td>\n",
       "      <td>False</td>\n",
       "    </tr>\n",
       "    <tr>\n",
       "      <th>889</th>\n",
       "      <td>1</td>\n",
       "      <td>1</td>\n",
       "      <td>male</td>\n",
       "      <td>26.0</td>\n",
       "      <td>0</td>\n",
       "      <td>0</td>\n",
       "      <td>30.0000</td>\n",
       "      <td>C</td>\n",
       "      <td>First</td>\n",
       "      <td>man</td>\n",
       "      <td>True</td>\n",
       "      <td>C</td>\n",
       "      <td>Cherbourg</td>\n",
       "      <td>yes</td>\n",
       "      <td>True</td>\n",
       "    </tr>\n",
       "    <tr>\n",
       "      <th>890</th>\n",
       "      <td>0</td>\n",
       "      <td>3</td>\n",
       "      <td>male</td>\n",
       "      <td>32.0</td>\n",
       "      <td>0</td>\n",
       "      <td>0</td>\n",
       "      <td>7.7500</td>\n",
       "      <td>Q</td>\n",
       "      <td>Third</td>\n",
       "      <td>man</td>\n",
       "      <td>True</td>\n",
       "      <td>NaN</td>\n",
       "      <td>Queenstown</td>\n",
       "      <td>no</td>\n",
       "      <td>True</td>\n",
       "    </tr>\n",
       "  </tbody>\n",
       "</table>\n",
       "<p>891 rows × 15 columns</p>\n",
       "</div>"
      ],
      "text/plain": [
       "     survived  pclass     sex   age  sibsp  parch     fare embarked   class  \\\n",
       "0           0       3    male  22.0      1      0   7.2500        S   Third   \n",
       "1           1       1  female  38.0      1      0  71.2833        C   First   \n",
       "2           1       3  female  26.0      0      0   7.9250        S   Third   \n",
       "3           1       1  female  35.0      1      0  53.1000        S   First   \n",
       "4           0       3    male  35.0      0      0   8.0500        S   Third   \n",
       "..        ...     ...     ...   ...    ...    ...      ...      ...     ...   \n",
       "886         0       2    male  27.0      0      0  13.0000        S  Second   \n",
       "887         1       1  female  19.0      0      0  30.0000        S   First   \n",
       "888         0       3  female   NaN      1      2  23.4500        S   Third   \n",
       "889         1       1    male  26.0      0      0  30.0000        C   First   \n",
       "890         0       3    male  32.0      0      0   7.7500        Q   Third   \n",
       "\n",
       "       who  adult_male deck  embark_town alive  alone  \n",
       "0      man        True  NaN  Southampton    no  False  \n",
       "1    woman       False    C    Cherbourg   yes  False  \n",
       "2    woman       False  NaN  Southampton   yes   True  \n",
       "3    woman       False    C  Southampton   yes  False  \n",
       "4      man        True  NaN  Southampton    no   True  \n",
       "..     ...         ...  ...          ...   ...    ...  \n",
       "886    man        True  NaN  Southampton    no   True  \n",
       "887  woman       False    B  Southampton   yes   True  \n",
       "888  woman       False  NaN  Southampton    no  False  \n",
       "889    man        True    C    Cherbourg   yes   True  \n",
       "890    man        True  NaN   Queenstown    no   True  \n",
       "\n",
       "[891 rows x 15 columns]"
      ]
     },
     "execution_count": 23,
     "metadata": {},
     "output_type": "execute_result"
    }
   ],
   "source": [
    "df"
   ]
  },
  {
   "cell_type": "code",
   "execution_count": 25,
   "id": "f1e6c136-7b01-4865-93ce-fb90f57aa591",
   "metadata": {},
   "outputs": [
    {
     "data": {
      "text/plain": [
       "array([3, 1, 2], dtype=int64)"
      ]
     },
     "execution_count": 25,
     "metadata": {},
     "output_type": "execute_result"
    }
   ],
   "source": [
    "df[\"pclass\"].unique()"
   ]
  },
  {
   "cell_type": "code",
   "execution_count": 24,
   "id": "60ad471b-8cf4-4c2b-869f-acaaed959fc4",
   "metadata": {},
   "outputs": [
    {
     "data": {
      "text/plain": [
       "pclass\n",
       "3    491\n",
       "1    216\n",
       "2    184\n",
       "Name: count, dtype: int64"
      ]
     },
     "execution_count": 24,
     "metadata": {},
     "output_type": "execute_result"
    }
   ],
   "source": [
    "df[\"pclass\"].value_counts()"
   ]
  },
  {
   "cell_type": "code",
   "execution_count": 29,
   "id": "844161ae-c584-4096-98f1-75003d44d11c",
   "metadata": {},
   "outputs": [
    {
     "data": {
      "text/plain": [
       "<Axes: xlabel='fare'>"
      ]
     },
     "execution_count": 29,
     "metadata": {},
     "output_type": "execute_result"
    },
    {
     "data": {
      "image/png": "[encoded data removed]",
      "text/plain": [
       "<Figure size 640x480 with 1 Axes>"
      ]
     },
     "metadata": {},
     "output_type": "display_data"
    }
   ],
   "source": [
    "sns.boxplot(data = df,x= \"fare\",hue = \"pclass\")"
   ]
  },
  {
   "cell_type": "code",
   "execution_count": null,
   "id": "348b5ab3-da70-4364-bc50-b8a4244a83df",
   "metadata": {},
   "outputs": [],
   "source": []
  },
  {
   "cell_type": "code",
   "execution_count": null,
   "id": "77d28f7f-db2a-499c-bc01-e7f4c4613a6f",
   "metadata": {},
   "outputs": [],
   "source": []
  },
  {
   "cell_type": "code",
   "execution_count": null,
   "id": "fe6079a8-f364-463e-9c37-f2fd1eb6e4bf",
   "metadata": {},
   "outputs": [],
   "source": []
  },
  {
   "cell_type": "code",
   "execution_count": null,
   "id": "7e7efce1-94d7-4b74-8a54-b465e1509f3f",
   "metadata": {},
   "outputs": [],
   "source": []
  },
  {
   "cell_type": "code",
   "execution_count": null,
   "id": "a2e05898-d3d1-4f49-a585-9c909442409b",
   "metadata": {},
   "outputs": [],
   "source": []
  },
  {
   "cell_type": "markdown",
   "id": "ee0b8d89-550c-4e45-84db-af5532ef2fd7",
   "metadata": {},
   "source": [
    "### **What is a Random Variable?**"
   ]
  },
  {
   "cell_type": "markdown",
   "id": "edc7c4e1-bcff-4cd2-8c9c-cc261360eb97",
   "metadata": {},
   "source": [
    "A **random variable** is a numerical representation of the outcomes of a random experiment. It assigns numbers to the possible outcomes, allowing us to analyze and calculate probabilities.\n",
    "\n",
    "---\n",
    "\n",
    "### **1. Discrete Random Variable**\n",
    "\n",
    "A **discrete random variable** is a random variable that takes on a **countable** number of distinct values. These values are often integers.\n",
    "\n",
    "#### **Key Characteristics**\n",
    "- The outcomes can be **listed or counted**.\n",
    "- It’s used for scenarios where you count things (e.g., people, occurrences, items).\n",
    "\n",
    "#### **Examples**\n",
    "1. **Number of Heads in 3 Coin Tosses**:\n",
    "   - Outcomes: $ 0, 1, 2, 3 $ heads.\n",
    "   - Random Variable ($ X $): Number of heads.\n",
    "   - $ X $ is discrete because it only takes on specific values: $ 0, 1, 2, $ or $ 3 $.\n",
    "\n",
    "2. **Number of Passengers in a Bus**:\n",
    "   - Possible values: $ 0, 1, 2, \\dots $.\n",
    "   - $ X $ is discrete because you can’t have 2.5 passengers.\n",
    "\n",
    "---\n",
    "\n",
    "### **2. Continuous Random Variable**\n",
    "\n",
    "A **continuous random variable** is a random variable that can take on an **infinite number of possible values** within a given range. These values are often real numbers.\n",
    "\n",
    "#### **Key Characteristics**\n",
    "- The outcomes are **measured** rather than counted.\n",
    "- It’s used for scenarios involving measurements (e.g., height, weight, temperature).\n",
    "\n",
    "#### **Examples**\n",
    "1. **Height of Students in a Class**:\n",
    "   - Possible values: $ 150.5 \\, \\text{cm}, 170.2 \\, \\text{cm}, 175.8 \\, \\text{cm}, \\dots $.\n",
    "   - Random Variable ($ X $): Height of a student.\n",
    "   - $ X $ is continuous because it can take any value within a range, like \\( 150.0 \\) to $ 200.0 \\, \\text{cm} $.\n",
    "\n",
    "2. **Time Taken to Finish a Race**:\n",
    "   - Possible values: $ 9.87 \\, \\text{seconds}, 10.25 \\, \\text{seconds}, 10.5 \\, \\text{seconds}, \\dots $.\n",
    "   - $ X $ is continuous because it can take any value in the range.\n",
    "\n",
    "---\n",
    "\n",
    "### **Key Differences: Discrete vs. Continuous**\n",
    "\n",
    "| **Feature**                | **Discrete Random Variable**               | **Continuous Random Variable**             |\n",
    "|----------------------------|--------------------------------------------|--------------------------------------------|\n",
    "| **Values**                 | Countable (e.g., 0, 1, 2, …)               | Infinite within a range (e.g., 0.1, 1.23)  |\n",
    "| **Example**                | Number of heads in coin tosses             | Height of students in a class              |\n",
    "| **Representation**         | Probability mass function (PMF)            | Probability density function (PDF)         |\n",
    "| **Key Operation**          | Probabilities for specific values          | Probabilities for ranges of values         |\n",
    "\n",
    "---\n",
    "\n",
    "### **Illustration Example**\n",
    "\n",
    "#### **Coin Toss (Discrete)**\n",
    "- Toss a coin 3 times.\n",
    "- Possible outcomes: $ 0, 1, 2, 3 $ heads.\n",
    "- Random Variable $ X $: Number of heads.\n",
    "\n",
    "#### **Height of Students (Continuous)**\n",
    "- Measure students’ heights.\n",
    "- Possible outcomes: Any value in a range like $ 150.0 \\, \\text{cm} \\) to \\( 200.0 \\, \\text{cm} $.\n",
    "- Random Variable $ Y $: Height.\n",
    "\n",
    "---\n",
    "\n",
    "\n",
    "### **Output Explanation**\n",
    "\n",
    "1. **Left Plot (Discrete Random Variable)**:\n",
    "   - Probabilities are shown for each possible value of $ X $ (e.g., $ P(X = 0), P(X = 1) $).\n",
    "\n",
    "2. **Right Plot (Continuous Random Variable)**:\n",
    "   - A smooth curve represents the probability density of heights.\n",
    "   - Probability is calculated for a range (e.g., between $ 160 $ and $ 180 $).\n",
    "\n",
    "---\n",
    "\n",
    "### **Key Takeaways**\n",
    "- **Discrete Random Variables** are for counting specific outcomes.\n",
    "- **Continuous Random Variables** are for measuring ranges of values.\n",
    "- Both are essential for analyzing real-world randomness in different ways.\n",
    "\n",
    "Let me know if you'd like to explore further examples! 😊"
   ]
  },
  {
   "cell_type": "code",
   "execution_count": null,
   "id": "7041a30f-8288-42f7-a8c2-22f579e3ed2f",
   "metadata": {},
   "outputs": [],
   "source": []
  },
  {
   "cell_type": "code",
   "execution_count": null,
   "id": "a25161e3-51e4-40f5-8241-34ef9bda3bc5",
   "metadata": {},
   "outputs": [],
   "source": []
  },
  {
   "cell_type": "code",
   "execution_count": null,
   "id": "3d3156e6-93cc-476c-a8ab-d54e97461cc8",
   "metadata": {},
   "outputs": [],
   "source": []
  },
  {
   "cell_type": "markdown",
   "id": "5af6e02b-8502-490a-ae41-44a90a8b1ada",
   "metadata": {},
   "source": [
    "\n",
    "\n",
    "### **How It Works**\n",
    "\n",
    "1. **The Experiment**:\n",
    "   - You flip a coin.\n",
    "   - Possible outcomes: Heads (H), Tails (T).\n",
    "\n",
    "2. **Defining the Random Variable**:\n",
    "   - Let’s call the random variable $ X$).\n",
    "   - $ X$) is a rule that assigns a **number** to each outcome:\n",
    "     - If Heads: $ X = 1$)\n",
    "     - If Tails: $ X = 0$)\n",
    "\n",
    "3. **Probability of the Random Variable**:\n",
    "   - Now, we calculate the probability of $ X$):\n",
    "     - $ P(X = 1) = 0.5$) (Heads happens in half the flips).\n",
    "     - $ P(X = 0) = 0.5$) (Tails happens in half the flips).\n",
    "\n",
    "So, in this case:\n",
    "- The **random variable** is $ X$).\n",
    "- The **probability** of $ X = 1$) (Heads) is $ 0.5$).\n",
    "\n",
    "---\n",
    "\n",
    "### **Why This Matters**\n",
    "\n",
    "A **random variable** is a way to:\n",
    "1. Assign numbers to random outcomes.\n",
    "2. Study the probabilities of those numbers.\n",
    "\n",
    "---\n",
    "\n",
    "### **In Simple Words**\n",
    "- The **random variable** is $ X = 1$) (Heads) and $ X = 0$) (Tails).\n",
    "- The **probability of $ X = 1$)** is $ 0.5$).\n",
    "\n"
   ]
  },
  {
   "cell_type": "code",
   "execution_count": 33,
   "id": "97b03d11-8476-4012-a6cb-dc6108f9d376",
   "metadata": {},
   "outputs": [
    {
     "data": {
      "text/plain": [
       "array([3, 1, 2], dtype=int64)"
      ]
     },
     "execution_count": 33,
     "metadata": {},
     "output_type": "execute_result"
    }
   ],
   "source": [
    "df[\"pclass\"].unique()"
   ]
  },
  {
   "cell_type": "code",
   "execution_count": null,
   "id": "dc74818a-6089-4fd1-b79b-c4ae90d584d6",
   "metadata": {},
   "outputs": [],
   "source": [
    "X = 1\n",
    "X = 2\n",
    "X = 3"
   ]
  },
  {
   "cell_type": "code",
   "execution_count": null,
   "id": "67ea506a-f725-489e-b2be-104c50e292d6",
   "metadata": {},
   "outputs": [],
   "source": []
  },
  {
   "cell_type": "code",
   "execution_count": null,
   "id": "171b2675-6a18-4d76-b1ce-aa5c4a63c806",
   "metadata": {},
   "outputs": [],
   "source": []
  },
  {
   "cell_type": "markdown",
   "id": "349b2213-1dbc-4def-9845-1bc7ab82c028",
   "metadata": {},
   "source": [
    "# **Random Variable Example: Passenger Class (Pclass) in Titanic Dataset**"
   ]
  },
  {
   "cell_type": "markdown",
   "id": "3e30cb04-5520-4eb1-8e62-02d4c31eb698",
   "metadata": {},
   "source": [
    "Let’s use the **Pclass** column in the Titanic dataset as an example of a random variable.\n",
    "\n",
    "---\n",
    "\n",
    "### **What Is the Random Experiment?**\n",
    "- The random experiment is selecting a passenger at random from the Titanic dataset.\n",
    "- Possible outcomes are the passenger classes: **1st class, 2nd class, 3rd class**.\n",
    "\n",
    "---\n",
    "\n",
    "### **Defining the Random Variable**\n",
    "We define a random variable \\( X \\) as the **Pclass** of the selected passenger. The values of \\( X \\) are:\n",
    "- \\( X = 1 \\): The passenger is in **1st class**.\n",
    "- \\( X = 2 \\): The passenger is in **2nd class**.\n",
    "- \\( X = 3 \\): The passenger is in **3rd class**.\n",
    "\n",
    "---\n",
    "\n",
    "### **Probability of the Random Variable**\n",
    "The probability of each value of \\( X \\) depends on how many passengers are in each class. For example:\n",
    "- $ P(X = 1) = \\frac{\\text{Number of passengers in 1st class}}{\\text{Total passengers}} $\n",
    "- $ P(X = 2) = \\frac{\\text{Number of passengers in 2nd class}}{\\text{Total passengers}} $\n",
    "- $ P(X = 3) = \\frac{\\text{Number of passengers in 3rd class}}{\\text{Total passengers}} $\n",
    "\n",
    "---"
   ]
  },
  {
   "cell_type": "code",
   "execution_count": 34,
   "id": "74218455-1758-4da5-a0ad-13c142e7966e",
   "metadata": {},
   "outputs": [],
   "source": [
    "tips = sns.load_dataset(\"tips\")"
   ]
  },
  {
   "cell_type": "code",
   "execution_count": 38,
   "id": "30539343-c090-4ba3-9935-ce3442400f4e",
   "metadata": {},
   "outputs": [
    {
     "ename": "SyntaxError",
     "evalue": "invalid syntax (356486175.py, line 3)",
     "output_type": "error",
     "traceback": [
      "\u001b[1;36m  Cell \u001b[1;32mIn[38], line 3\u001b[1;36m\u001b[0m\n\u001b[1;33m    X =\u001b[0m\n\u001b[1;37m        ^\u001b[0m\n\u001b[1;31mSyntaxError\u001b[0m\u001b[1;31m:\u001b[0m invalid syntax\n"
     ]
    }
   ],
   "source": [
    "tips[\"size\"].unique()\n",
    "\n",
    "X = 1      \n",
    "X = 5\n",
    "X = 6\n",
    "X = 2\n",
    "X = 3\n",
    "X = 4"
   ]
  },
  {
   "cell_type": "markdown",
   "id": "739b4241-ce41-49e6-8b5e-f10a3a89d2eb",
   "metadata": {},
   "source": [
    "### **Python Code Example**\n",
    "\n",
    "Let’s calculate the probabilities for $ X $ using the Titanic dataset."
   ]
  },
  {
   "cell_type": "code",
   "execution_count": 3,
   "id": "ed0d8a6e-3f4a-4eda-8b7a-3eb511472615",
   "metadata": {},
   "outputs": [
    {
     "name": "stdout",
     "output_type": "stream",
     "text": [
      "Frequency of Passenger Classes (Pclass):\n",
      "pclass\n",
      "3    491\n",
      "1    216\n",
      "2    184\n",
      "Name: count, dtype: int64\n",
      "\n",
      "Probability Distribution of Pclass:\n",
      "pclass\n",
      "3    0.551066\n",
      "1    0.242424\n",
      "2    0.206510\n",
      "Name: count, dtype: float64\n"
     ]
    }
   ],
   "source": [
    "import seaborn as sns\n",
    "import pandas as pd\n",
    "\n",
    "# Load Titanic dataset\n",
    "titanic = sns.load_dataset('titanic')\n",
    "\n",
    "# Frequency of each class (value counts for Pclass)\n",
    "pclass_counts = titanic['pclass'].value_counts()\n",
    "\n",
    "# Total number of passengers\n",
    "total_passengers = len(titanic)\n",
    "\n",
    "# Probability distribution of the random variable Pclass\n",
    "pclass_probabilities = pclass_counts / total_passengers\n",
    "\n",
    "# Display the results\n",
    "print(\"Frequency of Passenger Classes (Pclass):\")\n",
    "print(pclass_counts)\n",
    "\n",
    "print(\"\\nProbability Distribution of Pclass:\")\n",
    "print(pclass_probabilities)\n"
   ]
  },
  {
   "cell_type": "code",
   "execution_count": null,
   "id": "a3d98133-861f-4c2d-bc29-7843ebf1115d",
   "metadata": {},
   "outputs": [],
   "source": [
    "1st 491\n",
    "2nd 216\n",
    "3rd 184"
   ]
  },
  {
   "cell_type": "code",
   "execution_count": null,
   "id": "f6e2b5ff-cba7-4f12-b9bf-d2782231c235",
   "metadata": {},
   "outputs": [],
   "source": [
    "491/891\n",
    "216 / 891\n"
   ]
  },
  {
   "cell_type": "code",
   "execution_count": null,
   "id": "57015ca2-e4fd-4c56-b01a-8d40fdfe9c74",
   "metadata": {},
   "outputs": [],
   "source": []
  },
  {
   "cell_type": "markdown",
   "id": "fef04d86-2c62-43e8-9f61-84301ea835a0",
   "metadata": {},
   "source": [
    "### **Interpretation**\n",
    "\n",
    "1. The random variable$( X $ represents the **Pclass** of a passenger.\n",
    "2. The probabilities are:\n",
    "   - $ P(X = 3) = 0.551 $: About 55% of passengers are in 3rd class.\n",
    "   - $ P(X = 1) = 0.242 $: About 24% of passengers are in 1st class.\n",
    "   - $ P(X = 2) = 0.207 $: About 21% of passengers are in 2nd class.\n",
    "\n",
    "---\n",
    "\n",
    "### **Key Takeaways**\n",
    "- **Pclass** is treated as a **random variable** that takes values \\( 1, 2, \\) or \\( 3 \\).\n",
    "- We calculate the probability of each class by dividing its count by the total number of passengers.\n",
    "- This probability distribution helps us understand the likelihood of a passenger being in each class.\n",
    "\n",
    "Let me know if you'd like further clarification or a deeper dive into this example! 😊"
   ]
  },
  {
   "cell_type": "code",
   "execution_count": null,
   "id": "f5c6fe34-4ae6-488b-bf6b-83b8a5469a78",
   "metadata": {},
   "outputs": [],
   "source": []
  },
  {
   "cell_type": "code",
   "execution_count": null,
   "id": "3e2c990c-9071-4e7f-a1e0-89a4aae390db",
   "metadata": {},
   "outputs": [],
   "source": []
  },
  {
   "cell_type": "code",
   "execution_count": null,
   "id": "1d136756-3ad9-4bc6-b8ee-43b88742f99c",
   "metadata": {},
   "outputs": [],
   "source": []
  },
  {
   "cell_type": "markdown",
   "id": "10b88d9b-675a-492c-921d-3dc1c90247d5",
   "metadata": {},
   "source": [
    "### **What is a Probability Distribution?**\n",
    "\n",
    "A **probability distribution** describes how probabilities are assigned to all possible outcomes of a random variable. It shows the likelihood of each outcome occurring in a random experiment.\n",
    "\n",
    "---\n",
    "\n",
    "### **Key Components of a Probability Distribution**\n",
    "1. **Random Variable**:\n",
    "   - Represents the outcomes of an experiment (e.g., rolling a dice, flipping a coin).\n",
    "2. **Probabilities**:\n",
    "   - Each outcome is assigned a probability.\n",
    "   - The probabilities must satisfy:\n",
    "     - $ 0 \\leq P(X) \\leq 1 $\n",
    "     - The sum of all probabilities = \\( 1 \\).\n",
    "\n",
    "---\n",
    "\n",
    "### **Types of Probability Distributions**\n",
    "1. **Discrete Probability Distribution**:\n",
    "   - Deals with discrete random variables (countable outcomes).\n",
    "   - Example: Number of heads in 3 coin tosses.\n",
    "\n",
    "2. **Continuous Probability Distribution**:\n",
    "   - Deals with continuous random variables (infinite possible values within a range).\n",
    "   - Example: Heights of students in a class.\n",
    "\n",
    "---\n",
    "\n",
    "### **Simple Example: Discrete Probability Distribution**\n",
    "\n",
    "\n",
    "### **Simple Example: Continuous Probability Distribution**\n",
    "\n",
    "#### **Experiment**: Measure the heights of students in a class.\n",
    "\n",
    "1. **Random Variable ($ X $)**: Height of a student.\n",
    "\n",
    "2. **Possible Values**:\n",
    "   - Any value within a range, e.g., $ 150.0 \\, \\text{cm} $ to \\$200.0 \\, \\text{cm} $.\n",
    "\n",
    "3. **Probability Distribution**:\n",
    "   - Represented by a **probability density function (PDF)**.\n",
    "   - Example: A **normal distribution** (bell curve):\n",
    "     - Most students have heights near the average (e.g., $ 170 \\, \\text{cm} $).\n",
    "     - Fewer students are very short or very tall.\n",
    "\n",
    "---\n",
    "\n",
    "### **Visualization of Probability Distributions**"
   ]
  },
  {
   "cell_type": "markdown",
   "id": "c47e33fe-2c87-42c1-9920-5ee0147d865c",
   "metadata": {},
   "source": [
    "#### **Python Code Example**"
   ]
  },
  {
   "cell_type": "markdown",
   "id": "4689fa4b-c1c3-4516-b38c-aca8b75e93d3",
   "metadata": {},
   "source": [
    "### **Key Takeaways**\n",
    "1. A **probability distribution** describes how probabilities are spread across possible outcomes.\n",
    "2. **Discrete Distributions** deal with countable outcomes (e.g., heads in coin tosses).\n",
    "3. **Continuous Distributions** deal with measurable values (e.g., heights, weights).\n",
    "4. The total probability for all outcomes must equal **1**.\n",
    "\n",
    "Let me know if this clarifies probability distributions or if you’d like further examples! 😊"
   ]
  },
  {
   "cell_type": "code",
   "execution_count": null,
   "id": "9a0b039e-cfbe-4e24-846d-c676f0b8d8dd",
   "metadata": {},
   "outputs": [],
   "source": []
  },
  {
   "cell_type": "code",
   "execution_count": null,
   "id": "1a89743f-0925-4b35-87de-6c29671feacf",
   "metadata": {},
   "outputs": [],
   "source": []
  },
  {
   "cell_type": "markdown",
   "id": "c866a3ea-d406-4c08-9c00-de6267333573",
   "metadata": {},
   "source": [
    "### **What is a Normal Distribution?**\n",
    "\n",
    "The **normal distribution**, also known as the **Gaussian distribution** or **bell curve**, is one of the most important probability distributions in statistics. It describes how data is distributed around the mean, with most data points concentrated near the mean and fewer data points as you move further away.\n",
    "\n",
    "---\n",
    "\n",
    "### **Characteristics of a Normal Distribution**\n",
    "\n",
    "1. **Shape**:\n",
    "   - The curve is symmetric and bell-shaped.\n",
    "   - It is highest at the mean and tapers off as you move further away.\n",
    "\n",
    "2. **Mean, Median, and Mode**:\n",
    "   - For a normal distribution, the **mean**, **median**, and **mode** are all equal and located at the center.\n",
    "\n",
    "3. **Symmetry**:\n",
    "   - The left and right sides of the curve are mirror images.\n",
    "\n",
    "4. **Standard Deviation ($ \\sigma $)**:\n",
    "   - Determines the spread of the distribution.\n",
    "   - A smaller $ \\sigma $ makes the curve narrower, while a larger \\$\\sigma $ makes it wider.\n",
    "\n",
    "5. **Empirical Rule**:\n",
    "   - **68%** of the data lies within 1 standard deviation of the mean $( \\mu \\pm \\sigma $.\n",
    "   - **95%** lies within 2 standard deviations ($ \\mu \\pm 2\\sigma $).\n",
    "   - **99.7%** lies within 3 standard deviations ($ \\mu \\pm 3\\sigma $).\n",
    "\n",
    "---\n",
    "\n",
    "### **Probability Density Function (PDF)**\n",
    "\n",
    "The probability density function of a normal distribution is given by:\n",
    "\n",
    "$\n",
    "f(x) = \\frac{1}{\\sqrt{2\\pi\\sigma^2}} e^{-\\frac{(x - \\mu)^2}{2\\sigma^2}}\n",
    "$\n",
    "\n",
    "Where:\n",
    "- $ x $: Value of the random variable.\n",
    "- $ \\mu $: Mean of the distribution.\n",
    "- $ \\sigma $: Standard deviation of the distribution.\n",
    "- $ \\pi $ and $ e $: Mathematical constants.\n",
    "\n",
    "The PDF shows the relative likelihood of different outcomes but does **not** give probabilities directly. Probabilities are calculated as areas under the curve.\n",
    "\n",
    "---\n",
    "\n",
    "### **Real-Life Examples of Normal Distribution**\n",
    "\n",
    "1. **Human Heights**:\n",
    "   - Most people have heights close to the average, with fewer very short or very tall people.\n",
    "2. **IQ Scores**:\n",
    "   - IQ scores typically have a mean of 100 and a standard deviation of 15.\n",
    "3. **Measurement Errors**:\n",
    "   - Errors in scientific experiments often follow a normal distribution."
   ]
  },
  {
   "cell_type": "code",
   "execution_count": null,
   "id": "e434d00f-99ad-4861-83ea-8a74b1905ef5",
   "metadata": {},
   "outputs": [],
   "source": []
  },
  {
   "cell_type": "code",
   "execution_count": null,
   "id": "aff5136a-6159-4a69-aa68-e0e6b23dea51",
   "metadata": {},
   "outputs": [],
   "source": []
  },
  {
   "cell_type": "code",
   "execution_count": null,
   "id": "d8dd6e96-3ce5-4c6b-ad25-d9831fdf3b97",
   "metadata": {},
   "outputs": [],
   "source": []
  },
  {
   "cell_type": "code",
   "execution_count": null,
   "id": "428ec864-c447-4527-b629-818f66ab0497",
   "metadata": {},
   "outputs": [],
   "source": []
  },
  {
   "cell_type": "code",
   "execution_count": 42,
   "id": "f1257faa-e78e-44d6-bac3-a93f58e7db56",
   "metadata": {},
   "outputs": [
    {
     "data": {
      "text/html": [
       "<div>\n",
       "<style scoped>\n",
       "    .dataframe tbody tr th:only-of-type {\n",
       "        vertical-align: middle;\n",
       "    }\n",
       "\n",
       "    .dataframe tbody tr th {\n",
       "        vertical-align: top;\n",
       "    }\n",
       "\n",
       "    .dataframe thead th {\n",
       "        text-align: right;\n",
       "    }\n",
       "</style>\n",
       "<table border=\"1\" class=\"dataframe\">\n",
       "  <thead>\n",
       "    <tr style=\"text-align: right;\">\n",
       "      <th></th>\n",
       "      <th>survived</th>\n",
       "      <th>pclass</th>\n",
       "      <th>sex</th>\n",
       "      <th>age</th>\n",
       "      <th>sibsp</th>\n",
       "      <th>parch</th>\n",
       "      <th>fare</th>\n",
       "      <th>embarked</th>\n",
       "      <th>class</th>\n",
       "      <th>who</th>\n",
       "      <th>adult_male</th>\n",
       "      <th>deck</th>\n",
       "      <th>embark_town</th>\n",
       "      <th>alive</th>\n",
       "      <th>alone</th>\n",
       "    </tr>\n",
       "  </thead>\n",
       "  <tbody>\n",
       "    <tr>\n",
       "      <th>0</th>\n",
       "      <td>0</td>\n",
       "      <td>3</td>\n",
       "      <td>male</td>\n",
       "      <td>22.0</td>\n",
       "      <td>1</td>\n",
       "      <td>0</td>\n",
       "      <td>7.2500</td>\n",
       "      <td>S</td>\n",
       "      <td>Third</td>\n",
       "      <td>man</td>\n",
       "      <td>True</td>\n",
       "      <td>NaN</td>\n",
       "      <td>Southampton</td>\n",
       "      <td>no</td>\n",
       "      <td>False</td>\n",
       "    </tr>\n",
       "    <tr>\n",
       "      <th>1</th>\n",
       "      <td>1</td>\n",
       "      <td>1</td>\n",
       "      <td>female</td>\n",
       "      <td>38.0</td>\n",
       "      <td>1</td>\n",
       "      <td>0</td>\n",
       "      <td>71.2833</td>\n",
       "      <td>C</td>\n",
       "      <td>First</td>\n",
       "      <td>woman</td>\n",
       "      <td>False</td>\n",
       "      <td>C</td>\n",
       "      <td>Cherbourg</td>\n",
       "      <td>yes</td>\n",
       "      <td>False</td>\n",
       "    </tr>\n",
       "    <tr>\n",
       "      <th>2</th>\n",
       "      <td>1</td>\n",
       "      <td>3</td>\n",
       "      <td>female</td>\n",
       "      <td>26.0</td>\n",
       "      <td>0</td>\n",
       "      <td>0</td>\n",
       "      <td>7.9250</td>\n",
       "      <td>S</td>\n",
       "      <td>Third</td>\n",
       "      <td>woman</td>\n",
       "      <td>False</td>\n",
       "      <td>NaN</td>\n",
       "      <td>Southampton</td>\n",
       "      <td>yes</td>\n",
       "      <td>True</td>\n",
       "    </tr>\n",
       "    <tr>\n",
       "      <th>3</th>\n",
       "      <td>1</td>\n",
       "      <td>1</td>\n",
       "      <td>female</td>\n",
       "      <td>35.0</td>\n",
       "      <td>1</td>\n",
       "      <td>0</td>\n",
       "      <td>53.1000</td>\n",
       "      <td>S</td>\n",
       "      <td>First</td>\n",
       "      <td>woman</td>\n",
       "      <td>False</td>\n",
       "      <td>C</td>\n",
       "      <td>Southampton</td>\n",
       "      <td>yes</td>\n",
       "      <td>False</td>\n",
       "    </tr>\n",
       "    <tr>\n",
       "      <th>4</th>\n",
       "      <td>0</td>\n",
       "      <td>3</td>\n",
       "      <td>male</td>\n",
       "      <td>35.0</td>\n",
       "      <td>0</td>\n",
       "      <td>0</td>\n",
       "      <td>8.0500</td>\n",
       "      <td>S</td>\n",
       "      <td>Third</td>\n",
       "      <td>man</td>\n",
       "      <td>True</td>\n",
       "      <td>NaN</td>\n",
       "      <td>Southampton</td>\n",
       "      <td>no</td>\n",
       "      <td>True</td>\n",
       "    </tr>\n",
       "  </tbody>\n",
       "</table>\n",
       "</div>"
      ],
      "text/plain": [
       "   survived  pclass     sex   age  sibsp  parch     fare embarked  class  \\\n",
       "0         0       3    male  22.0      1      0   7.2500        S  Third   \n",
       "1         1       1  female  38.0      1      0  71.2833        C  First   \n",
       "2         1       3  female  26.0      0      0   7.9250        S  Third   \n",
       "3         1       1  female  35.0      1      0  53.1000        S  First   \n",
       "4         0       3    male  35.0      0      0   8.0500        S  Third   \n",
       "\n",
       "     who  adult_male deck  embark_town alive  alone  \n",
       "0    man        True  NaN  Southampton    no  False  \n",
       "1  woman       False    C    Cherbourg   yes  False  \n",
       "2  woman       False  NaN  Southampton   yes   True  \n",
       "3  woman       False    C  Southampton   yes  False  \n",
       "4    man        True  NaN  Southampton    no   True  "
      ]
     },
     "execution_count": 42,
     "metadata": {},
     "output_type": "execute_result"
    }
   ],
   "source": [
    "df.head()"
   ]
  },
  {
   "cell_type": "code",
   "execution_count": 44,
   "id": "89575aa2-0053-4650-9dbe-1d0b1be92366",
   "metadata": {},
   "outputs": [
    {
     "data": {
      "text/plain": [
       "sex\n",
       "male      0.647587\n",
       "female    0.352413\n",
       "Name: proportion, dtype: float64"
      ]
     },
     "execution_count": 44,
     "metadata": {},
     "output_type": "execute_result"
    }
   ],
   "source": [
    "df[\"sex\"].value_counts(normalize=True)"
   ]
  },
  {
   "cell_type": "code",
   "execution_count": 45,
   "id": "323917c2-b23a-48ce-8e17-66becd33bf44",
   "metadata": {},
   "outputs": [
    {
     "data": {
      "text/plain": [
       "array(['male', 'female'], dtype=object)"
      ]
     },
     "execution_count": 45,
     "metadata": {},
     "output_type": "execute_result"
    }
   ],
   "source": [
    "df[\"sex\"].unique()"
   ]
  },
  {
   "cell_type": "code",
   "execution_count": 47,
   "id": "dc38f566-6b90-415e-83c0-c6e83100ba2a",
   "metadata": {},
   "outputs": [
    {
     "data": {
      "text/plain": [
       "array([  7.25  ,  71.2833,   7.925 ,  53.1   ,   8.05  ,   8.4583,\n",
       "        51.8625,  21.075 ,  11.1333,  30.0708,  16.7   ,  26.55  ,\n",
       "        31.275 ,   7.8542,  16.    ,  29.125 ,  13.    ,  18.    ,\n",
       "         7.225 ,  26.    ,   8.0292,  35.5   ,  31.3875, 263.    ,\n",
       "         7.8792,   7.8958,  27.7208, 146.5208,   7.75  ,  10.5   ,\n",
       "        82.1708,  52.    ,   7.2292,  11.2417,   9.475 ,  21.    ,\n",
       "        41.5792,  15.5   ,  21.6792,  17.8   ,  39.6875,   7.8   ,\n",
       "        76.7292,  61.9792,  27.75  ,  46.9   ,  80.    ,  83.475 ,\n",
       "        27.9   ,  15.2458,   8.1583,   8.6625,  73.5   ,  14.4542,\n",
       "        56.4958,   7.65  ,  29.    ,  12.475 ,   9.    ,   9.5   ,\n",
       "         7.7875,  47.1   ,  15.85  ,  34.375 ,  61.175 ,  20.575 ,\n",
       "        34.6542,  63.3583,  23.    ,  77.2875,   8.6542,   7.775 ,\n",
       "        24.15  ,   9.825 ,  14.4583, 247.5208,   7.1417,  22.3583,\n",
       "         6.975 ,   7.05  ,  14.5   ,  15.0458,  26.2833,   9.2167,\n",
       "        79.2   ,   6.75  ,  11.5   ,  36.75  ,   7.7958,  12.525 ,\n",
       "        66.6   ,   7.3125,  61.3792,   7.7333,  69.55  ,  16.1   ,\n",
       "        15.75  ,  20.525 ,  55.    ,  25.925 ,  33.5   ,  30.6958,\n",
       "        25.4667,  28.7125,   0.    ,  15.05  ,  39.    ,  22.025 ,\n",
       "        50.    ,   8.4042,   6.4958,  10.4625,  18.7875,  31.    ,\n",
       "       113.275 ,  27.    ,  76.2917,  90.    ,   9.35  ,  13.5   ,\n",
       "         7.55  ,  26.25  ,  12.275 ,   7.125 ,  52.5542,  20.2125,\n",
       "        86.5   , 512.3292,  79.65  , 153.4625, 135.6333,  19.5   ,\n",
       "        29.7   ,  77.9583,  20.25  ,  78.85  ,  91.0792,  12.875 ,\n",
       "         8.85  , 151.55  ,  30.5   ,  23.25  ,  12.35  , 110.8833,\n",
       "       108.9   ,  24.    ,  56.9292,  83.1583, 262.375 ,  14.    ,\n",
       "       164.8667, 134.5   ,   6.2375,  57.9792,  28.5   , 133.65  ,\n",
       "        15.9   ,   9.225 ,  35.    ,  75.25  ,  69.3   ,  55.4417,\n",
       "       211.5   ,   4.0125, 227.525 ,  15.7417,   7.7292,  12.    ,\n",
       "       120.    ,  12.65  ,  18.75  ,   6.8583,  32.5   ,   7.875 ,\n",
       "        14.4   ,  55.9   ,   8.1125,  81.8583,  19.2583,  19.9667,\n",
       "        89.1042,  38.5   ,   7.725 ,  13.7917,   9.8375,   7.0458,\n",
       "         7.5208,  12.2875,   9.5875,  49.5042,  78.2667,  15.1   ,\n",
       "         7.6292,  22.525 ,  26.2875,  59.4   ,   7.4958,  34.0208,\n",
       "        93.5   , 221.7792, 106.425 ,  49.5   ,  71.    ,  13.8625,\n",
       "         7.8292,  39.6   ,  17.4   ,  51.4792,  26.3875,  30.    ,\n",
       "        40.125 ,   8.7125,  15.    ,  33.    ,  42.4   ,  15.55  ,\n",
       "        65.    ,  32.3208,   7.0542,   8.4333,  25.5875,   9.8417,\n",
       "         8.1375,  10.1708, 211.3375,  57.    ,  13.4167,   7.7417,\n",
       "         9.4833,   7.7375,   8.3625,  23.45  ,  25.9292,   8.6833,\n",
       "         8.5167,   7.8875,  37.0042,   6.45  ,   6.95  ,   8.3   ,\n",
       "         6.4375,  39.4   ,  14.1083,  13.8583,  50.4958,   5.    ,\n",
       "         9.8458,  10.5167])"
      ]
     },
     "execution_count": 47,
     "metadata": {},
     "output_type": "execute_result"
    }
   ],
   "source": [
    "df[\"fare\"].unique()"
   ]
  },
  {
   "cell_type": "code",
   "execution_count": 48,
   "id": "32425149-c38b-429e-885d-4693e7b10836",
   "metadata": {},
   "outputs": [
    {
     "data": {
      "text/plain": [
       "fare\n",
       "8.0500     0.048260\n",
       "13.0000    0.047138\n",
       "7.8958     0.042649\n",
       "7.7500     0.038159\n",
       "26.0000    0.034792\n",
       "             ...   \n",
       "35.0000    0.001122\n",
       "28.5000    0.001122\n",
       "6.2375     0.001122\n",
       "14.0000    0.001122\n",
       "10.5167    0.001122\n",
       "Name: proportion, Length: 248, dtype: float64"
      ]
     },
     "execution_count": 48,
     "metadata": {},
     "output_type": "execute_result"
    }
   ],
   "source": [
    "df[\"fare\"].value_counts(normalize=True)"
   ]
  },
  {
   "cell_type": "code",
   "execution_count": null,
   "id": "3dc17a74-e4b8-4896-be7b-dfce9c1bede0",
   "metadata": {},
   "outputs": [],
   "source": []
  },
  {
   "cell_type": "code",
   "execution_count": null,
   "id": "b4c350be-74c3-4bc8-b6f7-16b7bfc134fb",
   "metadata": {},
   "outputs": [],
   "source": []
  },
  {
   "cell_type": "markdown",
   "id": "225b9448-c0fb-48fc-be9c-aea71d888dd1",
   "metadata": {},
   "source": [
    "---\n",
    "\n",
    "### **Visualizing a Normal Distribution**"
   ]
  },
  {
   "cell_type": "markdown",
   "id": "e2261a3e-4961-4c78-baf4-3a3e99707568",
   "metadata": {},
   "source": [
    "---\n",
    "\n",
    "### **What You'll See**\n",
    "\n",
    "1. A **bell curve** centered at $ \\mu = 0 $.\n",
    "2. Vertical lines marking:\n",
    "   - $ \\mu $ (mean, center of the curve).\n",
    "   - $ \\mu \\pm \\sigma $ (68% of data within this range).\n",
    "   - $ \\mu \\pm 2\\sigma $ (95% of data within this range).\n",
    "   - $ \\mu \\pm 3\\sigma $ (99.7% of data within this range).\n",
    "\n",
    "---\n",
    "\n",
    "### **Key Properties of Normal Distribution**\n",
    "\n",
    "1. **Symmetry**:\n",
    "   - Perfectly symmetric around the mean.\n",
    "\n",
    "2. **Standard Deviation and Spread**:\n",
    "   - A larger $ \\sigma $ means the data is more spread out.\n",
    "   - A smaller $ \\sigma $ means the data is tightly concentrated near the mean.\n",
    "\n",
    "3. **Area Under the Curve**:\n",
    "   - The total area under the curve is $ 1 $, representing 100% probability.\n",
    "\n",
    "4. **Z-Scores**:\n",
    "   - Standardized values ($ Z $-scores) represent how many standard deviations a data point is from the mean.\n",
    "\n",
    "---\n",
    "\n",
    "### **Key Takeaways**\n",
    "\n",
    "1. **Normal distribution is the backbone of statistics**:\n",
    "   - It models many natural phenomena and measurement errors.\n",
    "\n",
    "2. **It is symmetric and predictable**:\n",
    "   - The Empirical Rule (68-95-99.7) provides a quick way to understand the spread of data.\n",
    "\n",
    "3. **Understanding the parameters**:\n",
    "   - The mean ($ \\mu $) defines the center.\n",
    "   - The standard deviation ($ \\sigma $) defines the spread.\n",
    "\n",
    "Let me know if you’d like further explanations or examples! 😊"
   ]
  },
  {
   "cell_type": "code",
   "execution_count": null,
   "id": "47138601-ade6-4b34-af6e-2d3846805c95",
   "metadata": {},
   "outputs": [],
   "source": []
  }
 ],
 "metadata": {
  "kernelspec": {
   "display_name": "Python 3 (ipykernel)",
   "language": "python",
   "name": "python3"
  },
  "language_info": {
   "codemirror_mode": {
    "name": "ipython",
    "version": 3
   },
   "file_extension": ".py",
   "mimetype": "text/x-python",
   "name": "python",
   "nbconvert_exporter": "python",
   "pygments_lexer": "ipython3",
   "version": "3.12.4"
  }
 },
 "nbformat": 4,
 "nbformat_minor": 5
}
