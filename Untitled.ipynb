{
 "cells": [
  {
   "cell_type": "code",
   "execution_count": 1,
   "id": "8a0e60f6-15b1-451d-b976-1f5b0525e2ee",
   "metadata": {},
   "outputs": [
    {
     "name": "stdout",
     "output_type": "stream",
     "text": [
      "0\n",
      "1\n",
      "2\n",
      "3\n",
      "4\n",
      "5\n"
     ]
    }
   ],
   "source": [
    "i=0\n",
    "while i<=5:\n",
    "    print(i)\n",
    "    i+=1"
   ]
  },
  {
   "cell_type": "code",
   "execution_count": 3,
   "id": "10be4a59-0fb5-4a26-9272-96175729bfa3",
   "metadata": {},
   "outputs": [
    {
     "name": "stdout",
     "output_type": "stream",
     "text": [
      "0\n",
      "1\n",
      "2\n",
      "3\n",
      "4\n"
     ]
    }
   ],
   "source": [
    "i=0\n",
    "while i<5:\n",
    "    print(i)\n",
    "    i+=1"
   ]
  },
  {
   "cell_type": "code",
   "execution_count": 5,
   "id": "23811c4f-ee83-4bcb-ab9b-f9d6a9b95578",
   "metadata": {},
   "outputs": [
    {
     "name": "stdout",
     "output_type": "stream",
     "text": [
      "0\n",
      "1\n",
      "2\n",
      "3\n",
      "4\n",
      "5\n"
     ]
    }
   ],
   "source": [
    "i=0\n",
    "while i<=5:\n",
    "    print(i)\n",
    "    i+=1"
   ]
  },
  {
   "cell_type": "code",
   "execution_count": 7,
   "id": "a5b99d34-3a0b-4613-aede-4489354ebd55",
   "metadata": {},
   "outputs": [
    {
     "name": "stdout",
     "output_type": "stream",
     "text": [
      "0\n",
      "1\n",
      "2\n",
      "3\n",
      "4\n"
     ]
    }
   ],
   "source": [
    "i=0\n",
    "while i<5:\n",
    "    print(i)\n",
    "    i+=1"
   ]
  },
  {
   "cell_type": "code",
   "execution_count": 9,
   "id": "1a285db4-1f28-49fd-8e29-bf27aa423402",
   "metadata": {},
   "outputs": [
    {
     "name": "stdout",
     "output_type": "stream",
     "text": [
      "1\n",
      "2\n",
      "3\n",
      "4\n",
      "5\n"
     ]
    }
   ],
   "source": [
    "i=1\n",
    "while i<=5:\n",
    "    print(i)\n",
    "    i+=1"
   ]
  },
  {
   "cell_type": "code",
   "execution_count": 11,
   "id": "e327e135-b923-46e5-b149-e9e3f8a2a02d",
   "metadata": {},
   "outputs": [
    {
     "name": "stdout",
     "output_type": "stream",
     "text": [
      "Rishabh\n",
      "Rishabh\n",
      "Rishabh\n",
      "Rishabh\n",
      "Rishabh\n"
     ]
    }
   ],
   "source": [
    "string=\"Rishabh\"\n",
    "\n",
    "\n",
    "i=0\n",
    "while i<5:\n",
    "    print(string)\n",
    "    i+=1"
   ]
  },
  {
   "cell_type": "code",
   "execution_count": 13,
   "id": "2b6f0ec8-2388-4a4d-8e16-9d6b97faf1cc",
   "metadata": {},
   "outputs": [
    {
     "name": "stdout",
     "output_type": "stream",
     "text": [
      "Rishabh\n",
      "Rishabh\n",
      "Rishabh\n"
     ]
    }
   ],
   "source": [
    "i=0\n",
    "while i<5:\n",
    "    print(string)\n",
    "    i+=2"
   ]
  },
  {
   "cell_type": "code",
   "execution_count": 15,
   "id": "81265d2d-ce2e-402f-b5a1-f64195f0dbaa",
   "metadata": {},
   "outputs": [
    {
     "name": "stdout",
     "output_type": "stream",
     "text": [
      "Rishabh\n",
      "Rishabh\n"
     ]
    }
   ],
   "source": [
    "string=\"Rishabh\"\n",
    "\n",
    "\n",
    "i=0\n",
    "while i<5:\n",
    "    print(string)\n",
    "    i+=3"
   ]
  },
  {
   "cell_type": "code",
   "execution_count": 17,
   "id": "80ef894e-1726-4dc3-a5a3-e4238f4bd42d",
   "metadata": {},
   "outputs": [
    {
     "name": "stdout",
     "output_type": "stream",
     "text": [
      "Rishabh\n",
      "Rishabh\n",
      "Rishabh\n"
     ]
    }
   ],
   "source": [
    "string=\"Rishabh\"\n",
    "\n",
    "\n",
    "i=0\n",
    "while i<5:\n",
    "    print(string)\n",
    "    i+=2"
   ]
  },
  {
   "cell_type": "code",
   "execution_count": 19,
   "id": "137cb632-f7c0-4365-ad07-c6156d18f3f2",
   "metadata": {},
   "outputs": [
    {
     "ename": "IndentationError",
     "evalue": "unexpected indent (3769488469.py, line 2)",
     "output_type": "error",
     "traceback": [
      "\u001b[1;36m  Cell \u001b[1;32mIn[19], line 2\u001b[1;36m\u001b[0m\n\u001b[1;33m    def area(length,breadth):\u001b[0m\n\u001b[1;37m    ^\u001b[0m\n\u001b[1;31mIndentationError\u001b[0m\u001b[1;31m:\u001b[0m unexpected indent\n"
     ]
    }
   ],
   "source": [
    "### Funtions\n",
    " def area(length,breadth):\n",
    "     return length*breadth\n",
    "\n",
    "length =10\n",
    "breadth =15\n",
    "\n",
    "area_rectangle=area(length,breadth)\n",
    "print(area_rectangle)"
   ]
  },
  {
   "cell_type": "code",
   "execution_count": 21,
   "id": "cd013193-324a-4142-ad77-db0d0f7db1be",
   "metadata": {},
   "outputs": [
    {
     "ename": "IndentationError",
     "evalue": "unexpected indent (3769488469.py, line 2)",
     "output_type": "error",
     "traceback": [
      "\u001b[1;36m  Cell \u001b[1;32mIn[21], line 2\u001b[1;36m\u001b[0m\n\u001b[1;33m    def area(length,breadth):\u001b[0m\n\u001b[1;37m    ^\u001b[0m\n\u001b[1;31mIndentationError\u001b[0m\u001b[1;31m:\u001b[0m unexpected indent\n"
     ]
    }
   ],
   "source": [
    "### Funtions\n",
    " def area(length,breadth):\n",
    "     return length*breadth\n",
    "\n",
    "length =10\n",
    "breadth =15\n",
    "\n",
    "area_rectangle=area(length,breadth)\n",
    "print(area_rectangle)"
   ]
  },
  {
   "cell_type": "code",
   "execution_count": 23,
   "id": "04f76a5f-55ec-4fa1-8169-2388deeecfa3",
   "metadata": {},
   "outputs": [
    {
     "ename": "IndentationError",
     "evalue": "unexpected indent (3769488469.py, line 2)",
     "output_type": "error",
     "traceback": [
      "\u001b[1;36m  Cell \u001b[1;32mIn[23], line 2\u001b[1;36m\u001b[0m\n\u001b[1;33m    def area(length,breadth):\u001b[0m\n\u001b[1;37m    ^\u001b[0m\n\u001b[1;31mIndentationError\u001b[0m\u001b[1;31m:\u001b[0m unexpected indent\n"
     ]
    }
   ],
   "source": [
    "### Funtions\n",
    " def area(length,breadth):\n",
    "     return length*breadth\n",
    "\n",
    "length =10\n",
    "breadth =15\n",
    "\n",
    "area_rectangle=area(length,breadth)\n",
    "print(area_rectangle)"
   ]
  },
  {
   "cell_type": "code",
   "execution_count": 25,
   "id": "45c33c47-282d-46cc-80b5-40954ce3736d",
   "metadata": {},
   "outputs": [
    {
     "ename": "IndentationError",
     "evalue": "unexpected indent (3769488469.py, line 2)",
     "output_type": "error",
     "traceback": [
      "\u001b[1;36m  Cell \u001b[1;32mIn[25], line 2\u001b[1;36m\u001b[0m\n\u001b[1;33m    def area(length,breadth):\u001b[0m\n\u001b[1;37m    ^\u001b[0m\n\u001b[1;31mIndentationError\u001b[0m\u001b[1;31m:\u001b[0m unexpected indent\n"
     ]
    }
   ],
   "source": [
    "### Funtions\n",
    " def area(length,breadth):\n",
    "     return length*breadth\n",
    "\n",
    "length =10\n",
    "breadth =15\n",
    "\n",
    "area_rectangle=area(length,breadth)\n",
    "print(area_rectangle)"
   ]
  },
  {
   "cell_type": "code",
   "execution_count": 27,
   "id": "8d0d7ff0-6b62-4422-9317-bb461e2c72cb",
   "metadata": {},
   "outputs": [
    {
     "name": "stdout",
     "output_type": "stream",
     "text": [
      "153.86\n"
     ]
    }
   ],
   "source": [
    "def area_circle(radius):\n",
    "    return 3.14*radius*radius\n",
    "print(area_circle(7)) \n",
    "    "
   ]
  },
  {
   "cell_type": "code",
   "execution_count": 29,
   "id": "61fc80b8-74cd-4d95-b470-f3e20f464f72",
   "metadata": {},
   "outputs": [
    {
     "data": {
      "text/plain": [
       "706.5"
      ]
     },
     "execution_count": 29,
     "metadata": {},
     "output_type": "execute_result"
    }
   ],
   "source": [
    "area_circle(15)"
   ]
  },
  {
   "cell_type": "code",
   "execution_count": 31,
   "id": "3f34a399-aca2-4678-8e2f-57862622792e",
   "metadata": {},
   "outputs": [
    {
     "ename": "NameError",
     "evalue": "name 'area_ciecle' is not defined",
     "output_type": "error",
     "traceback": [
      "\u001b[1;31m---------------------------------------------------------------------------\u001b[0m",
      "\u001b[1;31mNameError\u001b[0m                                 Traceback (most recent call last)",
      "Cell \u001b[1;32mIn[31], line 1\u001b[0m\n\u001b[1;32m----> 1\u001b[0m area_ciecle(\u001b[38;5;241m100\u001b[39m)\n",
      "\u001b[1;31mNameError\u001b[0m: name 'area_ciecle' is not defined"
     ]
    }
   ],
   "source": [
    "area_ciecle(100)"
   ]
  },
  {
   "cell_type": "markdown",
   "id": "0e6d81aa-9a8d-4fdb-abe8-b1dc878928e4",
   "metadata": {},
   "source": [
    "#### self - assessment 3:\n",
    "\n",
    "https://github.com/Premalatha-success/Datasets/blob/main/world%20Happiness%20Report.csvm"
   ]
  },
  {
   "cell_type": "code",
   "execution_count": null,
   "id": "fd8dd8e4-01c0-4510-855b-b5c43c24100d",
   "metadata": {},
   "outputs": [],
   "source": []
  }
 ],
 "metadata": {
  "kernelspec": {
   "display_name": "Python 3 (ipykernel)",
   "language": "python",
   "name": "python3"
  },
  "language_info": {
   "codemirror_mode": {
    "name": "ipython",
    "version": 3
   },
   "file_extension": ".py",
   "mimetype": "text/x-python",
   "name": "python",
   "nbconvert_exporter": "python",
   "pygments_lexer": "ipython3",
   "version": "3.12.4"
  }
 },
 "nbformat": 4,
 "nbformat_minor": 5
}
